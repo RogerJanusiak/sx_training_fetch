{
 "cells": [
  {
   "cell_type": "markdown",
   "metadata": {},
   "source": [
    "# Fetch\n",
    "\n",
    "Some dirt code to fetch data from UChicago that we need for training. The plan is to get this working and then turn it into something \"production\"\n",
    "\n",
    "NOTE: for now we need to use an older version of `uproot` and `awkward` - due to an internal bug."
   ]
  },
  {
   "cell_type": "markdown",
   "metadata": {},
   "source": [
    "## Imports"
   ]
  },
  {
   "cell_type": "code",
   "execution_count": 1,
   "metadata": {},
   "outputs": [
    {
     "name": "stdout",
     "output_type": "stream",
     "text": [
      "Using release 21.2.231\n"
     ]
    }
   ],
   "source": [
    "from func_adl_servicex_xaodr21 import atlas_release\n",
    "from func_adl_servicex_xaodr21 import SXDSAtlasxAODR21\n",
    "\n",
    "print(f'Using release {atlas_release}')"
   ]
  },
  {
   "cell_type": "markdown",
   "metadata": {},
   "source": [
    "## Datasets\n",
    "\n",
    "The datasets we can find right now... Here are a few lists. Here is what we are using officially for the analysis.\n",
    "\n",
    "```\n",
    "┏━━━━━━━━━━━━━━━━━━━━━━━━━━━━━━━━━━━━━━━━━━━━━━━━━━━━━━━━━━━━━━━━━━━━━━━━━━━━━━━━━━━━━━━━━━━━━━━━━━━━━━━━━━━━━━━━━━━━━━━━━━━━━━━━━━━┳━━━━━━━┳━━━━━━━┳━━━━━━━━━━━━┓\n",
    "┃ Name                                                                                                                              ┃ Files ┃ Tag   ┃ Cache      ┃\n",
    "┡━━━━━━━━━━━━━━━━━━━━━━━━━━━━━━━━━━━━━━━━━━━━━━━━━━━━━━━━━━━━━━━━━━━━━━━━━━━━━━━━━━━━━━━━━━━━━━━━━━━━━━━━━━━━━━━━━━━━━━━━━━━━━━━━━━━╇━━━━━━━╇━━━━━━━╇━━━━━━━━━━━━┩\n",
    "│ mc16_13TeV.311421.MGPy8EG_A14NNPDF23_NNPDF31ME_HSS_LLP_mH600_mS50.deriv.DAOD_EXOT15.e7357_e5984_s3234_r10201_r10210_p4696         │ 10    │ MC16d │ 21.2.128.0 │\n",
    "│ mc16_13TeV.311421.MGPy8EG_A14NNPDF23_NNPDF31ME_HSS_LLP_mH600_mS50.deriv.DAOD_EXOT15.e7357_e5984_s3234_r10724_r10726_p4696         │ 11    │ MC16e │ 21.2.128.0 │\n",
    "│ mc16_13TeV.311421.MGPy8EG_A14NNPDF23_NNPDF31ME_HSS_LLP_mH600_mS50.deriv.DAOD_EXOT15.e7357_e5984_s3234_r9364_r9315_p4696           │ 8     │ MC16a │ 21.2.128.0 │\n",
    "│ mc16_13TeV.311421.MGPy8EG_A14NNPDF23_NNPDF31ME_HSS_LLP_mH600_mS50.deriv.DAOD_EXOT15.e7357_s3234_r10201_p4696                      │ 10    │ MC16d │ 21.2.128.0 │\n",
    "│ mc16_13TeV.311421.MGPy8EG_A14NNPDF23_NNPDF31ME_HSS_LLP_mH600_mS50.deriv.DAOD_EXOT15.e7357_s3234_r10724_p4696                      │ 11    │ MC16e │ 21.2.128.0 │\n",
    "│ mc16_13TeV.311421.MGPy8EG_A14NNPDF23_NNPDF31ME_HSS_LLP_mH600_mS50.deriv.DAOD_EXOT15.e7357_s3234_r9364_p4696                       │ 8     │ MC16a │ 21.2.128.0 │\n",
    "│ mc16_13TeV.311422.MGPy8EG_A14NNPDF23_NNPDF31ME_HSS_LLP_mH600_mS150_ltlow.deriv.DAOD_EXOT15.e7357_e5984_s3234_r10201_r10210_p4696  │ 10    │ MC16d │ 21.2.128.0 │\n",
    "│ mc16_13TeV.311422.MGPy8EG_A14NNPDF23_NNPDF31ME_HSS_LLP_mH600_mS150_ltlow.deriv.DAOD_EXOT15.e7357_e5984_s3234_r10724_r10726_p4696  │ 11    │ MC16e │ 21.2.128.0 │\n",
    "│ mc16_13TeV.311422.MGPy8EG_A14NNPDF23_NNPDF31ME_HSS_LLP_mH600_mS150_ltlow.deriv.DAOD_EXOT15.e7357_e5984_s3234_r9364_r9315_p4696    │ 8     │ MC16a │ 21.2.128.0 │\n",
    "│ mc16_13TeV.311422.MGPy8EG_A14NNPDF23_NNPDF31ME_HSS_LLP_mH600_mS150_ltlow.deriv.DAOD_EXOT15.e7357_s3234_r10201_p4696               │ 10    │ MC16d │ 21.2.128.0 │\n",
    "│ mc16_13TeV.311422.MGPy8EG_A14NNPDF23_NNPDF31ME_HSS_LLP_mH600_mS150_ltlow.deriv.DAOD_EXOT15.e7357_s3234_r10724_p4696               │ 11    │ MC16e │ 21.2.128.0 │\n",
    "│ mc16_13TeV.311422.MGPy8EG_A14NNPDF23_NNPDF31ME_HSS_LLP_mH600_mS150_ltlow.deriv.DAOD_EXOT15.e7357_s3234_r9364_p4696                │ 8     │ MC16a │ 21.2.128.0 │\n",
    "│ mc16_13TeV.311423.MGPy8EG_A14NNPDF23_NNPDF31ME_HSS_LLP_mH600_mS150_lthigh.deriv.DAOD_EXOT15.e7357_e5984_s3234_r10201_r10210_p4696 │ 5     │ MC16d │ 21.2.128.0 │\n",
    "│ mc16_13TeV.311423.MGPy8EG_A14NNPDF23_NNPDF31ME_HSS_LLP_mH600_mS150_lthigh.deriv.DAOD_EXOT15.e7357_e5984_s3234_r10724_r10726_p4696 │ 6     │ MC16e │ 21.2.128.0 │\n",
    "│ mc16_13TeV.311423.MGPy8EG_A14NNPDF23_NNPDF31ME_HSS_LLP_mH600_mS150_lthigh.deriv.DAOD_EXOT15.e7357_e5984_s3234_r9364_r9315_p4696   │ 4     │ MC16a │ 21.2.128.0 │\n",
    "│ mc16_13TeV.311423.MGPy8EG_A14NNPDF23_NNPDF31ME_HSS_LLP_mH600_mS150_lthigh.deriv.DAOD_EXOT15.e7357_s3234_r10201_p4696              │ 5     │ MC16d │ 21.2.128.0 │\n",
    "│ mc16_13TeV.311423.MGPy8EG_A14NNPDF23_NNPDF31ME_HSS_LLP_mH600_mS150_lthigh.deriv.DAOD_EXOT15.e7357_s3234_r10724_p4696              │ 6     │ MC16e │ 21.2.128.0 │\n",
    "│ mc16_13TeV.311423.MGPy8EG_A14NNPDF23_NNPDF31ME_HSS_LLP_mH600_mS150_lthigh.deriv.DAOD_EXOT15.e7357_s3234_r9364_p4696               │ 4     │ MC16a │ 21.2.128.0 │\n",
    "│ mc16_13TeV.311424.MGPy8EG_A14NNPDF23_NNPDF31ME_HSS_LLP_mH600_mS275.deriv.DAOD_EXOT15.e7357_e5984_s3234_r10201_r10210_p4696        │ 18    │ MC16d │ 21.2.128.0 │\n",
    "│ mc16_13TeV.311424.MGPy8EG_A14NNPDF23_NNPDF31ME_HSS_LLP_mH600_mS275.deriv.DAOD_EXOT15.e7357_e5984_s3234_r10724_r10726_p4696        │ 21    │ MC16e │ 21.2.128.0 │\n",
    "│ mc16_13TeV.311424.MGPy8EG_A14NNPDF23_NNPDF31ME_HSS_LLP_mH600_mS275.deriv.DAOD_EXOT15.e7357_e5984_s3234_r12291_r12294_p4905        │ 13    │       │ 21.2.134.0 │\n",
    "│ mc16_13TeV.311424.MGPy8EG_A14NNPDF23_NNPDF31ME_HSS_LLP_mH600_mS275.deriv.DAOD_EXOT15.e7357_e5984_s3234_r12726_r12294_p4905        │ 13    │       │ 21.2.134.0 │\n",
    "│ mc16_13TeV.311424.MGPy8EG_A14NNPDF23_NNPDF31ME_HSS_LLP_mH600_mS275.deriv.DAOD_EXOT15.e7357_e5984_s3234_r12727_r12294_p4905        │ 13    │       │ 21.2.134.0 │\n",
    "│ mc16_13TeV.311424.MGPy8EG_A14NNPDF23_NNPDF31ME_HSS_LLP_mH600_mS275.deriv.DAOD_EXOT15.e7357_e5984_s3234_r9364_r9315_p4696          │ 14    │ MC16a │ 21.2.128.0 │\n",
    "│ mc16_13TeV.311424.MGPy8EG_A14NNPDF23_NNPDF31ME_HSS_LLP_mH600_mS275.deriv.DAOD_EXOT15.e7357_s3234_r10201_p4696                     │ 18    │ MC16d │ 21.2.128.0 │\n",
    "│ mc16_13TeV.311424.MGPy8EG_A14NNPDF23_NNPDF31ME_HSS_LLP_mH600_mS275.deriv.DAOD_EXOT15.e7357_s3234_r10724_p4696                     │ 21    │ MC16e │ 21.2.128.0 │\n",
    "│ mc16_13TeV.311424.MGPy8EG_A14NNPDF23_NNPDF31ME_HSS_LLP_mH600_mS275.deriv.DAOD_EXOT15.e7357_s3234_r12291_p4905                     │ 13    │       │ 21.2.134.0 │\n",
    "│ mc16_13TeV.311424.MGPy8EG_A14NNPDF23_NNPDF31ME_HSS_LLP_mH600_mS275.deriv.DAOD_EXOT15.e7357_s3234_r12726_p4905                     │ 13    │       │ 21.2.134.0 │\n",
    "│ mc16_13TeV.311424.MGPy8EG_A14NNPDF23_NNPDF31ME_HSS_LLP_mH600_mS275.deriv.DAOD_EXOT15.e7357_s3234_r12727_p4905                     │ 13    │       │ 21.2.134.0 │\n",
    "│ mc16_13TeV.311424.MGPy8EG_A14NNPDF23_NNPDF31ME_HSS_LLP_mH600_mS275.deriv.DAOD_EXOT15.e7357_s3234_r9364_p4696                      │ 14    │ MC16a │ 21.2.128.0 │\n",
    "│ mc16_13TeV.501823.MGPy8EG_A14N23LO_HZZd_125_5_600.deriv.DAOD_EXOT15.e8253_e7400_s3126_r10201_r10210_p4696                         │ 2     │ MC16d │ 21.2.128.0 │\n",
    "│ mc16_13TeV.501823.MGPy8EG_A14N23LO_HZZd_125_5_600.deriv.DAOD_EXOT15.e8253_e7400_s3126_r10724_r10726_p4696                         │ 2     │ MC16e │ 21.2.128.0 │\n",
    "│ mc16_13TeV.501823.MGPy8EG_A14N23LO_HZZd_125_5_600.deriv.DAOD_EXOT15.e8253_e7400_s3126_r9364_r9315_p4696                           │ 1     │ MC16a │ 21.2.128.0 │\n",
    "│ mc16_13TeV.501823.MGPy8EG_A14N23LO_HZZd_125_5_600.deriv.DAOD_EXOT15.e8253_s3126_r10201_p4696                                      │ 2     │ MC16d │ 21.2.128.0 │\n",
    "│ mc16_13TeV.501823.MGPy8EG_A14N23LO_HZZd_125_5_600.deriv.DAOD_EXOT15.e8253_s3126_r10724_p4696                                      │ 2     │ MC16e │ 21.2.128.0 │\n",
    "│ mc16_13TeV.501823.MGPy8EG_A14N23LO_HZZd_125_5_600.deriv.DAOD_EXOT15.e8253_s3126_r9364_p4696                                       │ 1     │ MC16a │ 21.2.128.0 │\n",
    "│ mc16_13TeV.501824.MGPy8EG_A14N23LO_HZZd_125_15_1600.deriv.DAOD_EXOT15.e8253_e7400_s3126_r10201_r10210_p4696                       │ 2     │ MC16d │ 21.2.128.0 │\n",
    "│ mc16_13TeV.501824.MGPy8EG_A14N23LO_HZZd_125_15_1600.deriv.DAOD_EXOT15.e8253_e7400_s3126_r10724_r10726_p4696                       │ 2     │ MC16e │ 21.2.128.0 │\n",
    "│ mc16_13TeV.501824.MGPy8EG_A14N23LO_HZZd_125_15_1600.deriv.DAOD_EXOT15.e8253_e7400_s3126_r9364_r9315_p4696                         │ 1     │ MC16a │ 21.2.128.0 │\n",
    "│ mc16_13TeV.501824.MGPy8EG_A14N23LO_HZZd_125_15_1600.deriv.DAOD_EXOT15.e8253_s3126_r10201_p4696                                    │ 2     │ MC16d │ 21.2.128.0 │\n",
    "│ mc16_13TeV.501824.MGPy8EG_A14N23LO_HZZd_125_15_1600.deriv.DAOD_EXOT15.e8253_s3126_r10724_p4696                                    │ 2     │ MC16e │ 21.2.128.0 │\n",
    "│ mc16_13TeV.501824.MGPy8EG_A14N23LO_HZZd_125_15_1600.deriv.DAOD_EXOT15.e8253_s3126_r9364_p4696                                     │ 1     │ MC16a │ 21.2.128.0 │\n",
    "│ mc16_13TeV.501825.MGPy8EG_A14N23LO_HZZd_250_50_1600.deriv.DAOD_EXOT15.e8253_e7400_s3126_r10201_r10210_p4696                       │ 2     │ MC16d │ 21.2.128.0 │\n",
    "│ mc16_13TeV.501825.MGPy8EG_A14N23LO_HZZd_250_50_1600.deriv.DAOD_EXOT15.e8253_e7400_s3126_r10724_r10726_p4696                       │ 3     │ MC16e │ 21.2.128.0 │\n",
    "│ mc16_13TeV.501825.MGPy8EG_A14N23LO_HZZd_250_50_1600.deriv.DAOD_EXOT15.e8253_e7400_s3126_r9364_r9315_p4696                         │ 1     │ MC16a │ 21.2.128.0 │\n",
    "│ mc16_13TeV.501825.MGPy8EG_A14N23LO_HZZd_250_50_1600.deriv.DAOD_EXOT15.e8253_s3126_r10201_p4696                                    │ 2     │ MC16d │ 21.2.128.0 │\n",
    "│ mc16_13TeV.501825.MGPy8EG_A14N23LO_HZZd_250_50_1600.deriv.DAOD_EXOT15.e8253_s3126_r10724_p4696                                    │ 3     │ MC16e │ 21.2.128.0 │\n",
    "│ mc16_13TeV.501825.MGPy8EG_A14N23LO_HZZd_250_50_1600.deriv.DAOD_EXOT15.e8253_s3126_r9364_p4696                                     │ 1     │ MC16a │ 21.2.128.0 │\n",
    "│ mc16_13TeV.501827.MGPy8EG_A14N23LO_HZZd_400_100_1600.deriv.DAOD_EXOT15.e8253_e7400_s3126_r10201_r10210_p4696                      │ 2     │ MC16d │ 21.2.128.0 │\n",
    "│ mc16_13TeV.501827.MGPy8EG_A14N23LO_HZZd_400_100_1600.deriv.DAOD_EXOT15.e8253_e7400_s3126_r10724_r10726_p4696                      │ 3     │ MC16e │ 21.2.128.0 │\n",
    "│ mc16_13TeV.501827.MGPy8EG_A14N23LO_HZZd_400_100_1600.deriv.DAOD_EXOT15.e8253_e7400_s3126_r9364_r9315_p4696                        │ 1     │ MC16a │ 21.2.128.0 │\n",
    "│ mc16_13TeV.501827.MGPy8EG_A14N23LO_HZZd_400_100_1600.deriv.DAOD_EXOT15.e8253_s3126_r10201_p4696                                   │ 2     │ MC16d │ 21.2.128.0 │\n",
    "│ mc16_13TeV.501827.MGPy8EG_A14N23LO_HZZd_400_100_1600.deriv.DAOD_EXOT15.e8253_s3126_r10724_p4696                                   │ 3     │ MC16e │ 21.2.128.0 │\n",
    "│ mc16_13TeV.501827.MGPy8EG_A14N23LO_HZZd_400_100_1600.deriv.DAOD_EXOT15.e8253_s3126_r9364_p4696                                    │ 1     │ MC16a │ 21.2.128.0 │\n",
    "│ mc16_13TeV.501829.MGPy8EG_A14N23LO_HZZd_600_150_1600.deriv.DAOD_EXOT15.e8253_e7400_s3126_r10201_r10210_p4696                      │ 2     │ MC16d │ 21.2.128.0 │\n",
    "│ mc16_13TeV.501829.MGPy8EG_A14N23LO_HZZd_600_150_1600.deriv.DAOD_EXOT15.e8253_e7400_s3126_r10724_r10726_p4696                      │ 3     │ MC16e │ 21.2.128.0 │\n",
    "│ mc16_13TeV.501829.MGPy8EG_A14N23LO_HZZd_600_150_1600.deriv.DAOD_EXOT15.e8253_e7400_s3126_r9364_r9315_p4696                        │ 1     │ MC16a │ 21.2.128.0 │\n",
    "│ mc16_13TeV.501829.MGPy8EG_A14N23LO_HZZd_600_150_1600.deriv.DAOD_EXOT15.e8253_s3126_r10201_p4696                                   │ 2     │ MC16d │ 21.2.128.0 │\n",
    "│ mc16_13TeV.501829.MGPy8EG_A14N23LO_HZZd_600_150_1600.deriv.DAOD_EXOT15.e8253_s3126_r10724_p4696                                   │ 3     │ MC16e │ 21.2.128.0 │\n",
    "│ mc16_13TeV.501829.MGPy8EG_A14N23LO_HZZd_600_150_1600.deriv.DAOD_EXOT15.e8253_s3126_r9364_p4696                                    │ 1     │ MC16a │ 21.2.128.0 │\n",
    "│ mc16_13TeV.501830.MGPy8EG_A14N23LO_HZZd_600_400_4600.deriv.DAOD_EXOT15.e8253_e7400_s3126_r10201_r10210_p4696                      │ 2     │ MC16d │ 21.2.128.0 │\n",
    "│ mc16_13TeV.501830.MGPy8EG_A14N23LO_HZZd_600_400_4600.deriv.DAOD_EXOT15.e8253_e7400_s3126_r10724_r10726_p4696                      │ 3     │ MC16e │ 21.2.128.0 │\n",
    "│ mc16_13TeV.501830.MGPy8EG_A14N23LO_HZZd_600_400_4600.deriv.DAOD_EXOT15.e8253_e7400_s3126_r9364_r9315_p4696                        │ 1     │ MC16a │ 21.2.128.0 │\n",
    "│ mc16_13TeV.501830.MGPy8EG_A14N23LO_HZZd_600_400_4600.deriv.DAOD_EXOT15.e8253_s3126_r10201_p4696                                   │ 2     │ MC16d │ 21.2.128.0 │\n",
    "│ mc16_13TeV.501830.MGPy8EG_A14N23LO_HZZd_600_400_4600.deriv.DAOD_EXOT15.e8253_s3126_r10724_p4696                                   │ 3     │ MC16e │ 21.2.128.0 │\n",
    "│ mc16_13TeV.501830.MGPy8EG_A14N23LO_HZZd_600_400_4600.deriv.DAOD_EXOT15.e8253_s3126_r9364_p4696                                    │ 1     │ MC16a │ 21.2.128.0 │\n",
    "│ mc16_13TeV.501832.MGPy8EG_A14N23LO_HZZd_600_150_4000.deriv.DAOD_EXOT15.e8253_e7400_s3126_r10201_r10210_p4696                      │ 2     │ MC16d │ 21.2.128.0 │\n",
    "│ mc16_13TeV.501832.MGPy8EG_A14N23LO_HZZd_600_150_4000.deriv.DAOD_EXOT15.e8253_e7400_s3126_r10724_r10726_p4696                      │ 3     │ MC16e │ 21.2.128.0 │\n",
    "│ mc16_13TeV.501832.MGPy8EG_A14N23LO_HZZd_600_150_4000.deriv.DAOD_EXOT15.e8253_e7400_s3126_r9364_r9315_p4696                        │ 1     │ MC16a │ 21.2.128.0 │\n",
    "│ mc16_13TeV.501832.MGPy8EG_A14N23LO_HZZd_600_150_4000.deriv.DAOD_EXOT15.e8253_s3126_r10201_p4696                                   │ 2     │ MC16d │ 21.2.128.0 │\n",
    "│ mc16_13TeV.501832.MGPy8EG_A14N23LO_HZZd_600_150_4000.deriv.DAOD_EXOT15.e8253_s3126_r10724_p4696                                   │ 3     │ MC16e │ 21.2.128.0 │\n",
    "│ mc16_13TeV.501832.MGPy8EG_A14N23LO_HZZd_600_150_4000.deriv.DAOD_EXOT15.e8253_s3126_r9364_p4696                                    │ 1     │ MC16a │ 21.2.128.0 │\n",
    "│ mc16_13TeV.501833.MGPy8EG_A14N23LO_GG_ZG_700_150_600.deriv.DAOD_EXOT15.e8253_e7400_s3126_r10201_r10210_p4696                      │ 5     │ MC16d │ 21.2.128.0 │\n",
    "│ mc16_13TeV.501833.MGPy8EG_A14N23LO_GG_ZG_700_150_600.deriv.DAOD_EXOT15.e8253_e7400_s3126_r9364_r9315_p4696                        │ 3     │ MC16a │ 21.2.128.0 │\n",
    "│ mc16_13TeV.501833.MGPy8EG_A14N23LO_GG_ZG_700_150_600.deriv.DAOD_EXOT15.e8253_s3126_r10201_p4696                                   │ 5     │ MC16d │ 21.2.128.0 │\n",
    "│ mc16_13TeV.501833.MGPy8EG_A14N23LO_GG_ZG_700_150_600.deriv.DAOD_EXOT15.e8253_s3126_r9364_p4696                                    │ 3     │ MC16a │ 21.2.128.0 │\n",
    "│ mc16_13TeV.501838.MGPy8EG_A14N23LO_GG_ZG_1100_1000_6000.deriv.DAOD_EXOT15.e8253_e7400_s3126_r10201_r10210_p4696                   │ 3     │ MC16d │ 21.2.128.0 │\n",
    "│ mc16_13TeV.501838.MGPy8EG_A14N23LO_GG_ZG_1100_1000_6000.deriv.DAOD_EXOT15.e8253_e7400_s3126_r10724_r10726_p4696                   │ 3     │ MC16e │ 21.2.128.0 │\n",
    "│ mc16_13TeV.501838.MGPy8EG_A14N23LO_GG_ZG_1100_1000_6000.deriv.DAOD_EXOT15.e8253_e7400_s3126_r9364_r9315_p4696                     │ 1     │ MC16a │ 21.2.128.0 │\n",
    "│ mc16_13TeV.501838.MGPy8EG_A14N23LO_GG_ZG_1100_1000_6000.deriv.DAOD_EXOT15.e8253_s3126_r10201_p4696                                │ 3     │ MC16d │ 21.2.128.0 │\n",
    "│ mc16_13TeV.501838.MGPy8EG_A14N23LO_GG_ZG_1100_1000_6000.deriv.DAOD_EXOT15.e8253_s3126_r10724_p4696                                │ 3     │ MC16e │ 21.2.128.0 │\n",
    "│ mc16_13TeV.501838.MGPy8EG_A14N23LO_GG_ZG_1100_1000_6000.deriv.DAOD_EXOT15.e8253_s3126_r9364_p4696                                 │ 1     │ MC16a │ 21.2.128.0 │\n",
    "│ mc16_13TeV.507682.MGPy8EG_A14N23LO_HZZd_125_16_1600.deriv.DAOD_EXOT15.e8307_e7400_s3126_r10201_r10210_p4696                       │ 4     │ MC16d │ 21.2.128.0 │\n",
    "│ mc16_13TeV.507682.MGPy8EG_A14N23LO_HZZd_125_16_1600.deriv.DAOD_EXOT15.e8307_e7400_s3126_r10724_r10726_p4696                       │ 4     │ MC16e │ 21.2.128.0 │\n",
    "│ mc16_13TeV.507682.MGPy8EG_A14N23LO_HZZd_125_16_1600.deriv.DAOD_EXOT15.e8307_e7400_s3126_r9364_r9315_p4696                         │ 2     │ MC16a │ 21.2.128.0 │\n",
    "│ mc16_13TeV.507682.MGPy8EG_A14N23LO_HZZd_125_16_1600.deriv.DAOD_EXOT15.e8307_s3126_r10201_p4696                                    │ 4     │ MC16d │ 21.2.128.0 │\n",
    "│ mc16_13TeV.507682.MGPy8EG_A14N23LO_HZZd_125_16_1600.deriv.DAOD_EXOT15.e8307_s3126_r10724_p4696                                    │ 4     │ MC16e │ 21.2.128.0 │\n",
    "│ mc16_13TeV.507682.MGPy8EG_A14N23LO_HZZd_125_16_1600.deriv.DAOD_EXOT15.e8307_s3126_r9364_p4696                                     │ 2     │ MC16a │ 21.2.128.0 │\n",
    "│ mc16_13TeV.512030.MGPy8EG_A14NNPDF23_ZH_LLP_H600_S50_ctau400.deriv.DAOD_EXOT15.e8412_e7400_s3126_r10201_r10210_p5037              │ 4     │ MC16d │ 21.2.139.0 │\n",
    "│ mc16_13TeV.512030.MGPy8EG_A14NNPDF23_ZH_LLP_H600_S50_ctau400.deriv.DAOD_EXOT15.e8412_e7400_s3126_r10724_r10726_p5037              │ 6     │ MC16e │ 21.2.139.0 │\n",
    "│ mc16_13TeV.512030.MGPy8EG_A14NNPDF23_ZH_LLP_H600_S50_ctau400.deriv.DAOD_EXOT15.e8412_e7400_s3126_r9364_r9315_p5037                │ 2     │ MC16a │ 21.2.139.0 │\n",
    "│ mc16_13TeV.512030.MGPy8EG_A14NNPDF23_ZH_LLP_H600_S50_ctau400.deriv.DAOD_EXOT15.e8412_s3126_r10201_p5037                           │ 4     │ MC16d │ 21.2.139.0 │\n",
    "│ mc16_13TeV.512030.MGPy8EG_A14NNPDF23_ZH_LLP_H600_S50_ctau400.deriv.DAOD_EXOT15.e8412_s3126_r10724_p5037                           │ 6     │ MC16e │ 21.2.139.0 │\n",
    "│ mc16_13TeV.512030.MGPy8EG_A14NNPDF23_ZH_LLP_H600_S50_ctau400.deriv.DAOD_EXOT15.e8412_s3126_r9364_p5037                            │ 2     │ MC16a │ 21.2.139.0 │\n",
    "│ mc16_13TeV.512031.MGPy8EG_A14NNPDF23_ZH_LLP_H600_S150_ctau1500.deriv.DAOD_EXOT15.e8412_e7400_s3126_r10201_r10210_p5037            │ 4     │ MC16d │ 21.2.139.0 │\n",
    "│ mc16_13TeV.512031.MGPy8EG_A14NNPDF23_ZH_LLP_H600_S150_ctau1500.deriv.DAOD_EXOT15.e8412_e7400_s3126_r10724_r10726_p5037            │ 4     │ MC16e │ 21.2.139.0 │\n",
    "│ mc16_13TeV.512031.MGPy8EG_A14NNPDF23_ZH_LLP_H600_S150_ctau1500.deriv.DAOD_EXOT15.e8412_e7400_s3126_r9364_r9315_p5037              │ 2     │ MC16a │ 21.2.139.0 │\n",
    "│ mc16_13TeV.512031.MGPy8EG_A14NNPDF23_ZH_LLP_H600_S150_ctau1500.deriv.DAOD_EXOT15.e8412_s3126_r10201_p5037                         │ 4     │ MC16d │ 21.2.139.0 │\n",
    "│ mc16_13TeV.512031.MGPy8EG_A14NNPDF23_ZH_LLP_H600_S150_ctau1500.deriv.DAOD_EXOT15.e8412_s3126_r10724_p5037                         │ 4     │ MC16e │ 21.2.139.0 │\n",
    "│ mc16_13TeV.512031.MGPy8EG_A14NNPDF23_ZH_LLP_H600_S150_ctau1500.deriv.DAOD_EXOT15.e8412_s3126_r9364_p5037                          │ 2     │ MC16a │ 21.2.139.0 │\n",
    "│ mc16_13TeV.512032.MGPy8EG_A14NNPDF23_ZH_LLP_H600_S150_ctau3500.deriv.DAOD_EXOT15.e8412_e7400_s3126_r10201_r10210_p5037            │ 2     │ MC16d │ 21.2.139.0 │\n",
    "│ mc16_13TeV.512032.MGPy8EG_A14NNPDF23_ZH_LLP_H600_S150_ctau3500.deriv.DAOD_EXOT15.e8412_e7400_s3126_r10724_r10726_p5037            │ 2     │ MC16e │ 21.2.139.0 │\n",
    "│ mc16_13TeV.512032.MGPy8EG_A14NNPDF23_ZH_LLP_H600_S150_ctau3500.deriv.DAOD_EXOT15.e8412_e7400_s3126_r9364_r9315_p5037              │ 1     │ MC16a │ 21.2.139.0 │\n",
    "│ mc16_13TeV.512032.MGPy8EG_A14NNPDF23_ZH_LLP_H600_S150_ctau3500.deriv.DAOD_EXOT15.e8412_s3126_r10201_p5037                         │ 2     │ MC16d │ 21.2.139.0 │\n",
    "│ mc16_13TeV.512032.MGPy8EG_A14NNPDF23_ZH_LLP_H600_S150_ctau3500.deriv.DAOD_EXOT15.e8412_s3126_r10724_p5037                         │ 2     │ MC16e │ 21.2.139.0 │\n",
    "│ mc16_13TeV.512032.MGPy8EG_A14NNPDF23_ZH_LLP_H600_S150_ctau3500.deriv.DAOD_EXOT15.e8412_s3126_r9364_p5037                          │ 1     │ MC16a │ 21.2.139.0 │\n",
    "│ mc16_13TeV.512033.MGPy8EG_A14NNPDF23_ZH_LLP_H600_S275_ctau2500.deriv.DAOD_EXOT15.e8412_e7400_s3126_r10201_r10210_p5037            │ 6     │ MC16d │ 21.2.139.0 │\n",
    "│ mc16_13TeV.512033.MGPy8EG_A14NNPDF23_ZH_LLP_H600_S275_ctau2500.deriv.DAOD_EXOT15.e8412_e7400_s3126_r10724_r10726_p5037            │ 4     │ MC16e │ 21.2.139.0 │\n",
    "│ mc16_13TeV.512033.MGPy8EG_A14NNPDF23_ZH_LLP_H600_S275_ctau2500.deriv.DAOD_EXOT15.e8412_e7400_s3126_r9364_r9315_p5037              │ 2     │ MC16a │ 21.2.139.0 │\n",
    "│ mc16_13TeV.512033.MGPy8EG_A14NNPDF23_ZH_LLP_H600_S275_ctau2500.deriv.DAOD_EXOT15.e8412_s3126_r10201_p5037                         │ 6     │ MC16d │ 21.2.139.0 │\n",
    "│ mc16_13TeV.512033.MGPy8EG_A14NNPDF23_ZH_LLP_H600_S275_ctau2500.deriv.DAOD_EXOT15.e8412_s3126_r10724_p5037                         │ 4     │ MC16e │ 21.2.139.0 │\n",
    "│ mc16_13TeV.512033.MGPy8EG_A14NNPDF23_ZH_LLP_H600_S275_ctau2500.deriv.DAOD_EXOT15.e8412_s3126_r9364_p5037                          │ 2     │ MC16a │ 21.2.139.0 │\n",
    "│ mc16_13TeV.512051.MGPy8EG_A14NNPDF23_WH_LLP_H600_S50_ctau400.deriv.DAOD_EXOT15.e8412_e7400_s3126_r10201_r10210_p5037              │ 5     │ MC16d │ 21.2.139.0 │\n",
    "│ mc16_13TeV.512051.MGPy8EG_A14NNPDF23_WH_LLP_H600_S50_ctau400.deriv.DAOD_EXOT15.e8412_e7400_s3126_r10724_r10726_p5037              │ 4     │ MC16e │ 21.2.139.0 │\n",
    "│ mc16_13TeV.512051.MGPy8EG_A14NNPDF23_WH_LLP_H600_S50_ctau400.deriv.DAOD_EXOT15.e8412_e7400_s3126_r9364_r9315_p5037                │ 2     │ MC16a │ 21.2.139.0 │\n",
    "│ mc16_13TeV.512051.MGPy8EG_A14NNPDF23_WH_LLP_H600_S50_ctau400.deriv.DAOD_EXOT15.e8412_s3126_r10201_p5037                           │ 5     │ MC16d │ 21.2.139.0 │\n",
    "│ mc16_13TeV.512051.MGPy8EG_A14NNPDF23_WH_LLP_H600_S50_ctau400.deriv.DAOD_EXOT15.e8412_s3126_r10724_p5037                           │ 4     │ MC16e │ 21.2.139.0 │\n",
    "│ mc16_13TeV.512051.MGPy8EG_A14NNPDF23_WH_LLP_H600_S50_ctau400.deriv.DAOD_EXOT15.e8412_s3126_r9364_p5037                            │ 2     │ MC16a │ 21.2.139.0 │\n",
    "│ mc16_13TeV.512052.MGPy8EG_A14NNPDF23_WH_LLP_H600_S150_ctau1500.deriv.DAOD_EXOT15.e8412_e7400_s3126_r10201_r10210_p5037            │ 4     │ MC16d │ 21.2.139.0 │\n",
    "│ mc16_13TeV.512052.MGPy8EG_A14NNPDF23_WH_LLP_H600_S150_ctau1500.deriv.DAOD_EXOT15.e8412_e7400_s3126_r10724_r10726_p5037            │ 4     │ MC16e │ 21.2.139.0 │\n",
    "│ mc16_13TeV.512052.MGPy8EG_A14NNPDF23_WH_LLP_H600_S150_ctau1500.deriv.DAOD_EXOT15.e8412_e7400_s3126_r9364_r9315_p5037              │ 2     │ MC16a │ 21.2.139.0 │\n",
    "│ mc16_13TeV.512052.MGPy8EG_A14NNPDF23_WH_LLP_H600_S150_ctau1500.deriv.DAOD_EXOT15.e8412_s3126_r10201_p5037                         │ 4     │ MC16d │ 21.2.139.0 │\n",
    "│ mc16_13TeV.512052.MGPy8EG_A14NNPDF23_WH_LLP_H600_S150_ctau1500.deriv.DAOD_EXOT15.e8412_s3126_r10724_p5037                         │ 4     │ MC16e │ 21.2.139.0 │\n",
    "│ mc16_13TeV.512052.MGPy8EG_A14NNPDF23_WH_LLP_H600_S150_ctau1500.deriv.DAOD_EXOT15.e8412_s3126_r9364_p5037                          │ 2     │ MC16a │ 21.2.139.0 │\n",
    "│ mc16_13TeV.512053.MGPy8EG_A14NNPDF23_WH_LLP_H600_S150_ctau3500.deriv.DAOD_EXOT15.e8412_e7400_s3126_r10201_r10210_p5037            │ 2     │ MC16d │ 21.2.139.0 │\n",
    "│ mc16_13TeV.512053.MGPy8EG_A14NNPDF23_WH_LLP_H600_S150_ctau3500.deriv.DAOD_EXOT15.e8412_e7400_s3126_r10724_r10726_p5037            │ 2     │ MC16e │ 21.2.139.0 │\n",
    "│ mc16_13TeV.512053.MGPy8EG_A14NNPDF23_WH_LLP_H600_S150_ctau3500.deriv.DAOD_EXOT15.e8412_e7400_s3126_r9364_r9315_p5037              │ 1     │ MC16a │ 21.2.139.0 │\n",
    "│ mc16_13TeV.512053.MGPy8EG_A14NNPDF23_WH_LLP_H600_S150_ctau3500.deriv.DAOD_EXOT15.e8412_s3126_r10201_p5037                         │ 2     │ MC16d │ 21.2.139.0 │\n",
    "│ mc16_13TeV.512053.MGPy8EG_A14NNPDF23_WH_LLP_H600_S150_ctau3500.deriv.DAOD_EXOT15.e8412_s3126_r10724_p5037                         │ 2     │ MC16e │ 21.2.139.0 │\n",
    "│ mc16_13TeV.512053.MGPy8EG_A14NNPDF23_WH_LLP_H600_S150_ctau3500.deriv.DAOD_EXOT15.e8412_s3126_r9364_p5037                          │ 1     │ MC16a │ 21.2.139.0 │\n",
    "│ mc16_13TeV.512054.MGPy8EG_A14NNPDF23_WH_LLP_H600_S275_ctau2500.deriv.DAOD_EXOT15.e8412_e7400_s3126_r10201_r10210_p5037            │ 4     │ MC16d │ 21.2.139.0 │\n",
    "│ mc16_13TeV.512054.MGPy8EG_A14NNPDF23_WH_LLP_H600_S275_ctau2500.deriv.DAOD_EXOT15.e8412_e7400_s3126_r10724_r10726_p5037            │ 3     │ MC16e │ 21.2.139.0 │\n",
    "│ mc16_13TeV.512054.MGPy8EG_A14NNPDF23_WH_LLP_H600_S275_ctau2500.deriv.DAOD_EXOT15.e8412_e7400_s3126_r9364_r9315_p5037              │ 2     │ MC16a │ 21.2.139.0 │\n",
    "│ mc16_13TeV.512054.MGPy8EG_A14NNPDF23_WH_LLP_H600_S275_ctau2500.deriv.DAOD_EXOT15.e8412_s3126_r10201_p5037                         │ 4     │ MC16d │ 21.2.139.0 │\n",
    "│ mc16_13TeV.512054.MGPy8EG_A14NNPDF23_WH_LLP_H600_S275_ctau2500.deriv.DAOD_EXOT15.e8412_s3126_r10724_p5037                         │ 3     │ MC16e │ 21.2.139.0 │\n",
    "│ mc16_13TeV.512054.MGPy8EG_A14NNPDF23_WH_LLP_H600_S275_ctau2500.deriv.DAOD_EXOT15.e8412_s3126_r9364_p5037                          │ 2     │ MC16a │ 21.2.139.0 │\n",
    "└───────────────────────────────────────────────────────────────────────────────────────────────────────────────────────────────────┴───────┴───────┴────────────┘\n",
    "\n",
    "A quick look at other scoopes, like `mc20_13TeV` and `mc23_13p6TeV` shows that there are no other samples. This is in.\n",
    "```"
   ]
  },
  {
   "cell_type": "code",
   "execution_count": 2,
   "metadata": {},
   "outputs": [],
   "source": [
    "rucio_ds = \"mc16_13TeV.512033.MGPy8EG_A14NNPDF23_ZH_LLP_H600_S275_ctau2500.deriv.DAOD_EXOT15.e8412_e7400_s3126_r10201_r10210_p5037\"\n",
    "ds = SXDSAtlasxAODR21(rucio_ds, backend='atlasr21')"
   ]
  },
  {
   "cell_type": "markdown",
   "metadata": {},
   "source": [
    "## Event level information\n",
    "\n",
    "This is the basic info for run and event number"
   ]
  },
  {
   "cell_type": "code",
   "execution_count": 3,
   "metadata": {},
   "outputs": [],
   "source": [
    "event_info_query = ds.Select(\n",
    "    lambda e: {\n",
    "        \"run_number\": e.EventInfo(\"EventInfo\").runNumber(),\n",
    "        \"event_number\": e.EventInfo(\"EventInfo\").eventNumber(),\n",
    "    }\n",
    ")\n",
    "\n",
    "event_info = event_info_query.AsAwkwardArray().value()"
   ]
  },
  {
   "cell_type": "code",
   "execution_count": 4,
   "metadata": {},
   "outputs": [
    {
     "data": {
      "text/html": [
       "<pre>[{run_number: 300000, event_number: 84126},\n",
       " {run_number: 300000, event_number: 84378},\n",
       " {run_number: 300000, event_number: 84684},\n",
       " {run_number: 300000, event_number: 84980},\n",
       " {run_number: 300000, event_number: 77156},\n",
       " {run_number: 300000, event_number: 77824},\n",
       " {run_number: 300000, event_number: 77579},\n",
       " {run_number: 300000, event_number: 84642},\n",
       " {run_number: 300000, event_number: 77509},\n",
       " {run_number: 300000, event_number: 77672},\n",
       " ...,\n",
       " {run_number: 300000, event_number: 71512},\n",
       " {run_number: 300000, event_number: 71845},\n",
       " {run_number: 300000, event_number: 71992},\n",
       " {run_number: 300000, event_number: 81428},\n",
       " {run_number: 300000, event_number: 81616},\n",
       " {run_number: 300000, event_number: 81417},\n",
       " {run_number: 300000, event_number: 71039},\n",
       " {run_number: 300000, event_number: 71660},\n",
       " {run_number: 300000, event_number: 81802}]\n",
       "-------------------------------------------\n",
       "type: 50000 * {\n",
       "    run_number: uint32,\n",
       "    event_number: uint64\n",
       "}</pre>"
      ],
      "text/plain": [
       "<Array [{run_number: 300000, ...}, ..., {...}] type='50000 * {run_number: u...'>"
      ]
     },
     "execution_count": 4,
     "metadata": {},
     "output_type": "execute_result"
    }
   ],
   "source": [
    "event_info.compute()"
   ]
  },
  {
   "cell_type": "markdown",
   "metadata": {},
   "source": [
    "## Jet PT's\n",
    "\n",
    "Lets go after the simple jet variables we need."
   ]
  },
  {
   "cell_type": "code",
   "execution_count": 5,
   "metadata": {},
   "outputs": [
    {
     "name": "stderr",
     "output_type": "stream",
     "text": [
      "WARNING:root:Fetched the default calibration configuration for a query. It should have been intentionally configured - using configuration for data format PHYS\n"
     ]
    }
   ],
   "source": [
    "jet_kinematics_query = (\n",
    "    ds.SelectMany(lambda e: e.Jets(collection=\"AntiKt4EMTopoJets\", calibrate=False))\n",
    "    .Where(lambda j: (j.pt() / 1000) > 30)\n",
    "    .Select(lambda j: {\"jet_pt\": j.pt() / 1000.0, \"jet_eta\": j.eta(), \"jet_phi\": j.phi()})\n",
    ")\n",
    "jet_kinematics = jet_kinematics_query.AsAwkwardArray().value()"
   ]
  },
  {
   "cell_type": "code",
   "execution_count": 6,
   "metadata": {},
   "outputs": [
    {
     "data": {
      "text/html": [
       "<pre>[{jet_pt: 214, jet_eta: -1.54, jet_phi: -2.91},\n",
       " {jet_pt: 169, jet_eta: -1.72, jet_phi: -2.32},\n",
       " {jet_pt: 52.6, jet_eta: 0.514, jet_phi: -2.84},\n",
       " {jet_pt: 52.3, jet_eta: -1.9, jet_phi: 0.203},\n",
       " {jet_pt: 119, jet_eta: 1.37, jet_phi: 0.995},\n",
       " {jet_pt: 109, jet_eta: 0.408, jet_phi: -1.59},\n",
       " {jet_pt: 70.1, jet_eta: -0.00618, jet_phi: 2.8},\n",
       " {jet_pt: 203, jet_eta: -1.7, jet_phi: 2.72},\n",
       " {jet_pt: 111, jet_eta: -2.76, jet_phi: 0.76},\n",
       " {jet_pt: 101, jet_eta: -1.03, jet_phi: -1.09},\n",
       " ...,\n",
       " {jet_pt: 473, jet_eta: 0.36, jet_phi: -2.97},\n",
       " {jet_pt: 185, jet_eta: -1, jet_phi: 0.257},\n",
       " {jet_pt: 159, jet_eta: -1.85, jet_phi: -0.389},\n",
       " {jet_pt: 63.8, jet_eta: -0.496, jet_phi: 0.349},\n",
       " {jet_pt: 31.3, jet_eta: -0.0608, jet_phi: 1.77},\n",
       " {jet_pt: 237, jet_eta: -0.343, jet_phi: -2.59},\n",
       " {jet_pt: 173, jet_eta: -0.481, jet_phi: 1.13},\n",
       " {jet_pt: 107, jet_eta: -1.73, jet_phi: -1.08},\n",
       " {jet_pt: 37.8, jet_eta: -0.0409, jet_phi: -2.14}]\n",
       "--------------------------------------------------\n",
       "type: 240403 * {\n",
       "    jet_pt: float64,\n",
       "    jet_eta: float64,\n",
       "    jet_phi: float64\n",
       "}</pre>"
      ],
      "text/plain": [
       "<Array [{jet_pt: 214, jet_eta: ..., ...}, ...] type='240403 * {jet_pt: floa...'>"
      ]
     },
     "execution_count": 6,
     "metadata": {},
     "output_type": "execute_result"
    }
   ],
   "source": [
    "jet_kinematics.compute()"
   ]
  },
  {
   "cell_type": "markdown",
   "metadata": {},
   "source": [
    "## Calorimeter TopoClusters\n",
    "\n",
    "In the code this is mostly referred to as _jet constituents_. The C++ code that fetches this is a [bit complex](https://gitlab.cern.ch/atlas-phys-exotics-llp-mscrid/fullrun2analysis/DiVertAnalysisR21/-/blob/master/DiVertAnalysis/Root/RegionVarCalculator_calRatio.cxx#L393) and I think more convoluted that it need be."
   ]
  },
  {
   "cell_type": "code",
   "execution_count": 9,
   "metadata": {},
   "outputs": [
    {
     "name": "stderr",
     "output_type": "stream",
     "text": [
      "WARNING:func_adl.type_based_replacement:Unknown type for name CaloSampling\n",
      "WARNING:func_adl.type_based_replacement:Unknown type for name CaloSampling\n",
      "WARNING:func_adl.type_based_replacement:Unknown type for name CaloSampling\n",
      "WARNING:func_adl.type_based_replacement:Unknown type for name CaloSampling\n"
     ]
    },
    {
     "ename": "ServiceXException",
     "evalue": "(ServiceXException(...), 'ServiceX rejected the transformation request: (500){\"message\": \"Something went wrong (Failed to generate translation code: Internal Error: attempted to get C++ representation for AST node \\\\\"Name(id=\\'CaloSampling\\', ctx=Load())\\\\\", but failed.)\"}\\n')",
     "output_type": "error",
     "traceback": [
      "\u001b[1;31m---------------------------------------------------------------------------\u001b[0m",
      "\u001b[1;31mServiceXException\u001b[0m                         Traceback (most recent call last)",
      "Cell \u001b[1;32mIn[9], line 16\u001b[0m\n\u001b[0;32m      1\u001b[0m \u001b[38;5;28;01mfrom\u001b[39;00m \u001b[38;5;21;01mfunc_adl_servicex_xaodr21\u001b[39;00m\u001b[38;5;21;01m.\u001b[39;00m\u001b[38;5;21;01mcalosampling\u001b[39;00m \u001b[38;5;28;01mimport\u001b[39;00m CaloSampling\n\u001b[0;32m      2\u001b[0m clusters_query \u001b[38;5;241m=\u001b[39m (\n\u001b[0;32m      3\u001b[0m     ds\u001b[38;5;241m.\u001b[39mSelect(\u001b[38;5;28;01mlambda\u001b[39;00m e: e\u001b[38;5;241m.\u001b[39mCaloClusters(\u001b[38;5;124m\"\u001b[39m\u001b[38;5;124megammaClusters\u001b[39m\u001b[38;5;124m\"\u001b[39m))\n\u001b[0;32m      4\u001b[0m     \u001b[38;5;241m.\u001b[39mSelect(\u001b[38;5;28;01mlambda\u001b[39;00m e: {\n\u001b[1;32m   (...)\u001b[0m\n\u001b[0;32m     13\u001b[0m     }\n\u001b[0;32m     14\u001b[0m     ))\n\u001b[1;32m---> 16\u001b[0m clusters \u001b[38;5;241m=\u001b[39m \u001b[43mclusters_query\u001b[49m\u001b[38;5;241;43m.\u001b[39;49m\u001b[43mAsAwkwardArray\u001b[49m\u001b[43m(\u001b[49m\u001b[43m)\u001b[49m\u001b[38;5;241;43m.\u001b[39;49m\u001b[43mvalue\u001b[49m\u001b[43m(\u001b[49m\u001b[43m)\u001b[49m\n",
      "File \u001b[1;32mc:\\Users\\gordo\\Code\\calratio\\sx_training_fetch\\.venv\\lib\\site-packages\\make_it_sync\\func_wrapper.py:63\u001b[0m, in \u001b[0;36mmake_sync.<locals>.wrapped_call\u001b[1;34m(*args, **kwargs)\u001b[0m\n\u001b[0;32m     61\u001b[0m \u001b[38;5;129m@wraps\u001b[39m(fn)\n\u001b[0;32m     62\u001b[0m \u001b[38;5;28;01mdef\u001b[39;00m \u001b[38;5;21mwrapped_call\u001b[39m(\u001b[38;5;241m*\u001b[39margs, \u001b[38;5;241m*\u001b[39m\u001b[38;5;241m*\u001b[39mkwargs):\n\u001b[1;32m---> 63\u001b[0m     \u001b[38;5;28;01mreturn\u001b[39;00m _sync_version_of_function(fn, \u001b[38;5;241m*\u001b[39margs, \u001b[38;5;241m*\u001b[39m\u001b[38;5;241m*\u001b[39mkwargs)\n",
      "File \u001b[1;32mc:\\Users\\gordo\\Code\\calratio\\sx_training_fetch\\.venv\\lib\\site-packages\\make_it_sync\\func_wrapper.py:26\u001b[0m, in \u001b[0;36m_sync_version_of_function\u001b[1;34m(fn, *args, **kwargs)\u001b[0m\n\u001b[0;32m     23\u001b[0m exector \u001b[38;5;241m=\u001b[39m ThreadPoolExecutor(max_workers\u001b[38;5;241m=\u001b[39m\u001b[38;5;241m1\u001b[39m)\n\u001b[0;32m     24\u001b[0m future \u001b[38;5;241m=\u001b[39m exector\u001b[38;5;241m.\u001b[39msubmit(get_data_wrapper, \u001b[38;5;241m*\u001b[39margs, \u001b[38;5;241m*\u001b[39m\u001b[38;5;241m*\u001b[39mkwargs)\n\u001b[1;32m---> 26\u001b[0m \u001b[38;5;28;01mreturn\u001b[39;00m \u001b[43mfuture\u001b[49m\u001b[38;5;241;43m.\u001b[39;49m\u001b[43mresult\u001b[49m\u001b[43m(\u001b[49m\u001b[43m)\u001b[49m\n",
      "File \u001b[1;32m~\\AppData\\Local\\Programs\\Python\\Python310\\lib\\concurrent\\futures\\_base.py:458\u001b[0m, in \u001b[0;36mFuture.result\u001b[1;34m(self, timeout)\u001b[0m\n\u001b[0;32m    456\u001b[0m     \u001b[38;5;28;01mraise\u001b[39;00m CancelledError()\n\u001b[0;32m    457\u001b[0m \u001b[38;5;28;01melif\u001b[39;00m \u001b[38;5;28mself\u001b[39m\u001b[38;5;241m.\u001b[39m_state \u001b[38;5;241m==\u001b[39m FINISHED:\n\u001b[1;32m--> 458\u001b[0m     \u001b[38;5;28;01mreturn\u001b[39;00m \u001b[38;5;28;43mself\u001b[39;49m\u001b[38;5;241;43m.\u001b[39;49m\u001b[43m__get_result\u001b[49m\u001b[43m(\u001b[49m\u001b[43m)\u001b[49m\n\u001b[0;32m    459\u001b[0m \u001b[38;5;28;01melse\u001b[39;00m:\n\u001b[0;32m    460\u001b[0m     \u001b[38;5;28;01mraise\u001b[39;00m \u001b[38;5;167;01mTimeoutError\u001b[39;00m()\n",
      "File \u001b[1;32m~\\AppData\\Local\\Programs\\Python\\Python310\\lib\\concurrent\\futures\\_base.py:403\u001b[0m, in \u001b[0;36mFuture.__get_result\u001b[1;34m(self)\u001b[0m\n\u001b[0;32m    401\u001b[0m \u001b[38;5;28;01mif\u001b[39;00m \u001b[38;5;28mself\u001b[39m\u001b[38;5;241m.\u001b[39m_exception:\n\u001b[0;32m    402\u001b[0m     \u001b[38;5;28;01mtry\u001b[39;00m:\n\u001b[1;32m--> 403\u001b[0m         \u001b[38;5;28;01mraise\u001b[39;00m \u001b[38;5;28mself\u001b[39m\u001b[38;5;241m.\u001b[39m_exception\n\u001b[0;32m    404\u001b[0m     \u001b[38;5;28;01mfinally\u001b[39;00m:\n\u001b[0;32m    405\u001b[0m         \u001b[38;5;66;03m# Break a reference cycle with the exception in self._exception\u001b[39;00m\n\u001b[0;32m    406\u001b[0m         \u001b[38;5;28mself\u001b[39m \u001b[38;5;241m=\u001b[39m \u001b[38;5;28;01mNone\u001b[39;00m\n",
      "File \u001b[1;32m~\\AppData\\Local\\Programs\\Python\\Python310\\lib\\concurrent\\futures\\thread.py:58\u001b[0m, in \u001b[0;36m_WorkItem.run\u001b[1;34m(self)\u001b[0m\n\u001b[0;32m     55\u001b[0m     \u001b[38;5;28;01mreturn\u001b[39;00m\n\u001b[0;32m     57\u001b[0m \u001b[38;5;28;01mtry\u001b[39;00m:\n\u001b[1;32m---> 58\u001b[0m     result \u001b[38;5;241m=\u001b[39m \u001b[38;5;28mself\u001b[39m\u001b[38;5;241m.\u001b[39mfn(\u001b[38;5;241m*\u001b[39m\u001b[38;5;28mself\u001b[39m\u001b[38;5;241m.\u001b[39margs, \u001b[38;5;241m*\u001b[39m\u001b[38;5;241m*\u001b[39m\u001b[38;5;28mself\u001b[39m\u001b[38;5;241m.\u001b[39mkwargs)\n\u001b[0;32m     59\u001b[0m \u001b[38;5;28;01mexcept\u001b[39;00m \u001b[38;5;167;01mBaseException\u001b[39;00m \u001b[38;5;28;01mas\u001b[39;00m exc:\n\u001b[0;32m     60\u001b[0m     \u001b[38;5;28mself\u001b[39m\u001b[38;5;241m.\u001b[39mfuture\u001b[38;5;241m.\u001b[39mset_exception(exc)\n",
      "File \u001b[1;32mc:\\Users\\gordo\\Code\\calratio\\sx_training_fetch\\.venv\\lib\\site-packages\\make_it_sync\\func_wrapper.py:21\u001b[0m, in \u001b[0;36m_sync_version_of_function.<locals>.get_data_wrapper\u001b[1;34m(*args, **kwargs)\u001b[0m\n\u001b[0;32m     19\u001b[0m asyncio\u001b[38;5;241m.\u001b[39mset_event_loop(loop)\n\u001b[0;32m     20\u001b[0m \u001b[38;5;28;01massert\u001b[39;00m \u001b[38;5;129;01mnot\u001b[39;00m loop\u001b[38;5;241m.\u001b[39mis_running()\n\u001b[1;32m---> 21\u001b[0m \u001b[38;5;28;01mreturn\u001b[39;00m \u001b[43mloop\u001b[49m\u001b[38;5;241;43m.\u001b[39;49m\u001b[43mrun_until_complete\u001b[49m\u001b[43m(\u001b[49m\u001b[43mfn\u001b[49m\u001b[43m(\u001b[49m\u001b[38;5;241;43m*\u001b[39;49m\u001b[43margs\u001b[49m\u001b[43m,\u001b[49m\u001b[43m \u001b[49m\u001b[38;5;241;43m*\u001b[39;49m\u001b[38;5;241;43m*\u001b[39;49m\u001b[43mkwargs\u001b[49m\u001b[43m)\u001b[49m\u001b[43m)\u001b[49m\n",
      "File \u001b[1;32m~\\AppData\\Local\\Programs\\Python\\Python310\\lib\\asyncio\\base_events.py:649\u001b[0m, in \u001b[0;36mBaseEventLoop.run_until_complete\u001b[1;34m(self, future)\u001b[0m\n\u001b[0;32m    646\u001b[0m \u001b[38;5;28;01mif\u001b[39;00m \u001b[38;5;129;01mnot\u001b[39;00m future\u001b[38;5;241m.\u001b[39mdone():\n\u001b[0;32m    647\u001b[0m     \u001b[38;5;28;01mraise\u001b[39;00m \u001b[38;5;167;01mRuntimeError\u001b[39;00m(\u001b[38;5;124m'\u001b[39m\u001b[38;5;124mEvent loop stopped before Future completed.\u001b[39m\u001b[38;5;124m'\u001b[39m)\n\u001b[1;32m--> 649\u001b[0m \u001b[38;5;28;01mreturn\u001b[39;00m \u001b[43mfuture\u001b[49m\u001b[38;5;241;43m.\u001b[39;49m\u001b[43mresult\u001b[49m\u001b[43m(\u001b[49m\u001b[43m)\u001b[49m\n",
      "File \u001b[1;32mc:\\Users\\gordo\\Code\\calratio\\sx_training_fetch\\.venv\\lib\\site-packages\\func_adl\\object_stream.py:425\u001b[0m, in \u001b[0;36mObjectStream.value_async\u001b[1;34m(self, executor, title)\u001b[0m\n\u001b[0;32m    422\u001b[0m \u001b[38;5;66;03m# Run it\u001b[39;00m\n\u001b[0;32m    423\u001b[0m \u001b[38;5;28;01mfrom\u001b[39;00m \u001b[38;5;21;01mfunc_adl\u001b[39;00m\u001b[38;5;21;01m.\u001b[39;00m\u001b[38;5;21;01mast\u001b[39;00m\u001b[38;5;21;01m.\u001b[39;00m\u001b[38;5;21;01mmeta_data\u001b[39;00m \u001b[38;5;28;01mimport\u001b[39;00m remove_empty_metadata\n\u001b[1;32m--> 425\u001b[0m \u001b[38;5;28;01mreturn\u001b[39;00m \u001b[38;5;28;01mawait\u001b[39;00m exe(remove_empty_metadata(\u001b[38;5;28mself\u001b[39m\u001b[38;5;241m.\u001b[39m_q_ast), title)\n",
      "File \u001b[1;32mc:\\Users\\gordo\\Code\\calratio\\sx_training_fetch\\.venv\\lib\\site-packages\\func_adl_servicex\\ServiceX.py:252\u001b[0m, in \u001b[0;36mServiceXDatasetSourceBase.execute_result_async\u001b[1;34m(self, a, title)\u001b[0m\n\u001b[0;32m    250\u001b[0m \u001b[38;5;66;03m# Run the query for real!\u001b[39;00m\n\u001b[0;32m    251\u001b[0m attr \u001b[38;5;241m=\u001b[39m \u001b[38;5;28mgetattr\u001b[39m(\u001b[38;5;28mself\u001b[39m\u001b[38;5;241m.\u001b[39m_ds, name)\n\u001b[1;32m--> 252\u001b[0m result \u001b[38;5;241m=\u001b[39m \u001b[38;5;28;01mawait\u001b[39;00m attr(q_str, title\u001b[38;5;241m=\u001b[39mtitle)\n\u001b[0;32m    254\u001b[0m \u001b[38;5;66;03m# If this is a single column awkward query, and the user did not specify a column name, then\u001b[39;00m\n\u001b[0;32m    255\u001b[0m \u001b[38;5;66;03m# we will return the first column.\u001b[39;00m\n\u001b[0;32m    256\u001b[0m \u001b[38;5;28;01mif\u001b[39;00m (\n\u001b[0;32m    257\u001b[0m     \u001b[38;5;124m\"\u001b[39m\u001b[38;5;124mawkward\u001b[39m\u001b[38;5;124m\"\u001b[39m \u001b[38;5;129;01min\u001b[39;00m name\n\u001b[0;32m    258\u001b[0m     \u001b[38;5;129;01mand\u001b[39;00m (\u001b[38;5;129;01mnot\u001b[39;00m has_col_names(a))\n\u001b[0;32m    259\u001b[0m     \u001b[38;5;129;01mand\u001b[39;00m \u001b[38;5;124m'\u001b[39m\u001b[38;5;124mkey=\u001b[39m\u001b[38;5;124m\"\u001b[39m\u001b[38;5;124mcol1\u001b[39m\u001b[38;5;124m\"\u001b[39m\u001b[38;5;124m'\u001b[39m \u001b[38;5;129;01min\u001b[39;00m \u001b[38;5;28mstr\u001b[39m(result\u001b[38;5;241m.\u001b[39mlayout)\n\u001b[0;32m    260\u001b[0m ):\n",
      "File \u001b[1;32mc:\\Users\\gordo\\Code\\calratio\\sx_training_fetch\\.venv\\lib\\site-packages\\servicex\\servicex_utils.py:51\u001b[0m, in \u001b[0;36m_wrap_in_memory_sx_cache.<locals>.cached_version_of_fn\u001b[1;34m(*args, **kwargs)\u001b[0m\n\u001b[0;32m     49\u001b[0m \u001b[38;5;28;01mtry\u001b[39;00m:\n\u001b[0;32m     50\u001b[0m     logger\u001b[38;5;241m.\u001b[39mdebug(\u001b[38;5;124mf\u001b[39m\u001b[38;5;124m\"\u001b[39m\u001b[38;5;132;01m{\u001b[39;00mh\u001b[38;5;132;01m}\u001b[39;00m\u001b[38;5;124m - processing request\u001b[39m\u001b[38;5;124m\"\u001b[39m)\n\u001b[1;32m---> 51\u001b[0m     result \u001b[38;5;241m=\u001b[39m \u001b[38;5;28;01mawait\u001b[39;00m fn(\u001b[38;5;241m*\u001b[39margs, \u001b[38;5;241m*\u001b[39m\u001b[38;5;241m*\u001b[39mkwargs)\n\u001b[0;32m     52\u001b[0m     sx\u001b[38;5;241m.\u001b[39m_cache\u001b[38;5;241m.\u001b[39mset_inmem(h, result)\n\u001b[0;32m     53\u001b[0m \u001b[38;5;28;01mfinally\u001b[39;00m:\n",
      "File \u001b[1;32mc:\\Users\\gordo\\Code\\calratio\\sx_training_fetch\\.venv\\lib\\site-packages\\servicex\\servicex.py:436\u001b[0m, in \u001b[0;36mServiceXDataset.get_data_awkward_async\u001b[1;34m(self, selection_query, title)\u001b[0m\n\u001b[0;32m    429\u001b[0m \u001b[38;5;129m@functools\u001b[39m\u001b[38;5;241m.\u001b[39mwraps(ServiceXABC\u001b[38;5;241m.\u001b[39mget_data_awkward_async, updated\u001b[38;5;241m=\u001b[39m())\n\u001b[0;32m    430\u001b[0m \u001b[38;5;129m@_wrap_in_memory_sx_cache\u001b[39m\n\u001b[0;32m    431\u001b[0m \u001b[38;5;28;01masync\u001b[39;00m \u001b[38;5;28;01mdef\u001b[39;00m \u001b[38;5;21mget_data_awkward_async\u001b[39m(\n\u001b[0;32m    432\u001b[0m     \u001b[38;5;28mself\u001b[39m, selection_query: \u001b[38;5;28mstr\u001b[39m, title: Optional[\u001b[38;5;28mstr\u001b[39m] \u001b[38;5;241m=\u001b[39m \u001b[38;5;28;01mNone\u001b[39;00m\n\u001b[0;32m    433\u001b[0m ):\n\u001b[0;32m    434\u001b[0m     data_format \u001b[38;5;241m=\u001b[39m \u001b[38;5;28mself\u001b[39m\u001b[38;5;241m.\u001b[39m_return_types[\u001b[38;5;241m0\u001b[39m]\n\u001b[0;32m    435\u001b[0m     \u001b[38;5;28;01mreturn\u001b[39;00m \u001b[38;5;28mself\u001b[39m\u001b[38;5;241m.\u001b[39m_converter\u001b[38;5;241m.\u001b[39mcombine_awkward(\n\u001b[1;32m--> 436\u001b[0m         \u001b[38;5;28;01mawait\u001b[39;00m \u001b[38;5;28mself\u001b[39m\u001b[38;5;241m.\u001b[39m_data_return(\n\u001b[0;32m    437\u001b[0m             selection_query,\n\u001b[0;32m    438\u001b[0m             \u001b[38;5;28;01mlambda\u001b[39;00m f: \u001b[38;5;28mself\u001b[39m\u001b[38;5;241m.\u001b[39m_converter\u001b[38;5;241m.\u001b[39mconvert_to_awkward(f),\n\u001b[0;32m    439\u001b[0m             title,\n\u001b[0;32m    440\u001b[0m             data_format\u001b[38;5;241m=\u001b[39mdata_format,\n\u001b[0;32m    441\u001b[0m         )\n\u001b[0;32m    442\u001b[0m     )\n",
      "File \u001b[1;32mc:\\Users\\gordo\\Code\\calratio\\sx_training_fetch\\.venv\\lib\\site-packages\\backoff\\_async.py:151\u001b[0m, in \u001b[0;36mretry_exception.<locals>.retry\u001b[1;34m(*args, **kwargs)\u001b[0m\n\u001b[0;32m    142\u001b[0m details \u001b[38;5;241m=\u001b[39m {\n\u001b[0;32m    143\u001b[0m     \u001b[38;5;124m\"\u001b[39m\u001b[38;5;124mtarget\u001b[39m\u001b[38;5;124m\"\u001b[39m: target,\n\u001b[0;32m    144\u001b[0m     \u001b[38;5;124m\"\u001b[39m\u001b[38;5;124margs\u001b[39m\u001b[38;5;124m\"\u001b[39m: args,\n\u001b[1;32m   (...)\u001b[0m\n\u001b[0;32m    147\u001b[0m     \u001b[38;5;124m\"\u001b[39m\u001b[38;5;124melapsed\u001b[39m\u001b[38;5;124m\"\u001b[39m: elapsed,\n\u001b[0;32m    148\u001b[0m }\n\u001b[0;32m    150\u001b[0m \u001b[38;5;28;01mtry\u001b[39;00m:\n\u001b[1;32m--> 151\u001b[0m     ret \u001b[38;5;241m=\u001b[39m \u001b[38;5;28;01mawait\u001b[39;00m target(\u001b[38;5;241m*\u001b[39margs, \u001b[38;5;241m*\u001b[39m\u001b[38;5;241m*\u001b[39mkwargs)\n\u001b[0;32m    152\u001b[0m \u001b[38;5;28;01mexcept\u001b[39;00m exception \u001b[38;5;28;01mas\u001b[39;00m e:\n\u001b[0;32m    153\u001b[0m     giveup_result \u001b[38;5;241m=\u001b[39m \u001b[38;5;28;01mawait\u001b[39;00m giveup(e)\n",
      "File \u001b[1;32mc:\\Users\\gordo\\Code\\calratio\\sx_training_fetch\\.venv\\lib\\site-packages\\backoff\\_async.py:151\u001b[0m, in \u001b[0;36mretry_exception.<locals>.retry\u001b[1;34m(*args, **kwargs)\u001b[0m\n\u001b[0;32m    142\u001b[0m details \u001b[38;5;241m=\u001b[39m {\n\u001b[0;32m    143\u001b[0m     \u001b[38;5;124m\"\u001b[39m\u001b[38;5;124mtarget\u001b[39m\u001b[38;5;124m\"\u001b[39m: target,\n\u001b[0;32m    144\u001b[0m     \u001b[38;5;124m\"\u001b[39m\u001b[38;5;124margs\u001b[39m\u001b[38;5;124m\"\u001b[39m: args,\n\u001b[1;32m   (...)\u001b[0m\n\u001b[0;32m    147\u001b[0m     \u001b[38;5;124m\"\u001b[39m\u001b[38;5;124melapsed\u001b[39m\u001b[38;5;124m\"\u001b[39m: elapsed,\n\u001b[0;32m    148\u001b[0m }\n\u001b[0;32m    150\u001b[0m \u001b[38;5;28;01mtry\u001b[39;00m:\n\u001b[1;32m--> 151\u001b[0m     ret \u001b[38;5;241m=\u001b[39m \u001b[38;5;28;01mawait\u001b[39;00m target(\u001b[38;5;241m*\u001b[39margs, \u001b[38;5;241m*\u001b[39m\u001b[38;5;241m*\u001b[39mkwargs)\n\u001b[0;32m    152\u001b[0m \u001b[38;5;28;01mexcept\u001b[39;00m exception \u001b[38;5;28;01mas\u001b[39;00m e:\n\u001b[0;32m    153\u001b[0m     giveup_result \u001b[38;5;241m=\u001b[39m \u001b[38;5;28;01mawait\u001b[39;00m giveup(e)\n",
      "File \u001b[1;32mc:\\Users\\gordo\\Code\\calratio\\sx_training_fetch\\.venv\\lib\\site-packages\\servicex\\servicex.py:721\u001b[0m, in \u001b[0;36mServiceXDataset._data_return\u001b[1;34m(self, selection_query, converter, title, data_format)\u001b[0m\n\u001b[0;32m    687\u001b[0m \u001b[38;5;129m@on_exception\u001b[39m(backoff\u001b[38;5;241m.\u001b[39mconstant, ServiceXUnknownRequestID, interval\u001b[38;5;241m=\u001b[39m\u001b[38;5;241m0.1\u001b[39m, max_tries\u001b[38;5;241m=\u001b[39m\u001b[38;5;241m3\u001b[39m)\n\u001b[0;32m    688\u001b[0m \u001b[38;5;129m@on_exception\u001b[39m(\n\u001b[0;32m    689\u001b[0m     backoff\u001b[38;5;241m.\u001b[39mconstant,\n\u001b[1;32m   (...)\u001b[0m\n\u001b[0;32m    699\u001b[0m     data_format: \u001b[38;5;28mstr\u001b[39m \u001b[38;5;241m=\u001b[39m \u001b[38;5;124m\"\u001b[39m\u001b[38;5;124mroot-file\u001b[39m\u001b[38;5;124m\"\u001b[39m,\n\u001b[0;32m    700\u001b[0m ) \u001b[38;5;241m-\u001b[39m\u001b[38;5;241m>\u001b[39m List[Any]:\n\u001b[0;32m    701\u001b[0m \u001b[38;5;250m    \u001b[39m\u001b[38;5;124;03m\"\"\"Given a query, return the data, in a unique order, that hold\u001b[39;00m\n\u001b[0;32m    702\u001b[0m \u001b[38;5;124;03m    the data for the query.\u001b[39;00m\n\u001b[0;32m    703\u001b[0m \n\u001b[1;32m   (...)\u001b[0m\n\u001b[0;32m    719\u001b[0m \u001b[38;5;124;03m                            on the converter call.\u001b[39;00m\n\u001b[0;32m    720\u001b[0m \u001b[38;5;124;03m    \"\"\"\u001b[39;00m\n\u001b[1;32m--> 721\u001b[0m     all_data \u001b[38;5;241m=\u001b[39m {\n\u001b[0;32m    722\u001b[0m         f\u001b[38;5;241m.\u001b[39mfile: f\u001b[38;5;241m.\u001b[39mdata\n\u001b[0;32m    723\u001b[0m         \u001b[38;5;28;01masync\u001b[39;00m \u001b[38;5;28;01mfor\u001b[39;00m f \u001b[38;5;129;01min\u001b[39;00m \u001b[38;5;28mself\u001b[39m\u001b[38;5;241m.\u001b[39m_stream_return(\n\u001b[0;32m    724\u001b[0m             selection_query, title, converter, data_format\n\u001b[0;32m    725\u001b[0m         )\n\u001b[0;32m    726\u001b[0m     }\n\u001b[0;32m    728\u001b[0m     \u001b[38;5;66;03m# Finally, we need them in the proper order so we append them\u001b[39;00m\n\u001b[0;32m    729\u001b[0m     \u001b[38;5;66;03m# all together\u001b[39;00m\n\u001b[0;32m    730\u001b[0m     ordered_data \u001b[38;5;241m=\u001b[39m [all_data[k] \u001b[38;5;28;01mfor\u001b[39;00m k \u001b[38;5;129;01min\u001b[39;00m \u001b[38;5;28msorted\u001b[39m(all_data\u001b[38;5;241m.\u001b[39mkeys())]\n",
      "File \u001b[1;32mc:\\Users\\gordo\\Code\\calratio\\sx_training_fetch\\.venv\\lib\\site-packages\\servicex\\servicex.py:721\u001b[0m, in \u001b[0;36m<dictcomp>\u001b[1;34m(.0)\u001b[0m\n\u001b[0;32m    687\u001b[0m \u001b[38;5;129m@on_exception\u001b[39m(backoff\u001b[38;5;241m.\u001b[39mconstant, ServiceXUnknownRequestID, interval\u001b[38;5;241m=\u001b[39m\u001b[38;5;241m0.1\u001b[39m, max_tries\u001b[38;5;241m=\u001b[39m\u001b[38;5;241m3\u001b[39m)\n\u001b[0;32m    688\u001b[0m \u001b[38;5;129m@on_exception\u001b[39m(\n\u001b[0;32m    689\u001b[0m     backoff\u001b[38;5;241m.\u001b[39mconstant,\n\u001b[1;32m   (...)\u001b[0m\n\u001b[0;32m    699\u001b[0m     data_format: \u001b[38;5;28mstr\u001b[39m \u001b[38;5;241m=\u001b[39m \u001b[38;5;124m\"\u001b[39m\u001b[38;5;124mroot-file\u001b[39m\u001b[38;5;124m\"\u001b[39m,\n\u001b[0;32m    700\u001b[0m ) \u001b[38;5;241m-\u001b[39m\u001b[38;5;241m>\u001b[39m List[Any]:\n\u001b[0;32m    701\u001b[0m \u001b[38;5;250m    \u001b[39m\u001b[38;5;124;03m\"\"\"Given a query, return the data, in a unique order, that hold\u001b[39;00m\n\u001b[0;32m    702\u001b[0m \u001b[38;5;124;03m    the data for the query.\u001b[39;00m\n\u001b[0;32m    703\u001b[0m \n\u001b[1;32m   (...)\u001b[0m\n\u001b[0;32m    719\u001b[0m \u001b[38;5;124;03m                            on the converter call.\u001b[39;00m\n\u001b[0;32m    720\u001b[0m \u001b[38;5;124;03m    \"\"\"\u001b[39;00m\n\u001b[1;32m--> 721\u001b[0m     all_data \u001b[38;5;241m=\u001b[39m {\n\u001b[0;32m    722\u001b[0m         f\u001b[38;5;241m.\u001b[39mfile: f\u001b[38;5;241m.\u001b[39mdata\n\u001b[0;32m    723\u001b[0m         \u001b[38;5;28;01masync\u001b[39;00m \u001b[38;5;28;01mfor\u001b[39;00m f \u001b[38;5;129;01min\u001b[39;00m \u001b[38;5;28mself\u001b[39m\u001b[38;5;241m.\u001b[39m_stream_return(\n\u001b[0;32m    724\u001b[0m             selection_query, title, converter, data_format\n\u001b[0;32m    725\u001b[0m         )\n\u001b[0;32m    726\u001b[0m     }\n\u001b[0;32m    728\u001b[0m     \u001b[38;5;66;03m# Finally, we need them in the proper order so we append them\u001b[39;00m\n\u001b[0;32m    729\u001b[0m     \u001b[38;5;66;03m# all together\u001b[39;00m\n\u001b[0;32m    730\u001b[0m     ordered_data \u001b[38;5;241m=\u001b[39m [all_data[k] \u001b[38;5;28;01mfor\u001b[39;00m k \u001b[38;5;129;01min\u001b[39;00m \u001b[38;5;28msorted\u001b[39m(all_data\u001b[38;5;241m.\u001b[39mkeys())]\n",
      "File \u001b[1;32mc:\\Users\\gordo\\Code\\calratio\\sx_training_fetch\\.venv\\lib\\site-packages\\servicex\\servicex.py:764\u001b[0m, in \u001b[0;36mServiceXDataset._stream_return\u001b[1;34m(self, selection_query, title, converter, data_format)\u001b[0m\n\u001b[0;32m    741\u001b[0m \u001b[38;5;250m\u001b[39m\u001b[38;5;124;03m\"\"\"Given a query, return the data, in the order it arrives back\u001b[39;00m\n\u001b[0;32m    742\u001b[0m \u001b[38;5;124;03mconverted as appropriate.\u001b[39;00m\n\u001b[0;32m    743\u001b[0m \n\u001b[1;32m   (...)\u001b[0m\n\u001b[0;32m    757\u001b[0m \u001b[38;5;124;03m                        on the converter call.\u001b[39;00m\n\u001b[0;32m    758\u001b[0m \u001b[38;5;124;03m\"\"\"\u001b[39;00m\n\u001b[0;32m    759\u001b[0m as_data \u001b[38;5;241m=\u001b[39m (\n\u001b[0;32m    760\u001b[0m     StreamInfoData(f\u001b[38;5;241m.\u001b[39mfile, \u001b[38;5;28;01mawait\u001b[39;00m asyncio\u001b[38;5;241m.\u001b[39mensure_future(converter(f\u001b[38;5;241m.\u001b[39mpath)))\n\u001b[0;32m    761\u001b[0m     \u001b[38;5;28;01masync\u001b[39;00m \u001b[38;5;28;01mfor\u001b[39;00m f \u001b[38;5;129;01min\u001b[39;00m \u001b[38;5;28mself\u001b[39m\u001b[38;5;241m.\u001b[39m_stream_local_files(selection_query, title, data_format)\n\u001b[0;32m    762\u001b[0m )  \u001b[38;5;66;03m# type: ignore\u001b[39;00m\n\u001b[1;32m--> 764\u001b[0m \u001b[38;5;28;01masync\u001b[39;00m \u001b[38;5;28;01mfor\u001b[39;00m r \u001b[38;5;129;01min\u001b[39;00m as_data:\n\u001b[0;32m    765\u001b[0m     \u001b[38;5;28;01myield\u001b[39;00m r\n",
      "File \u001b[1;32mc:\\Users\\gordo\\Code\\calratio\\sx_training_fetch\\.venv\\lib\\site-packages\\servicex\\servicex.py:759\u001b[0m, in \u001b[0;36m<genexpr>\u001b[1;34m(.0)\u001b[0m\n\u001b[0;32m    734\u001b[0m \u001b[38;5;28;01masync\u001b[39;00m \u001b[38;5;28;01mdef\u001b[39;00m \u001b[38;5;21m_stream_return\u001b[39m(\n\u001b[0;32m    735\u001b[0m     \u001b[38;5;28mself\u001b[39m,\n\u001b[0;32m    736\u001b[0m     selection_query: \u001b[38;5;28mstr\u001b[39m,\n\u001b[1;32m   (...)\u001b[0m\n\u001b[0;32m    739\u001b[0m     data_format: \u001b[38;5;28mstr\u001b[39m \u001b[38;5;241m=\u001b[39m \u001b[38;5;124m\"\u001b[39m\u001b[38;5;124mroot-file\u001b[39m\u001b[38;5;124m\"\u001b[39m,\n\u001b[0;32m    740\u001b[0m ) \u001b[38;5;241m-\u001b[39m\u001b[38;5;241m>\u001b[39m AsyncIterator[StreamInfoData]:\n\u001b[0;32m    741\u001b[0m \u001b[38;5;250m    \u001b[39m\u001b[38;5;124;03m\"\"\"Given a query, return the data, in the order it arrives back\u001b[39;00m\n\u001b[0;32m    742\u001b[0m \u001b[38;5;124;03m    converted as appropriate.\u001b[39;00m\n\u001b[0;32m    743\u001b[0m \n\u001b[1;32m   (...)\u001b[0m\n\u001b[0;32m    757\u001b[0m \u001b[38;5;124;03m                            on the converter call.\u001b[39;00m\n\u001b[0;32m    758\u001b[0m \u001b[38;5;124;03m    \"\"\"\u001b[39;00m\n\u001b[1;32m--> 759\u001b[0m     as_data \u001b[38;5;241m=\u001b[39m (\n\u001b[0;32m    760\u001b[0m         StreamInfoData(f\u001b[38;5;241m.\u001b[39mfile, \u001b[38;5;28;01mawait\u001b[39;00m asyncio\u001b[38;5;241m.\u001b[39mensure_future(converter(f\u001b[38;5;241m.\u001b[39mpath)))\n\u001b[0;32m    761\u001b[0m         \u001b[38;5;28;01masync\u001b[39;00m \u001b[38;5;28;01mfor\u001b[39;00m f \u001b[38;5;129;01min\u001b[39;00m \u001b[38;5;28mself\u001b[39m\u001b[38;5;241m.\u001b[39m_stream_local_files(selection_query, title, data_format)\n\u001b[0;32m    762\u001b[0m     )  \u001b[38;5;66;03m# type: ignore\u001b[39;00m\n\u001b[0;32m    764\u001b[0m     \u001b[38;5;28;01masync\u001b[39;00m \u001b[38;5;28;01mfor\u001b[39;00m r \u001b[38;5;129;01min\u001b[39;00m as_data:\n\u001b[0;32m    765\u001b[0m         \u001b[38;5;28;01myield\u001b[39;00m r\n",
      "File \u001b[1;32mc:\\Users\\gordo\\Code\\calratio\\sx_training_fetch\\.venv\\lib\\site-packages\\servicex\\servicex.py:799\u001b[0m, in \u001b[0;36mServiceXDataset._stream_local_files\u001b[1;34m(self, selection_query, title, data_format)\u001b[0m\n\u001b[0;32m    791\u001b[0m \u001b[38;5;66;03m# Get all the files\u001b[39;00m\n\u001b[0;32m    792\u001b[0m as_files \u001b[38;5;241m=\u001b[39m (\n\u001b[0;32m    793\u001b[0m     f\n\u001b[0;32m    794\u001b[0m     \u001b[38;5;28;01masync\u001b[39;00m \u001b[38;5;28;01mfor\u001b[39;00m f \u001b[38;5;129;01min\u001b[39;00m \u001b[38;5;28mself\u001b[39m\u001b[38;5;241m.\u001b[39m_get_files(\n\u001b[0;32m    795\u001b[0m         selection_query, data_format, notifier, title\n\u001b[0;32m    796\u001b[0m     )\n\u001b[0;32m    797\u001b[0m )  \u001b[38;5;66;03m# type: ignore\u001b[39;00m\n\u001b[1;32m--> 799\u001b[0m \u001b[38;5;28;01masync\u001b[39;00m \u001b[38;5;28;01mfor\u001b[39;00m name, a_path \u001b[38;5;129;01min\u001b[39;00m as_files:\n\u001b[0;32m    800\u001b[0m     \u001b[38;5;28;01myield\u001b[39;00m StreamInfoPath(name, Path(\u001b[38;5;28;01mawait\u001b[39;00m a_path))\n",
      "File \u001b[1;32mc:\\Users\\gordo\\Code\\calratio\\sx_training_fetch\\.venv\\lib\\site-packages\\servicex\\servicex.py:792\u001b[0m, in \u001b[0;36m<genexpr>\u001b[1;34m(.0)\u001b[0m\n\u001b[0;32m    789\u001b[0m notifier \u001b[38;5;241m=\u001b[39m \u001b[38;5;28mself\u001b[39m\u001b[38;5;241m.\u001b[39m_create_notifier(title, \u001b[38;5;28;01mTrue\u001b[39;00m)\n\u001b[0;32m    791\u001b[0m \u001b[38;5;66;03m# Get all the files\u001b[39;00m\n\u001b[1;32m--> 792\u001b[0m as_files \u001b[38;5;241m=\u001b[39m (\n\u001b[0;32m    793\u001b[0m     f\n\u001b[0;32m    794\u001b[0m     \u001b[38;5;28;01masync\u001b[39;00m \u001b[38;5;28;01mfor\u001b[39;00m f \u001b[38;5;129;01min\u001b[39;00m \u001b[38;5;28mself\u001b[39m\u001b[38;5;241m.\u001b[39m_get_files(\n\u001b[0;32m    795\u001b[0m         selection_query, data_format, notifier, title\n\u001b[0;32m    796\u001b[0m     )\n\u001b[0;32m    797\u001b[0m )  \u001b[38;5;66;03m# type: ignore\u001b[39;00m\n\u001b[0;32m    799\u001b[0m \u001b[38;5;28;01masync\u001b[39;00m \u001b[38;5;28;01mfor\u001b[39;00m name, a_path \u001b[38;5;129;01min\u001b[39;00m as_files:\n\u001b[0;32m    800\u001b[0m     \u001b[38;5;28;01myield\u001b[39;00m StreamInfoPath(name, Path(\u001b[38;5;28;01mawait\u001b[39;00m a_path))\n",
      "File \u001b[1;32mc:\\Users\\gordo\\Code\\calratio\\sx_training_fetch\\.venv\\lib\\site-packages\\servicex\\servicex.py:838\u001b[0m, in \u001b[0;36mServiceXDataset._get_files\u001b[1;34m(self, selection_query, data_format, notifier, title)\u001b[0m\n\u001b[0;32m    834\u001b[0m query \u001b[38;5;241m=\u001b[39m \u001b[38;5;28mself\u001b[39m\u001b[38;5;241m.\u001b[39m_build_json_query(selection_query, data_format, title)\n\u001b[0;32m    836\u001b[0m \u001b[38;5;28;01masync\u001b[39;00m \u001b[38;5;28;01mwith\u001b[39;00m aiohttp\u001b[38;5;241m.\u001b[39mClientSession() \u001b[38;5;28;01mas\u001b[39;00m client:\n\u001b[0;32m    837\u001b[0m     \u001b[38;5;66;03m# Get a request id - which might be cached, but if not, submit it.\u001b[39;00m\n\u001b[1;32m--> 838\u001b[0m     request_id \u001b[38;5;241m=\u001b[39m \u001b[38;5;28;01mawait\u001b[39;00m \u001b[38;5;28mself\u001b[39m\u001b[38;5;241m.\u001b[39m_get_request_id(client, query)\n\u001b[0;32m    840\u001b[0m     \u001b[38;5;66;03m# Make sure cache status exists (user could have deleted, see #176)\u001b[39;00m\n\u001b[0;32m    841\u001b[0m     \u001b[38;5;28;01mif\u001b[39;00m \u001b[38;5;129;01mnot\u001b[39;00m \u001b[38;5;28mself\u001b[39m\u001b[38;5;241m.\u001b[39m_cache\u001b[38;5;241m.\u001b[39mquery_status_exists(request_id):\n",
      "File \u001b[1;32mc:\\Users\\gordo\\Code\\calratio\\sx_training_fetch\\.venv\\lib\\site-packages\\servicex\\servicex.py:911\u001b[0m, in \u001b[0;36mServiceXDataset._get_request_id\u001b[1;34m(self, client, query)\u001b[0m\n\u001b[0;32m    909\u001b[0m request_id \u001b[38;5;241m=\u001b[39m \u001b[38;5;28mself\u001b[39m\u001b[38;5;241m.\u001b[39m_cache\u001b[38;5;241m.\u001b[39mlookup_query(query)\n\u001b[0;32m    910\u001b[0m \u001b[38;5;28;01mif\u001b[39;00m request_id \u001b[38;5;129;01mis\u001b[39;00m \u001b[38;5;28;01mNone\u001b[39;00m:\n\u001b[1;32m--> 911\u001b[0m     request_info \u001b[38;5;241m=\u001b[39m \u001b[38;5;28;01mawait\u001b[39;00m \u001b[38;5;28mself\u001b[39m\u001b[38;5;241m.\u001b[39m_servicex_adaptor\u001b[38;5;241m.\u001b[39msubmit_query(client, query)\n\u001b[0;32m    912\u001b[0m     request_id \u001b[38;5;241m=\u001b[39m request_info[\u001b[38;5;124m\"\u001b[39m\u001b[38;5;124mrequest_id\u001b[39m\u001b[38;5;124m\"\u001b[39m]\n\u001b[0;32m    913\u001b[0m     \u001b[38;5;28mself\u001b[39m\u001b[38;5;241m.\u001b[39m_cache\u001b[38;5;241m.\u001b[39mset_query(query, request_id)\n",
      "File \u001b[1;32mc:\\Users\\gordo\\Code\\calratio\\sx_training_fetch\\.venv\\lib\\site-packages\\servicex\\servicex_adaptor.py:72\u001b[0m, in \u001b[0;36mServiceXAdaptor.submit_query\u001b[1;34m(self, client, json_query)\u001b[0m\n\u001b[0;32m     68\u001b[0m \u001b[38;5;28;01mif\u001b[39;00m status \u001b[38;5;241m!=\u001b[39m \u001b[38;5;241m200\u001b[39m:\n\u001b[0;32m     69\u001b[0m     \u001b[38;5;66;03m# This was an error at ServiceX, bubble it up so code above us can\u001b[39;00m\n\u001b[0;32m     70\u001b[0m     \u001b[38;5;66;03m# handle as needed.\u001b[39;00m\n\u001b[0;32m     71\u001b[0m     t \u001b[38;5;241m=\u001b[39m \u001b[38;5;28;01mawait\u001b[39;00m response\u001b[38;5;241m.\u001b[39mtext()\n\u001b[1;32m---> 72\u001b[0m     \u001b[38;5;28;01mraise\u001b[39;00m ServiceXException(\n\u001b[0;32m     73\u001b[0m         \u001b[38;5;124m\"\u001b[39m\u001b[38;5;124mServiceX rejected the transformation request: \u001b[39m\u001b[38;5;124m\"\u001b[39m \u001b[38;5;124mf\u001b[39m\u001b[38;5;124m\"\u001b[39m\u001b[38;5;124m(\u001b[39m\u001b[38;5;132;01m{\u001b[39;00mstatus\u001b[38;5;132;01m}\u001b[39;00m\u001b[38;5;124m)\u001b[39m\u001b[38;5;132;01m{\u001b[39;00mt\u001b[38;5;132;01m}\u001b[39;00m\u001b[38;5;124m\"\u001b[39m\n\u001b[0;32m     74\u001b[0m     )\n\u001b[0;32m     76\u001b[0m r \u001b[38;5;241m=\u001b[39m \u001b[38;5;28;01mawait\u001b[39;00m response\u001b[38;5;241m.\u001b[39mjson()\n\u001b[0;32m     77\u001b[0m \u001b[38;5;28;01mreturn\u001b[39;00m r\n",
      "\u001b[1;31mServiceXException\u001b[0m: (ServiceXException(...), 'ServiceX rejected the transformation request: (500){\"message\": \"Something went wrong (Failed to generate translation code: Internal Error: attempted to get C++ representation for AST node \\\\\"Name(id=\\'CaloSampling\\', ctx=Load())\\\\\", but failed.)\"}\\n')"
     ]
    }
   ],
   "source": [
    "from func_adl_servicex_xaodr21.calosampling import CaloSampling\n",
    "clusters_query = (\n",
    "    ds.Select(lambda e: e.CaloClusters(\"egammaClusters\"))\n",
    "    .Select(lambda e: {\n",
    "        \"pt\": e.Select(lambda cluster: cluster.pt() / 1000.0),\n",
    "        \"eta\": e.Select(lambda cluster: cluster.eta() / 1000.0),\n",
    "        \"phi\": e.Select(lambda cluster: cluster.phi() / 1000.0),\n",
    "        # TODO: Check the layers below here are right!!\n",
    "        \"l1ecal\": e.Select(lambda cluster: cluster.eSample(CaloSampling.CaloSample.PreSamplerE)),\n",
    "        \"l2ecal\": e.Select(lambda cluster: cluster.eSample(CaloSampling.CaloSample.EMB1)),\n",
    "        \"l3ecal\": e.Select(lambda cluster: cluster.eSample(CaloSampling.CaloSample.EMB2)),\n",
    "        \"l4ecal\": e.Select(lambda cluster: cluster.eSample(CaloSampling.CaloSample.EMB3)),\n",
    "    }\n",
    "    ))\n",
    "\n",
    "clusters = clusters_query.AsAwkwardArray().value()"
   ]
  },
  {
   "cell_type": "code",
   "execution_count": null,
   "metadata": {},
   "outputs": [],
   "source": [
    "clusters.compute()"
   ]
  },
  {
   "cell_type": "code",
   "execution_count": null,
   "metadata": {},
   "outputs": [],
   "source": [
    "clusters.compute().l1ecal"
   ]
  },
  {
   "cell_type": "code",
   "execution_count": null,
   "metadata": {},
   "outputs": [],
   "source": []
  }
 ],
 "metadata": {
  "kernelspec": {
   "display_name": ".venv",
   "language": "python",
   "name": "python3"
  },
  "language_info": {
   "codemirror_mode": {
    "name": "ipython",
    "version": 3
   },
   "file_extension": ".py",
   "mimetype": "text/x-python",
   "name": "python",
   "nbconvert_exporter": "python",
   "pygments_lexer": "ipython3",
   "version": "3.10.8"
  }
 },
 "nbformat": 4,
 "nbformat_minor": 2
}
