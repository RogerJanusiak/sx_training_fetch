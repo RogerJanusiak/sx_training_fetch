{
 "cells": [
  {
   "cell_type": "markdown",
   "metadata": {},
   "source": [
    "# Fetch\n",
    "\n",
    "Some dirt code to fetch data from UChicago that we need for training. The plan is to get this working and then turn it into something \"production\"\n",
    "\n",
    "NOTE: for now we need to use an older version of `uproot` and `awkward` - due to an internal bug."
   ]
  },
  {
   "cell_type": "markdown",
   "metadata": {},
   "source": [
    "## Imports"
   ]
  },
  {
   "cell_type": "code",
   "execution_count": 1,
   "metadata": {},
   "outputs": [
    {
     "name": "stdout",
     "output_type": "stream",
     "text": [
      "Using release 21.2.231\n"
     ]
    }
   ],
   "source": [
    "from func_adl_servicex_xaodr21 import atlas_release\n",
    "from func_adl_servicex_xaodr21 import SXDSAtlasxAODR21\n",
    "\n",
    "print(f'Using release {atlas_release}')"
   ]
  },
  {
   "cell_type": "markdown",
   "metadata": {},
   "source": [
    "## Datasets\n",
    "\n",
    "The datasets we can find right now... Here are a few lists. Here is what we are using officially for the analysis.\n",
    "\n",
    "```\n",
    "┏━━━━━━━━━━━━━━━━━━━━━━━━━━━━━━━━━━━━━━━━━━━━━━━━━━━━━━━━━━━━━━━━━━━━━━━━━━━━━━━━━━━━━━━━━━━━━━━━━━━━━━━━━━━━━━━━━━━━━━━━━━━━━━━━━━━┳━━━━━━━┳━━━━━━━┳━━━━━━━━━━━━┓\n",
    "┃ Name                                                                                                                              ┃ Files ┃ Tag   ┃ Cache      ┃\n",
    "┡━━━━━━━━━━━━━━━━━━━━━━━━━━━━━━━━━━━━━━━━━━━━━━━━━━━━━━━━━━━━━━━━━━━━━━━━━━━━━━━━━━━━━━━━━━━━━━━━━━━━━━━━━━━━━━━━━━━━━━━━━━━━━━━━━━━╇━━━━━━━╇━━━━━━━╇━━━━━━━━━━━━┩\n",
    "│ mc16_13TeV.311421.MGPy8EG_A14NNPDF23_NNPDF31ME_HSS_LLP_mH600_mS50.deriv.DAOD_EXOT15.e7357_e5984_s3234_r10201_r10210_p4696         │ 10    │ MC16d │ 21.2.128.0 │\n",
    "│ mc16_13TeV.311421.MGPy8EG_A14NNPDF23_NNPDF31ME_HSS_LLP_mH600_mS50.deriv.DAOD_EXOT15.e7357_e5984_s3234_r10724_r10726_p4696         │ 11    │ MC16e │ 21.2.128.0 │\n",
    "│ mc16_13TeV.311421.MGPy8EG_A14NNPDF23_NNPDF31ME_HSS_LLP_mH600_mS50.deriv.DAOD_EXOT15.e7357_e5984_s3234_r9364_r9315_p4696           │ 8     │ MC16a │ 21.2.128.0 │\n",
    "│ mc16_13TeV.311421.MGPy8EG_A14NNPDF23_NNPDF31ME_HSS_LLP_mH600_mS50.deriv.DAOD_EXOT15.e7357_s3234_r10201_p4696                      │ 10    │ MC16d │ 21.2.128.0 │\n",
    "│ mc16_13TeV.311421.MGPy8EG_A14NNPDF23_NNPDF31ME_HSS_LLP_mH600_mS50.deriv.DAOD_EXOT15.e7357_s3234_r10724_p4696                      │ 11    │ MC16e │ 21.2.128.0 │\n",
    "│ mc16_13TeV.311421.MGPy8EG_A14NNPDF23_NNPDF31ME_HSS_LLP_mH600_mS50.deriv.DAOD_EXOT15.e7357_s3234_r9364_p4696                       │ 8     │ MC16a │ 21.2.128.0 │\n",
    "│ mc16_13TeV.311422.MGPy8EG_A14NNPDF23_NNPDF31ME_HSS_LLP_mH600_mS150_ltlow.deriv.DAOD_EXOT15.e7357_e5984_s3234_r10201_r10210_p4696  │ 10    │ MC16d │ 21.2.128.0 │\n",
    "│ mc16_13TeV.311422.MGPy8EG_A14NNPDF23_NNPDF31ME_HSS_LLP_mH600_mS150_ltlow.deriv.DAOD_EXOT15.e7357_e5984_s3234_r10724_r10726_p4696  │ 11    │ MC16e │ 21.2.128.0 │\n",
    "│ mc16_13TeV.311422.MGPy8EG_A14NNPDF23_NNPDF31ME_HSS_LLP_mH600_mS150_ltlow.deriv.DAOD_EXOT15.e7357_e5984_s3234_r9364_r9315_p4696    │ 8     │ MC16a │ 21.2.128.0 │\n",
    "│ mc16_13TeV.311422.MGPy8EG_A14NNPDF23_NNPDF31ME_HSS_LLP_mH600_mS150_ltlow.deriv.DAOD_EXOT15.e7357_s3234_r10201_p4696               │ 10    │ MC16d │ 21.2.128.0 │\n",
    "│ mc16_13TeV.311422.MGPy8EG_A14NNPDF23_NNPDF31ME_HSS_LLP_mH600_mS150_ltlow.deriv.DAOD_EXOT15.e7357_s3234_r10724_p4696               │ 11    │ MC16e │ 21.2.128.0 │\n",
    "│ mc16_13TeV.311422.MGPy8EG_A14NNPDF23_NNPDF31ME_HSS_LLP_mH600_mS150_ltlow.deriv.DAOD_EXOT15.e7357_s3234_r9364_p4696                │ 8     │ MC16a │ 21.2.128.0 │\n",
    "│ mc16_13TeV.311423.MGPy8EG_A14NNPDF23_NNPDF31ME_HSS_LLP_mH600_mS150_lthigh.deriv.DAOD_EXOT15.e7357_e5984_s3234_r10201_r10210_p4696 │ 5     │ MC16d │ 21.2.128.0 │\n",
    "│ mc16_13TeV.311423.MGPy8EG_A14NNPDF23_NNPDF31ME_HSS_LLP_mH600_mS150_lthigh.deriv.DAOD_EXOT15.e7357_e5984_s3234_r10724_r10726_p4696 │ 6     │ MC16e │ 21.2.128.0 │\n",
    "│ mc16_13TeV.311423.MGPy8EG_A14NNPDF23_NNPDF31ME_HSS_LLP_mH600_mS150_lthigh.deriv.DAOD_EXOT15.e7357_e5984_s3234_r9364_r9315_p4696   │ 4     │ MC16a │ 21.2.128.0 │\n",
    "│ mc16_13TeV.311423.MGPy8EG_A14NNPDF23_NNPDF31ME_HSS_LLP_mH600_mS150_lthigh.deriv.DAOD_EXOT15.e7357_s3234_r10201_p4696              │ 5     │ MC16d │ 21.2.128.0 │\n",
    "│ mc16_13TeV.311423.MGPy8EG_A14NNPDF23_NNPDF31ME_HSS_LLP_mH600_mS150_lthigh.deriv.DAOD_EXOT15.e7357_s3234_r10724_p4696              │ 6     │ MC16e │ 21.2.128.0 │\n",
    "│ mc16_13TeV.311423.MGPy8EG_A14NNPDF23_NNPDF31ME_HSS_LLP_mH600_mS150_lthigh.deriv.DAOD_EXOT15.e7357_s3234_r9364_p4696               │ 4     │ MC16a │ 21.2.128.0 │\n",
    "│ mc16_13TeV.311424.MGPy8EG_A14NNPDF23_NNPDF31ME_HSS_LLP_mH600_mS275.deriv.DAOD_EXOT15.e7357_e5984_s3234_r10201_r10210_p4696        │ 18    │ MC16d │ 21.2.128.0 │\n",
    "│ mc16_13TeV.311424.MGPy8EG_A14NNPDF23_NNPDF31ME_HSS_LLP_mH600_mS275.deriv.DAOD_EXOT15.e7357_e5984_s3234_r10724_r10726_p4696        │ 21    │ MC16e │ 21.2.128.0 │\n",
    "│ mc16_13TeV.311424.MGPy8EG_A14NNPDF23_NNPDF31ME_HSS_LLP_mH600_mS275.deriv.DAOD_EXOT15.e7357_e5984_s3234_r12291_r12294_p4905        │ 13    │       │ 21.2.134.0 │\n",
    "│ mc16_13TeV.311424.MGPy8EG_A14NNPDF23_NNPDF31ME_HSS_LLP_mH600_mS275.deriv.DAOD_EXOT15.e7357_e5984_s3234_r12726_r12294_p4905        │ 13    │       │ 21.2.134.0 │\n",
    "│ mc16_13TeV.311424.MGPy8EG_A14NNPDF23_NNPDF31ME_HSS_LLP_mH600_mS275.deriv.DAOD_EXOT15.e7357_e5984_s3234_r12727_r12294_p4905        │ 13    │       │ 21.2.134.0 │\n",
    "│ mc16_13TeV.311424.MGPy8EG_A14NNPDF23_NNPDF31ME_HSS_LLP_mH600_mS275.deriv.DAOD_EXOT15.e7357_e5984_s3234_r9364_r9315_p4696          │ 14    │ MC16a │ 21.2.128.0 │\n",
    "│ mc16_13TeV.311424.MGPy8EG_A14NNPDF23_NNPDF31ME_HSS_LLP_mH600_mS275.deriv.DAOD_EXOT15.e7357_s3234_r10201_p4696                     │ 18    │ MC16d │ 21.2.128.0 │\n",
    "│ mc16_13TeV.311424.MGPy8EG_A14NNPDF23_NNPDF31ME_HSS_LLP_mH600_mS275.deriv.DAOD_EXOT15.e7357_s3234_r10724_p4696                     │ 21    │ MC16e │ 21.2.128.0 │\n",
    "│ mc16_13TeV.311424.MGPy8EG_A14NNPDF23_NNPDF31ME_HSS_LLP_mH600_mS275.deriv.DAOD_EXOT15.e7357_s3234_r12291_p4905                     │ 13    │       │ 21.2.134.0 │\n",
    "│ mc16_13TeV.311424.MGPy8EG_A14NNPDF23_NNPDF31ME_HSS_LLP_mH600_mS275.deriv.DAOD_EXOT15.e7357_s3234_r12726_p4905                     │ 13    │       │ 21.2.134.0 │\n",
    "│ mc16_13TeV.311424.MGPy8EG_A14NNPDF23_NNPDF31ME_HSS_LLP_mH600_mS275.deriv.DAOD_EXOT15.e7357_s3234_r12727_p4905                     │ 13    │       │ 21.2.134.0 │\n",
    "│ mc16_13TeV.311424.MGPy8EG_A14NNPDF23_NNPDF31ME_HSS_LLP_mH600_mS275.deriv.DAOD_EXOT15.e7357_s3234_r9364_p4696                      │ 14    │ MC16a │ 21.2.128.0 │\n",
    "│ mc16_13TeV.501823.MGPy8EG_A14N23LO_HZZd_125_5_600.deriv.DAOD_EXOT15.e8253_e7400_s3126_r10201_r10210_p4696                         │ 2     │ MC16d │ 21.2.128.0 │\n",
    "│ mc16_13TeV.501823.MGPy8EG_A14N23LO_HZZd_125_5_600.deriv.DAOD_EXOT15.e8253_e7400_s3126_r10724_r10726_p4696                         │ 2     │ MC16e │ 21.2.128.0 │\n",
    "│ mc16_13TeV.501823.MGPy8EG_A14N23LO_HZZd_125_5_600.deriv.DAOD_EXOT15.e8253_e7400_s3126_r9364_r9315_p4696                           │ 1     │ MC16a │ 21.2.128.0 │\n",
    "│ mc16_13TeV.501823.MGPy8EG_A14N23LO_HZZd_125_5_600.deriv.DAOD_EXOT15.e8253_s3126_r10201_p4696                                      │ 2     │ MC16d │ 21.2.128.0 │\n",
    "│ mc16_13TeV.501823.MGPy8EG_A14N23LO_HZZd_125_5_600.deriv.DAOD_EXOT15.e8253_s3126_r10724_p4696                                      │ 2     │ MC16e │ 21.2.128.0 │\n",
    "│ mc16_13TeV.501823.MGPy8EG_A14N23LO_HZZd_125_5_600.deriv.DAOD_EXOT15.e8253_s3126_r9364_p4696                                       │ 1     │ MC16a │ 21.2.128.0 │\n",
    "│ mc16_13TeV.501824.MGPy8EG_A14N23LO_HZZd_125_15_1600.deriv.DAOD_EXOT15.e8253_e7400_s3126_r10201_r10210_p4696                       │ 2     │ MC16d │ 21.2.128.0 │\n",
    "│ mc16_13TeV.501824.MGPy8EG_A14N23LO_HZZd_125_15_1600.deriv.DAOD_EXOT15.e8253_e7400_s3126_r10724_r10726_p4696                       │ 2     │ MC16e │ 21.2.128.0 │\n",
    "│ mc16_13TeV.501824.MGPy8EG_A14N23LO_HZZd_125_15_1600.deriv.DAOD_EXOT15.e8253_e7400_s3126_r9364_r9315_p4696                         │ 1     │ MC16a │ 21.2.128.0 │\n",
    "│ mc16_13TeV.501824.MGPy8EG_A14N23LO_HZZd_125_15_1600.deriv.DAOD_EXOT15.e8253_s3126_r10201_p4696                                    │ 2     │ MC16d │ 21.2.128.0 │\n",
    "│ mc16_13TeV.501824.MGPy8EG_A14N23LO_HZZd_125_15_1600.deriv.DAOD_EXOT15.e8253_s3126_r10724_p4696                                    │ 2     │ MC16e │ 21.2.128.0 │\n",
    "│ mc16_13TeV.501824.MGPy8EG_A14N23LO_HZZd_125_15_1600.deriv.DAOD_EXOT15.e8253_s3126_r9364_p4696                                     │ 1     │ MC16a │ 21.2.128.0 │\n",
    "│ mc16_13TeV.501825.MGPy8EG_A14N23LO_HZZd_250_50_1600.deriv.DAOD_EXOT15.e8253_e7400_s3126_r10201_r10210_p4696                       │ 2     │ MC16d │ 21.2.128.0 │\n",
    "│ mc16_13TeV.501825.MGPy8EG_A14N23LO_HZZd_250_50_1600.deriv.DAOD_EXOT15.e8253_e7400_s3126_r10724_r10726_p4696                       │ 3     │ MC16e │ 21.2.128.0 │\n",
    "│ mc16_13TeV.501825.MGPy8EG_A14N23LO_HZZd_250_50_1600.deriv.DAOD_EXOT15.e8253_e7400_s3126_r9364_r9315_p4696                         │ 1     │ MC16a │ 21.2.128.0 │\n",
    "│ mc16_13TeV.501825.MGPy8EG_A14N23LO_HZZd_250_50_1600.deriv.DAOD_EXOT15.e8253_s3126_r10201_p4696                                    │ 2     │ MC16d │ 21.2.128.0 │\n",
    "│ mc16_13TeV.501825.MGPy8EG_A14N23LO_HZZd_250_50_1600.deriv.DAOD_EXOT15.e8253_s3126_r10724_p4696                                    │ 3     │ MC16e │ 21.2.128.0 │\n",
    "│ mc16_13TeV.501825.MGPy8EG_A14N23LO_HZZd_250_50_1600.deriv.DAOD_EXOT15.e8253_s3126_r9364_p4696                                     │ 1     │ MC16a │ 21.2.128.0 │\n",
    "│ mc16_13TeV.501827.MGPy8EG_A14N23LO_HZZd_400_100_1600.deriv.DAOD_EXOT15.e8253_e7400_s3126_r10201_r10210_p4696                      │ 2     │ MC16d │ 21.2.128.0 │\n",
    "│ mc16_13TeV.501827.MGPy8EG_A14N23LO_HZZd_400_100_1600.deriv.DAOD_EXOT15.e8253_e7400_s3126_r10724_r10726_p4696                      │ 3     │ MC16e │ 21.2.128.0 │\n",
    "│ mc16_13TeV.501827.MGPy8EG_A14N23LO_HZZd_400_100_1600.deriv.DAOD_EXOT15.e8253_e7400_s3126_r9364_r9315_p4696                        │ 1     │ MC16a │ 21.2.128.0 │\n",
    "│ mc16_13TeV.501827.MGPy8EG_A14N23LO_HZZd_400_100_1600.deriv.DAOD_EXOT15.e8253_s3126_r10201_p4696                                   │ 2     │ MC16d │ 21.2.128.0 │\n",
    "│ mc16_13TeV.501827.MGPy8EG_A14N23LO_HZZd_400_100_1600.deriv.DAOD_EXOT15.e8253_s3126_r10724_p4696                                   │ 3     │ MC16e │ 21.2.128.0 │\n",
    "│ mc16_13TeV.501827.MGPy8EG_A14N23LO_HZZd_400_100_1600.deriv.DAOD_EXOT15.e8253_s3126_r9364_p4696                                    │ 1     │ MC16a │ 21.2.128.0 │\n",
    "│ mc16_13TeV.501829.MGPy8EG_A14N23LO_HZZd_600_150_1600.deriv.DAOD_EXOT15.e8253_e7400_s3126_r10201_r10210_p4696                      │ 2     │ MC16d │ 21.2.128.0 │\n",
    "│ mc16_13TeV.501829.MGPy8EG_A14N23LO_HZZd_600_150_1600.deriv.DAOD_EXOT15.e8253_e7400_s3126_r10724_r10726_p4696                      │ 3     │ MC16e │ 21.2.128.0 │\n",
    "│ mc16_13TeV.501829.MGPy8EG_A14N23LO_HZZd_600_150_1600.deriv.DAOD_EXOT15.e8253_e7400_s3126_r9364_r9315_p4696                        │ 1     │ MC16a │ 21.2.128.0 │\n",
    "│ mc16_13TeV.501829.MGPy8EG_A14N23LO_HZZd_600_150_1600.deriv.DAOD_EXOT15.e8253_s3126_r10201_p4696                                   │ 2     │ MC16d │ 21.2.128.0 │\n",
    "│ mc16_13TeV.501829.MGPy8EG_A14N23LO_HZZd_600_150_1600.deriv.DAOD_EXOT15.e8253_s3126_r10724_p4696                                   │ 3     │ MC16e │ 21.2.128.0 │\n",
    "│ mc16_13TeV.501829.MGPy8EG_A14N23LO_HZZd_600_150_1600.deriv.DAOD_EXOT15.e8253_s3126_r9364_p4696                                    │ 1     │ MC16a │ 21.2.128.0 │\n",
    "│ mc16_13TeV.501830.MGPy8EG_A14N23LO_HZZd_600_400_4600.deriv.DAOD_EXOT15.e8253_e7400_s3126_r10201_r10210_p4696                      │ 2     │ MC16d │ 21.2.128.0 │\n",
    "│ mc16_13TeV.501830.MGPy8EG_A14N23LO_HZZd_600_400_4600.deriv.DAOD_EXOT15.e8253_e7400_s3126_r10724_r10726_p4696                      │ 3     │ MC16e │ 21.2.128.0 │\n",
    "│ mc16_13TeV.501830.MGPy8EG_A14N23LO_HZZd_600_400_4600.deriv.DAOD_EXOT15.e8253_e7400_s3126_r9364_r9315_p4696                        │ 1     │ MC16a │ 21.2.128.0 │\n",
    "│ mc16_13TeV.501830.MGPy8EG_A14N23LO_HZZd_600_400_4600.deriv.DAOD_EXOT15.e8253_s3126_r10201_p4696                                   │ 2     │ MC16d │ 21.2.128.0 │\n",
    "│ mc16_13TeV.501830.MGPy8EG_A14N23LO_HZZd_600_400_4600.deriv.DAOD_EXOT15.e8253_s3126_r10724_p4696                                   │ 3     │ MC16e │ 21.2.128.0 │\n",
    "│ mc16_13TeV.501830.MGPy8EG_A14N23LO_HZZd_600_400_4600.deriv.DAOD_EXOT15.e8253_s3126_r9364_p4696                                    │ 1     │ MC16a │ 21.2.128.0 │\n",
    "│ mc16_13TeV.501832.MGPy8EG_A14N23LO_HZZd_600_150_4000.deriv.DAOD_EXOT15.e8253_e7400_s3126_r10201_r10210_p4696                      │ 2     │ MC16d │ 21.2.128.0 │\n",
    "│ mc16_13TeV.501832.MGPy8EG_A14N23LO_HZZd_600_150_4000.deriv.DAOD_EXOT15.e8253_e7400_s3126_r10724_r10726_p4696                      │ 3     │ MC16e │ 21.2.128.0 │\n",
    "│ mc16_13TeV.501832.MGPy8EG_A14N23LO_HZZd_600_150_4000.deriv.DAOD_EXOT15.e8253_e7400_s3126_r9364_r9315_p4696                        │ 1     │ MC16a │ 21.2.128.0 │\n",
    "│ mc16_13TeV.501832.MGPy8EG_A14N23LO_HZZd_600_150_4000.deriv.DAOD_EXOT15.e8253_s3126_r10201_p4696                                   │ 2     │ MC16d │ 21.2.128.0 │\n",
    "│ mc16_13TeV.501832.MGPy8EG_A14N23LO_HZZd_600_150_4000.deriv.DAOD_EXOT15.e8253_s3126_r10724_p4696                                   │ 3     │ MC16e │ 21.2.128.0 │\n",
    "│ mc16_13TeV.501832.MGPy8EG_A14N23LO_HZZd_600_150_4000.deriv.DAOD_EXOT15.e8253_s3126_r9364_p4696                                    │ 1     │ MC16a │ 21.2.128.0 │\n",
    "│ mc16_13TeV.501833.MGPy8EG_A14N23LO_GG_ZG_700_150_600.deriv.DAOD_EXOT15.e8253_e7400_s3126_r10201_r10210_p4696                      │ 5     │ MC16d │ 21.2.128.0 │\n",
    "│ mc16_13TeV.501833.MGPy8EG_A14N23LO_GG_ZG_700_150_600.deriv.DAOD_EXOT15.e8253_e7400_s3126_r9364_r9315_p4696                        │ 3     │ MC16a │ 21.2.128.0 │\n",
    "│ mc16_13TeV.501833.MGPy8EG_A14N23LO_GG_ZG_700_150_600.deriv.DAOD_EXOT15.e8253_s3126_r10201_p4696                                   │ 5     │ MC16d │ 21.2.128.0 │\n",
    "│ mc16_13TeV.501833.MGPy8EG_A14N23LO_GG_ZG_700_150_600.deriv.DAOD_EXOT15.e8253_s3126_r9364_p4696                                    │ 3     │ MC16a │ 21.2.128.0 │\n",
    "│ mc16_13TeV.501838.MGPy8EG_A14N23LO_GG_ZG_1100_1000_6000.deriv.DAOD_EXOT15.e8253_e7400_s3126_r10201_r10210_p4696                   │ 3     │ MC16d │ 21.2.128.0 │\n",
    "│ mc16_13TeV.501838.MGPy8EG_A14N23LO_GG_ZG_1100_1000_6000.deriv.DAOD_EXOT15.e8253_e7400_s3126_r10724_r10726_p4696                   │ 3     │ MC16e │ 21.2.128.0 │\n",
    "│ mc16_13TeV.501838.MGPy8EG_A14N23LO_GG_ZG_1100_1000_6000.deriv.DAOD_EXOT15.e8253_e7400_s3126_r9364_r9315_p4696                     │ 1     │ MC16a │ 21.2.128.0 │\n",
    "│ mc16_13TeV.501838.MGPy8EG_A14N23LO_GG_ZG_1100_1000_6000.deriv.DAOD_EXOT15.e8253_s3126_r10201_p4696                                │ 3     │ MC16d │ 21.2.128.0 │\n",
    "│ mc16_13TeV.501838.MGPy8EG_A14N23LO_GG_ZG_1100_1000_6000.deriv.DAOD_EXOT15.e8253_s3126_r10724_p4696                                │ 3     │ MC16e │ 21.2.128.0 │\n",
    "│ mc16_13TeV.501838.MGPy8EG_A14N23LO_GG_ZG_1100_1000_6000.deriv.DAOD_EXOT15.e8253_s3126_r9364_p4696                                 │ 1     │ MC16a │ 21.2.128.0 │\n",
    "│ mc16_13TeV.507682.MGPy8EG_A14N23LO_HZZd_125_16_1600.deriv.DAOD_EXOT15.e8307_e7400_s3126_r10201_r10210_p4696                       │ 4     │ MC16d │ 21.2.128.0 │\n",
    "│ mc16_13TeV.507682.MGPy8EG_A14N23LO_HZZd_125_16_1600.deriv.DAOD_EXOT15.e8307_e7400_s3126_r10724_r10726_p4696                       │ 4     │ MC16e │ 21.2.128.0 │\n",
    "│ mc16_13TeV.507682.MGPy8EG_A14N23LO_HZZd_125_16_1600.deriv.DAOD_EXOT15.e8307_e7400_s3126_r9364_r9315_p4696                         │ 2     │ MC16a │ 21.2.128.0 │\n",
    "│ mc16_13TeV.507682.MGPy8EG_A14N23LO_HZZd_125_16_1600.deriv.DAOD_EXOT15.e8307_s3126_r10201_p4696                                    │ 4     │ MC16d │ 21.2.128.0 │\n",
    "│ mc16_13TeV.507682.MGPy8EG_A14N23LO_HZZd_125_16_1600.deriv.DAOD_EXOT15.e8307_s3126_r10724_p4696                                    │ 4     │ MC16e │ 21.2.128.0 │\n",
    "│ mc16_13TeV.507682.MGPy8EG_A14N23LO_HZZd_125_16_1600.deriv.DAOD_EXOT15.e8307_s3126_r9364_p4696                                     │ 2     │ MC16a │ 21.2.128.0 │\n",
    "│ mc16_13TeV.512030.MGPy8EG_A14NNPDF23_ZH_LLP_H600_S50_ctau400.deriv.DAOD_EXOT15.e8412_e7400_s3126_r10201_r10210_p5037              │ 4     │ MC16d │ 21.2.139.0 │\n",
    "│ mc16_13TeV.512030.MGPy8EG_A14NNPDF23_ZH_LLP_H600_S50_ctau400.deriv.DAOD_EXOT15.e8412_e7400_s3126_r10724_r10726_p5037              │ 6     │ MC16e │ 21.2.139.0 │\n",
    "│ mc16_13TeV.512030.MGPy8EG_A14NNPDF23_ZH_LLP_H600_S50_ctau400.deriv.DAOD_EXOT15.e8412_e7400_s3126_r9364_r9315_p5037                │ 2     │ MC16a │ 21.2.139.0 │\n",
    "│ mc16_13TeV.512030.MGPy8EG_A14NNPDF23_ZH_LLP_H600_S50_ctau400.deriv.DAOD_EXOT15.e8412_s3126_r10201_p5037                           │ 4     │ MC16d │ 21.2.139.0 │\n",
    "│ mc16_13TeV.512030.MGPy8EG_A14NNPDF23_ZH_LLP_H600_S50_ctau400.deriv.DAOD_EXOT15.e8412_s3126_r10724_p5037                           │ 6     │ MC16e │ 21.2.139.0 │\n",
    "│ mc16_13TeV.512030.MGPy8EG_A14NNPDF23_ZH_LLP_H600_S50_ctau400.deriv.DAOD_EXOT15.e8412_s3126_r9364_p5037                            │ 2     │ MC16a │ 21.2.139.0 │\n",
    "│ mc16_13TeV.512031.MGPy8EG_A14NNPDF23_ZH_LLP_H600_S150_ctau1500.deriv.DAOD_EXOT15.e8412_e7400_s3126_r10201_r10210_p5037            │ 4     │ MC16d │ 21.2.139.0 │\n",
    "│ mc16_13TeV.512031.MGPy8EG_A14NNPDF23_ZH_LLP_H600_S150_ctau1500.deriv.DAOD_EXOT15.e8412_e7400_s3126_r10724_r10726_p5037            │ 4     │ MC16e │ 21.2.139.0 │\n",
    "│ mc16_13TeV.512031.MGPy8EG_A14NNPDF23_ZH_LLP_H600_S150_ctau1500.deriv.DAOD_EXOT15.e8412_e7400_s3126_r9364_r9315_p5037              │ 2     │ MC16a │ 21.2.139.0 │\n",
    "│ mc16_13TeV.512031.MGPy8EG_A14NNPDF23_ZH_LLP_H600_S150_ctau1500.deriv.DAOD_EXOT15.e8412_s3126_r10201_p5037                         │ 4     │ MC16d │ 21.2.139.0 │\n",
    "│ mc16_13TeV.512031.MGPy8EG_A14NNPDF23_ZH_LLP_H600_S150_ctau1500.deriv.DAOD_EXOT15.e8412_s3126_r10724_p5037                         │ 4     │ MC16e │ 21.2.139.0 │\n",
    "│ mc16_13TeV.512031.MGPy8EG_A14NNPDF23_ZH_LLP_H600_S150_ctau1500.deriv.DAOD_EXOT15.e8412_s3126_r9364_p5037                          │ 2     │ MC16a │ 21.2.139.0 │\n",
    "│ mc16_13TeV.512032.MGPy8EG_A14NNPDF23_ZH_LLP_H600_S150_ctau3500.deriv.DAOD_EXOT15.e8412_e7400_s3126_r10201_r10210_p5037            │ 2     │ MC16d │ 21.2.139.0 │\n",
    "│ mc16_13TeV.512032.MGPy8EG_A14NNPDF23_ZH_LLP_H600_S150_ctau3500.deriv.DAOD_EXOT15.e8412_e7400_s3126_r10724_r10726_p5037            │ 2     │ MC16e │ 21.2.139.0 │\n",
    "│ mc16_13TeV.512032.MGPy8EG_A14NNPDF23_ZH_LLP_H600_S150_ctau3500.deriv.DAOD_EXOT15.e8412_e7400_s3126_r9364_r9315_p5037              │ 1     │ MC16a │ 21.2.139.0 │\n",
    "│ mc16_13TeV.512032.MGPy8EG_A14NNPDF23_ZH_LLP_H600_S150_ctau3500.deriv.DAOD_EXOT15.e8412_s3126_r10201_p5037                         │ 2     │ MC16d │ 21.2.139.0 │\n",
    "│ mc16_13TeV.512032.MGPy8EG_A14NNPDF23_ZH_LLP_H600_S150_ctau3500.deriv.DAOD_EXOT15.e8412_s3126_r10724_p5037                         │ 2     │ MC16e │ 21.2.139.0 │\n",
    "│ mc16_13TeV.512032.MGPy8EG_A14NNPDF23_ZH_LLP_H600_S150_ctau3500.deriv.DAOD_EXOT15.e8412_s3126_r9364_p5037                          │ 1     │ MC16a │ 21.2.139.0 │\n",
    "│ mc16_13TeV.512033.MGPy8EG_A14NNPDF23_ZH_LLP_H600_S275_ctau2500.deriv.DAOD_EXOT15.e8412_e7400_s3126_r10201_r10210_p5037            │ 6     │ MC16d │ 21.2.139.0 │\n",
    "│ mc16_13TeV.512033.MGPy8EG_A14NNPDF23_ZH_LLP_H600_S275_ctau2500.deriv.DAOD_EXOT15.e8412_e7400_s3126_r10724_r10726_p5037            │ 4     │ MC16e │ 21.2.139.0 │\n",
    "│ mc16_13TeV.512033.MGPy8EG_A14NNPDF23_ZH_LLP_H600_S275_ctau2500.deriv.DAOD_EXOT15.e8412_e7400_s3126_r9364_r9315_p5037              │ 2     │ MC16a │ 21.2.139.0 │\n",
    "│ mc16_13TeV.512033.MGPy8EG_A14NNPDF23_ZH_LLP_H600_S275_ctau2500.deriv.DAOD_EXOT15.e8412_s3126_r10201_p5037                         │ 6     │ MC16d │ 21.2.139.0 │\n",
    "│ mc16_13TeV.512033.MGPy8EG_A14NNPDF23_ZH_LLP_H600_S275_ctau2500.deriv.DAOD_EXOT15.e8412_s3126_r10724_p5037                         │ 4     │ MC16e │ 21.2.139.0 │\n",
    "│ mc16_13TeV.512033.MGPy8EG_A14NNPDF23_ZH_LLP_H600_S275_ctau2500.deriv.DAOD_EXOT15.e8412_s3126_r9364_p5037                          │ 2     │ MC16a │ 21.2.139.0 │\n",
    "│ mc16_13TeV.512051.MGPy8EG_A14NNPDF23_WH_LLP_H600_S50_ctau400.deriv.DAOD_EXOT15.e8412_e7400_s3126_r10201_r10210_p5037              │ 5     │ MC16d │ 21.2.139.0 │\n",
    "│ mc16_13TeV.512051.MGPy8EG_A14NNPDF23_WH_LLP_H600_S50_ctau400.deriv.DAOD_EXOT15.e8412_e7400_s3126_r10724_r10726_p5037              │ 4     │ MC16e │ 21.2.139.0 │\n",
    "│ mc16_13TeV.512051.MGPy8EG_A14NNPDF23_WH_LLP_H600_S50_ctau400.deriv.DAOD_EXOT15.e8412_e7400_s3126_r9364_r9315_p5037                │ 2     │ MC16a │ 21.2.139.0 │\n",
    "│ mc16_13TeV.512051.MGPy8EG_A14NNPDF23_WH_LLP_H600_S50_ctau400.deriv.DAOD_EXOT15.e8412_s3126_r10201_p5037                           │ 5     │ MC16d │ 21.2.139.0 │\n",
    "│ mc16_13TeV.512051.MGPy8EG_A14NNPDF23_WH_LLP_H600_S50_ctau400.deriv.DAOD_EXOT15.e8412_s3126_r10724_p5037                           │ 4     │ MC16e │ 21.2.139.0 │\n",
    "│ mc16_13TeV.512051.MGPy8EG_A14NNPDF23_WH_LLP_H600_S50_ctau400.deriv.DAOD_EXOT15.e8412_s3126_r9364_p5037                            │ 2     │ MC16a │ 21.2.139.0 │\n",
    "│ mc16_13TeV.512052.MGPy8EG_A14NNPDF23_WH_LLP_H600_S150_ctau1500.deriv.DAOD_EXOT15.e8412_e7400_s3126_r10201_r10210_p5037            │ 4     │ MC16d │ 21.2.139.0 │\n",
    "│ mc16_13TeV.512052.MGPy8EG_A14NNPDF23_WH_LLP_H600_S150_ctau1500.deriv.DAOD_EXOT15.e8412_e7400_s3126_r10724_r10726_p5037            │ 4     │ MC16e │ 21.2.139.0 │\n",
    "│ mc16_13TeV.512052.MGPy8EG_A14NNPDF23_WH_LLP_H600_S150_ctau1500.deriv.DAOD_EXOT15.e8412_e7400_s3126_r9364_r9315_p5037              │ 2     │ MC16a │ 21.2.139.0 │\n",
    "│ mc16_13TeV.512052.MGPy8EG_A14NNPDF23_WH_LLP_H600_S150_ctau1500.deriv.DAOD_EXOT15.e8412_s3126_r10201_p5037                         │ 4     │ MC16d │ 21.2.139.0 │\n",
    "│ mc16_13TeV.512052.MGPy8EG_A14NNPDF23_WH_LLP_H600_S150_ctau1500.deriv.DAOD_EXOT15.e8412_s3126_r10724_p5037                         │ 4     │ MC16e │ 21.2.139.0 │\n",
    "│ mc16_13TeV.512052.MGPy8EG_A14NNPDF23_WH_LLP_H600_S150_ctau1500.deriv.DAOD_EXOT15.e8412_s3126_r9364_p5037                          │ 2     │ MC16a │ 21.2.139.0 │\n",
    "│ mc16_13TeV.512053.MGPy8EG_A14NNPDF23_WH_LLP_H600_S150_ctau3500.deriv.DAOD_EXOT15.e8412_e7400_s3126_r10201_r10210_p5037            │ 2     │ MC16d │ 21.2.139.0 │\n",
    "│ mc16_13TeV.512053.MGPy8EG_A14NNPDF23_WH_LLP_H600_S150_ctau3500.deriv.DAOD_EXOT15.e8412_e7400_s3126_r10724_r10726_p5037            │ 2     │ MC16e │ 21.2.139.0 │\n",
    "│ mc16_13TeV.512053.MGPy8EG_A14NNPDF23_WH_LLP_H600_S150_ctau3500.deriv.DAOD_EXOT15.e8412_e7400_s3126_r9364_r9315_p5037              │ 1     │ MC16a │ 21.2.139.0 │\n",
    "│ mc16_13TeV.512053.MGPy8EG_A14NNPDF23_WH_LLP_H600_S150_ctau3500.deriv.DAOD_EXOT15.e8412_s3126_r10201_p5037                         │ 2     │ MC16d │ 21.2.139.0 │\n",
    "│ mc16_13TeV.512053.MGPy8EG_A14NNPDF23_WH_LLP_H600_S150_ctau3500.deriv.DAOD_EXOT15.e8412_s3126_r10724_p5037                         │ 2     │ MC16e │ 21.2.139.0 │\n",
    "│ mc16_13TeV.512053.MGPy8EG_A14NNPDF23_WH_LLP_H600_S150_ctau3500.deriv.DAOD_EXOT15.e8412_s3126_r9364_p5037                          │ 1     │ MC16a │ 21.2.139.0 │\n",
    "│ mc16_13TeV.512054.MGPy8EG_A14NNPDF23_WH_LLP_H600_S275_ctau2500.deriv.DAOD_EXOT15.e8412_e7400_s3126_r10201_r10210_p5037            │ 4     │ MC16d │ 21.2.139.0 │\n",
    "│ mc16_13TeV.512054.MGPy8EG_A14NNPDF23_WH_LLP_H600_S275_ctau2500.deriv.DAOD_EXOT15.e8412_e7400_s3126_r10724_r10726_p5037            │ 3     │ MC16e │ 21.2.139.0 │\n",
    "│ mc16_13TeV.512054.MGPy8EG_A14NNPDF23_WH_LLP_H600_S275_ctau2500.deriv.DAOD_EXOT15.e8412_e7400_s3126_r9364_r9315_p5037              │ 2     │ MC16a │ 21.2.139.0 │\n",
    "│ mc16_13TeV.512054.MGPy8EG_A14NNPDF23_WH_LLP_H600_S275_ctau2500.deriv.DAOD_EXOT15.e8412_s3126_r10201_p5037                         │ 4     │ MC16d │ 21.2.139.0 │\n",
    "│ mc16_13TeV.512054.MGPy8EG_A14NNPDF23_WH_LLP_H600_S275_ctau2500.deriv.DAOD_EXOT15.e8412_s3126_r10724_p5037                         │ 3     │ MC16e │ 21.2.139.0 │\n",
    "│ mc16_13TeV.512054.MGPy8EG_A14NNPDF23_WH_LLP_H600_S275_ctau2500.deriv.DAOD_EXOT15.e8412_s3126_r9364_p5037                          │ 2     │ MC16a │ 21.2.139.0 │\n",
    "└───────────────────────────────────────────────────────────────────────────────────────────────────────────────────────────────────┴───────┴───────┴────────────┘\n",
    "\n",
    "A quick look at other scoopes, like `mc20_13TeV` and `mc23_13p6TeV` shows that there are no other samples. This is in.\n",
    "```"
   ]
  },
  {
   "cell_type": "code",
   "execution_count": 2,
   "metadata": {},
   "outputs": [
    {
     "name": "stderr",
     "output_type": "stream",
     "text": [
      "Found backend type matching \"xaod\". Matching by type is deprecated. Please switch to using the \"name\" keyword in your servicex.yaml file.\n",
      "Found backend type matching \"xaod\". Matching by type is deprecated. Please switch to using the \"name\" keyword in your servicex.yaml file.\n"
     ]
    }
   ],
   "source": [
    "# rucio_ds = \"mc16_13TeV.512033.MGPy8EG_A14NNPDF23_ZH_LLP_H600_S275_ctau2500.deriv.DAOD_EXOT15.e8412_e7400_s3126_r10201_r10210_p5037\"\n",
    "# ds = SXDSAtlasxAODR21(rucio_ds, backend='atlasr21')\n",
    "\n",
    "from func_adl_servicex import SXLocalxAOD\n",
    "from func_adl_servicex_xaodr21.event_collection import Event\n",
    "rucio_file = r\"C:\\Users\\gordo\\Code\\atlas\\data\\DAOD_EXOT15.26710706._000001.pool.root.1\"\n",
    "ds = SXLocalxAOD(rucio_file, item_type=Event, docker_tag='21.2.231')"
   ]
  },
  {
   "cell_type": "markdown",
   "metadata": {},
   "source": [
    "## Event level information\n",
    "\n",
    "This is the basic info for run and event number"
   ]
  },
  {
   "cell_type": "code",
   "execution_count": 3,
   "metadata": {},
   "outputs": [],
   "source": [
    "event_info_query = ds.Select(\n",
    "    lambda e: {\n",
    "        \"run_number\": e.EventInfo(\"EventInfo\").runNumber(),\n",
    "        \"event_number\": e.EventInfo(\"EventInfo\").eventNumber(),\n",
    "    }\n",
    ")\n",
    "\n",
    "event_info = event_info_query.as_awkward().value()"
   ]
  },
  {
   "cell_type": "code",
   "execution_count": 4,
   "metadata": {},
   "outputs": [
    {
     "data": {
      "text/html": [
       "<pre>[{run_number: 300000, event_number: 2053332},\n",
       " {run_number: 300000, event_number: 2050189},\n",
       " {run_number: 300000, event_number: 2053970},\n",
       " {run_number: 300000, event_number: 2050210},\n",
       " {run_number: 300000, event_number: 2053763},\n",
       " {run_number: 300000, event_number: 2050518},\n",
       " {run_number: 300000, event_number: 2053597},\n",
       " {run_number: 300000, event_number: 2053338},\n",
       " {run_number: 300000, event_number: 2050891},\n",
       " {run_number: 300000, event_number: 2053255},\n",
       " ...,\n",
       " {run_number: 300000, event_number: 2071083},\n",
       " {run_number: 300000, event_number: 2071965},\n",
       " {run_number: 300000, event_number: 2071800},\n",
       " {run_number: 300000, event_number: 2070910},\n",
       " {run_number: 300000, event_number: 2071922},\n",
       " {run_number: 300000, event_number: 2071807},\n",
       " {run_number: 300000, event_number: 2070705},\n",
       " {run_number: 300000, event_number: 2070319},\n",
       " {run_number: 300000, event_number: 2070732}]\n",
       "---------------------------------------------\n",
       "type: 10000 * {\n",
       "    run_number: uint32,\n",
       "    event_number: uint64\n",
       "}</pre>"
      ],
      "text/plain": [
       "<Array [{run_number: 300000, ...}, ..., {...}] type='10000 * {run_number: u...'>"
      ]
     },
     "execution_count": 4,
     "metadata": {},
     "output_type": "execute_result"
    }
   ],
   "source": [
    "event_info.compute()"
   ]
  },
  {
   "cell_type": "markdown",
   "metadata": {},
   "source": [
    "## Jet PT's\n",
    "\n",
    "Lets go after the simple jet variables we need."
   ]
  },
  {
   "cell_type": "code",
   "execution_count": 5,
   "metadata": {},
   "outputs": [
    {
     "name": "stderr",
     "output_type": "stream",
     "text": [
      "WARNING:root:Fetched the default calibration configuration for a query. It should have been intentionally configured - using configuration for data format PHYS\n"
     ]
    }
   ],
   "source": [
    "jet_kinematics_query = (\n",
    "    ds.SelectMany(lambda e: e.Jets(collection=\"AntiKt4EMTopoJets\", calibrate=False))\n",
    "    .Where(lambda j: (j.pt() / 1000) > 30)\n",
    "    .Select(lambda j: {\"jet_pt\": j.pt() / 1000.0, \"jet_eta\": j.eta(), \"jet_phi\": j.phi()})\n",
    ")\n",
    "jet_kinematics = jet_kinematics_query.AsAwkwardArray().value()"
   ]
  },
  {
   "cell_type": "code",
   "execution_count": 6,
   "metadata": {},
   "outputs": [
    {
     "data": {
      "text/html": [
       "<pre>[{jet_pt: 209, jet_eta: -0.466, jet_phi: -2.1},\n",
       " {jet_pt: 187, jet_eta: 2.67, jet_phi: 1.03},\n",
       " {jet_pt: 137, jet_eta: -0.933, jet_phi: -2.62},\n",
       " {jet_pt: 113, jet_eta: 0.754, jet_phi: 0.33},\n",
       " {jet_pt: 79.2, jet_eta: 0.972, jet_phi: 1.14},\n",
       " {jet_pt: 81.9, jet_eta: -2.29, jet_phi: 0.132},\n",
       " {jet_pt: 46.5, jet_eta: -1.7, jet_phi: -0.371},\n",
       " {jet_pt: 33.8, jet_eta: -0.23, jet_phi: -0.67},\n",
       " {jet_pt: 31.4, jet_eta: -1.03, jet_phi: 0.301},\n",
       " {jet_pt: 250, jet_eta: 0.0604, jet_phi: -1.58},\n",
       " ...,\n",
       " {jet_pt: 84.3, jet_eta: -2.18, jet_phi: 1.64},\n",
       " {jet_pt: 82.1, jet_eta: -2.32, jet_phi: -0.776},\n",
       " {jet_pt: 69.3, jet_eta: -1.65, jet_phi: 0.00317},\n",
       " {jet_pt: 45.3, jet_eta: 0.457, jet_phi: -2.47},\n",
       " {jet_pt: 43.5, jet_eta: -0.0706, jet_phi: -0.97},\n",
       " {jet_pt: 189, jet_eta: 1.22, jet_phi: 0.477},\n",
       " {jet_pt: 35.8, jet_eta: 0.857, jet_phi: 1.52},\n",
       " {jet_pt: 31.1, jet_eta: 3.49, jet_phi: -0.169},\n",
       " {jet_pt: 30.1, jet_eta: -0.136, jet_phi: -1.62}]\n",
       "--------------------------------------------------\n",
       "type: 30826 * {\n",
       "    jet_pt: float64,\n",
       "    jet_eta: float64,\n",
       "    jet_phi: float64\n",
       "}</pre>"
      ],
      "text/plain": [
       "<Array [{jet_pt: 209, jet_eta: ..., ...}, ...] type='30826 * {jet_pt: float...'>"
      ]
     },
     "execution_count": 6,
     "metadata": {},
     "output_type": "execute_result"
    }
   ],
   "source": [
    "jet_kinematics.compute()"
   ]
  },
  {
   "cell_type": "markdown",
   "metadata": {},
   "source": [
    "## Calorimeter TopoClusters\n",
    "\n",
    "In the code this is mostly referred to as _jet constituents_. The C++ code that fetches this is a [bit complex](https://gitlab.cern.ch/atlas-phys-exotics-llp-mscrid/fullrun2analysis/DiVertAnalysisR21/-/blob/master/DiVertAnalysis/Root/RegionVarCalculator_calRatio.cxx#L393) and I think more convoluted that it need be."
   ]
  },
  {
   "cell_type": "code",
   "execution_count": 7,
   "metadata": {},
   "outputs": [
    {
     "name": "stderr",
     "output_type": "stream",
     "text": [
      "WARNING:func_adl.type_based_replacement:Unknown type for name CaloSampling\n",
      "WARNING:func_adl.type_based_replacement:Unknown type for name CaloSampling\n",
      "WARNING:func_adl.type_based_replacement:Unknown type for name CaloSampling\n",
      "WARNING:func_adl.type_based_replacement:Unknown type for name CaloSampling\n",
      "WARNING:func_adl.type_based_replacement:Unknown type for name CaloSampling\n",
      "WARNING:func_adl.type_based_replacement:Unknown type for name CaloSampling\n",
      "WARNING:func_adl.type_based_replacement:Unknown type for name CaloSampling\n",
      "WARNING:func_adl.type_based_replacement:Unknown type for name CaloSampling\n",
      "WARNING:func_adl.type_based_replacement:Unknown type for name CaloSampling\n",
      "WARNING:func_adl.type_based_replacement:Unknown type for name CaloSampling\n",
      "WARNING:func_adl.type_based_replacement:Unknown type for name CaloSampling\n",
      "WARNING:func_adl.type_based_replacement:Unknown type for name CaloSampling\n",
      "WARNING:func_adl.type_based_replacement:Unknown type for name CaloSampling\n",
      "WARNING:func_adl.type_based_replacement:Unknown type for name CaloSampling\n",
      "WARNING:func_adl.type_based_replacement:Unknown type for name CaloSampling\n",
      "WARNING:func_adl.type_based_replacement:Unknown type for name CaloSampling\n",
      "WARNING:func_adl.type_based_replacement:Unknown type for name CaloSampling\n",
      "WARNING:func_adl.type_based_replacement:Unknown type for name CaloSampling\n"
     ]
    }
   ],
   "source": [
    "from func_adl_servicex_xaodr21.calosampling import CaloSampling\n",
    "clusters_query = (\n",
    "    ds.Select(lambda e: e.CaloClusters(\"egammaClusters\"))\n",
    "    .Select(lambda e: {\n",
    "        \"pt\": e.Select(lambda cluster: cluster.pt() / 1000.0),\n",
    "        \"eta\": e.Select(lambda cluster: cluster.eta() / 1000.0),\n",
    "        \"phi\": e.Select(lambda cluster: cluster.phi() / 1000.0),\n",
    "        # TODO: Check the layers below here are right!!\n",
    "        # TODO: use a dictionary, and why do we sum in the C++? Need a hardware map...\n",
    "        \"preB\": e.Select(lambda cluster: cluster.eSample(CaloSampling.CaloSample.PreSamplerB)),\n",
    "        \"preE\": e.Select(lambda cluster: cluster.eSample(CaloSampling.CaloSample.PreSamplerE)),\n",
    "        \"l1ecal\": e.Select(lambda cluster: cluster.eSample(CaloSampling.CaloSample.EMB1)),\n",
    "        \"l2ecal\": e.Select(lambda cluster: cluster.eSample(CaloSampling.CaloSample.EMB2)),\n",
    "        \"l3ecal\": e.Select(lambda cluster: cluster.eSample(CaloSampling.CaloSample.EMB3)),\n",
    "        \"l1ecalE\": e.Select(lambda cluster: cluster.eSample(CaloSampling.CaloSample.EME1)),\n",
    "        \"l2ecalE\": e.Select(lambda cluster: cluster.eSample(CaloSampling.CaloSample.EME2)),\n",
    "        \"l3ecalE\": e.Select(lambda cluster: cluster.eSample(CaloSampling.CaloSample.EME3)),\n",
    "        \"l0hcal\": e.Select(lambda cluster: cluster.eSample(CaloSampling.CaloSample.HEC0)),\n",
    "        \"l1hcal\": e.Select(lambda cluster: cluster.eSample(CaloSampling.CaloSample.HEC1)),\n",
    "        \"l2hcal\": e.Select(lambda cluster: cluster.eSample(CaloSampling.CaloSample.HEC2)),\n",
    "        \"l3hcal\": e.Select(lambda cluster: cluster.eSample(CaloSampling.CaloSample.HEC3)),\n",
    "        \"l0tbar\": e.Select(lambda cluster: cluster.eSample(CaloSampling.CaloSample.TileBar0)),\n",
    "        \"l1tbar\": e.Select(lambda cluster: cluster.eSample(CaloSampling.CaloSample.TileBar1)),\n",
    "        \"l2tbar\": e.Select(lambda cluster: cluster.eSample(CaloSampling.CaloSample.TileBar2)),\n",
    "        \"l0tbarG\": e.Select(lambda cluster: cluster.eSample(CaloSampling.CaloSample.TileGap1)),\n",
    "        \"l1tbarG\": e.Select(lambda cluster: cluster.eSample(CaloSampling.CaloSample.TileGap2)),\n",
    "        \"l2tbarG\": e.Select(lambda cluster: cluster.eSample(CaloSampling.CaloSample.TileGap3)),\n",
    "    }\n",
    "    ))\n",
    "\n",
    "clusters = clusters_query.AsAwkwardArray().value()"
   ]
  },
  {
   "cell_type": "code",
   "execution_count": 8,
   "metadata": {},
   "outputs": [
    {
     "data": {
      "text/html": [
       "<pre>[{pt: [61.7, 62.8, 32, ..., 1.72, 1.7], eta: [...], phi: [...], preB: ..., ...},\n",
       " {pt: [3.59, 3.52, ..., 1.84, 2.28], eta: [0.00036, ...], phi: [...], ...},\n",
       " {pt: [39.1, 7.89, ..., 1.72, 2.17], eta: [-0.00229, ...], phi: [...], ...},\n",
       " {pt: [10.4, 3.51, ..., 2.35, 2.34], eta: [-0.000537, ...], phi: [...], ...},\n",
       " {pt: [33.1, 12.1, ..., 3.55, 1.84], eta: [-0.000757, ...], phi: [...], ...},\n",
       " {pt: [11.5, 4.99, ..., 2.77, 2.06], eta: [0.000974, ...], phi: [...], ...},\n",
       " {pt: [5.29, 3.97, ..., 3.44, 2.07], eta: [-0.00119, ...], phi: [...], ...},\n",
       " {pt: [1.48, 4.66, ..., 1.78, 1.67], eta: [0.00218, ...], phi: [...], ...},\n",
       " {pt: [5.22, 4.06, 4.41, ..., 2.06, 2.2], eta: [...], phi: [...], ...},\n",
       " {pt: [68.7, 42.8, ..., 1.73, 2.68], eta: [-0.000783, ...], phi: [...], ...},\n",
       " ...,\n",
       " {pt: [7.31, 8.46, 4.4, ..., 1.83, 2.06], eta: [...], phi: [...], ...},\n",
       " {pt: [5.23, 5.16, ..., 1.68, 1.81], eta: [-0.000264, ...], phi: [...], ...},\n",
       " {pt: [7.96, 4.82, ..., 2.25, 1.77], eta: [-0.000349, ...], phi: [...], ...},\n",
       " {pt: [25.3, 13.4, 6.1, ..., 1.89, 4.22], eta: [...], phi: [...], ...},\n",
       " {pt: [29.9, 8.57, ..., 1.91, 4.51], eta: [0.0015, ...], phi: [...], ...},\n",
       " {pt: [4.57, 5.7, 5.87, ..., 1.86, 2.56], eta: [...], phi: [...], ...},\n",
       " {pt: [23.8, 26.3, ..., 1.68, 2.09], eta: [0.000982, ...], phi: [...], ...},\n",
       " {pt: [46.5, 16.4, ..., 1.96, 1.75], eta: [-0.00231, ...], phi: [...], ...},\n",
       " {pt: [5.63, 4.1, 4.25, ..., 1.75, 1.93], eta: [...], phi: [...], ...}]\n",
       "--------------------------------------------------------------------------------\n",
       "type: 10000 * {\n",
       "    pt: var * float64,\n",
       "    eta: var * float64,\n",
       "    phi: var * float64,\n",
       "    preB: var * float32,\n",
       "    preE: var * float32,\n",
       "    l1ecal: var * float32,\n",
       "    l2ecal: var * float32,\n",
       "    l3ecal: var * float32,\n",
       "    l1ecalE: var * float32,\n",
       "    l2ecalE: var * float32,\n",
       "    l3ecalE: var * float32,\n",
       "    l0hcal: var * float32,\n",
       "    l1hcal: var * float32,\n",
       "    l2hcal: var * float32,\n",
       "    l3hcal: var * float32,\n",
       "    l0tbar: var * float32,\n",
       "    l1tbar: var * float32,\n",
       "    l2tbar: var * float32,\n",
       "    l0tbarG: var * float32,\n",
       "    l1tbarG: var * float32,\n",
       "    l2tbarG: var * float32\n",
       "}</pre>"
      ],
      "text/plain": [
       "<Array [{pt: [61.7, ...], eta: ..., ...}, ...] type='10000 * {pt: var * flo...'>"
      ]
     },
     "execution_count": 8,
     "metadata": {},
     "output_type": "execute_result"
    }
   ],
   "source": [
    "clusters.compute()"
   ]
  },
  {
   "cell_type": "code",
   "execution_count": 9,
   "metadata": {},
   "outputs": [
    {
     "data": {
      "text/html": [
       "<pre>[[2.16e+04, 1.92e+04, 1.09e+04, 2.88e+03, 657, ..., 796, 272, 0, 0, 0],\n",
       " [273, 858, 342, 673, 1.38e+03, 1.66e+03, ..., 725, 378, 968, -57.7, 0],\n",
       " [0, 2.13e+03, 632, 0, 0, 0, ..., 612, 541, 1.04e+03, 1.24e+03, 115, 1.06e+03],\n",
       " [1.6e+03, 0, 0, 0, 0, 515, 0, 0, ..., 457, 221, 0, 0, 663, 298, 1.32e+03],\n",
       " [9.32e+03, 0, 0, 1.54e+03, 3.67e+03, 0, ..., 1.27e+03, 0, 0, 1.03e+03, 0, 125],\n",
       " [4.3e+03, 0, 471, 319, 0, 2.9e+03, ..., 1.69e+03, 577, 324, 0, 903, 870],\n",
       " [1.06e+03, 601, 451, 102, 282, 715, ..., 1.57e+03, 0, 1.17e+03, 0, 0, 935],\n",
       " [0, 0, 0, 71, 4, 817, 1.02e+03, 379, 0, 0, 840, 72],\n",
       " [1.93e+03, 618, 0, 0, 1.35e+03, 1.99e+03, 0, ..., 375, 0, 0, 802, 1.1e+03, 0],\n",
       " [6.72e+03, 4.44e+03, 1.71e+03, 1.4e+03, 327, 0, ..., 718, 0, 480, 18, 0],\n",
       " ...,\n",
       " [1.89e+03, 3.47e+03, 460, 0, 1.14e+03, 460, ..., 0, 725, 142, 609, 829, 909],\n",
       " [1.46e+03, 1.3e+03, 589, 259, 2.75e+03, 589, ..., 0, 1.22e+03, 975, 91, 542],\n",
       " [1.38e+03, 0, 2.34e+03, 2.33e+03, 1.46e+03, ..., 127, 844, 0, 802, 0],\n",
       " [0, 0, 1.74e+03, 945, 1.49e+03, 0, 0, 0, ..., 263, 937, 853, -88.5, 0, 128, 0],\n",
       " [0, 2.73e+03, 3.44e+03, 0, 2.57e+03, 144, ..., 277, 0, 474, 0, 804, 1.96e+03],\n",
       " [389, -139, 1.63e+03, 1.29e+03, 818, 2.15e+03, ..., 979, 0, 0, 27.7, 299, 675],\n",
       " [7.08e+03, 0, 0, 2.6e+03, 77, 0, ..., 2.07e+03, 0, 0, 1.43e+03, 0, 42.1],\n",
       " [0, 0, 3.56e+03, 1.43e+03, 2.62e+03, 1.03e+03, ..., 0, 772, 777, 213, 623, 0],\n",
       " [1.93e+03, 1.47e+03, 571, 977, 1.32e+03, 284, ..., 799, 430, 0, 111, 136]]\n",
       "--------------------------------------------------------------------------------\n",
       "type: 10000 * var * float32</pre>"
      ],
      "text/plain": [
       "<Array [[2.16e+04, 1.92e+04, ..., 0, 0], ...] type='10000 * var * float32'>"
      ]
     },
     "execution_count": 9,
     "metadata": {},
     "output_type": "execute_result"
    }
   ],
   "source": [
    "clusters.compute().l1ecal"
   ]
  },
  {
   "cell_type": "markdown",
   "metadata": {},
   "source": [
    "## Tracks\n",
    "\n",
    "Here we have to do a Delta R - thought the tracks themselves are easy to deal with."
   ]
  },
  {
   "cell_type": "code",
   "execution_count": null,
   "metadata": {},
   "outputs": [],
   "source": []
  },
  {
   "cell_type": "markdown",
   "metadata": {},
   "source": [
    "## Muon Segments\n",
    "\n",
    "We need to pull all the muon segments in as well."
   ]
  },
  {
   "cell_type": "code",
   "execution_count": 12,
   "metadata": {},
   "outputs": [],
   "source": [
    "muon_segments_query = (\n",
    "    ds\n",
    "    .Select(lambda e: e.MuonSegments(\"MuonSegments\"))\n",
    "    .Select(lambda e: {\n",
    "        \"x\": e.Select(lambda muon: muon.x()),\n",
    "        \"y\": e.Select(lambda muon: muon.y()),\n",
    "        \"z\": e.Select(lambda muon: muon.z()),\n",
    "        \"px\": e.Select(lambda muon: muon.px()),\n",
    "        \"py\": e.Select(lambda muon: muon.py()),\n",
    "        \"pz\": e.Select(lambda muon: muon.pz()),\n",
    "        \"t0\": e.Select(lambda muon: muon.t0()),\n",
    "        \"chiSquared\": e.Select(lambda muon: muon.chiSquared()),\n",
    "    })\n",
    ")\n",
    "\n",
    "muon_segments = muon_segments_query.AsAwkwardArray().value()"
   ]
  },
  {
   "cell_type": "code",
   "execution_count": 13,
   "metadata": {},
   "outputs": [
    {
     "data": {
      "text/html": [
       "<pre>[{x: [792, 1.74e+03, ..., -2.07e+03], y: [-582, ...], z: [...], px: [...], ...},\n",
       " {x: [248, 846, ..., 6.57e+03, -352], y: [-1.08e+03, ...], z: [...], ...},\n",
       " {x: [-347, 1.36e+03, ..., 7.09e+03], y: [973, ...], z: [...], px: [...], ...},\n",
       " {x: [118, 3.93e+03, ..., -5.69e+03], y: [1.24e+03, ...], z: [...], ...},\n",
       " {x: [499, -1.61e+03, ..., -799], y: [1.13e+03, ...], z: [...], px: [...], ...},\n",
       " {x: [-801, 3.95e+03, ..., 2.7e+03], y: [984, ...], z: [...], px: [...], ...},\n",
       " {x: [-1.76e+03, ..., 7.5e+03], y: [-4.24e+03, ...], z: [...], px: [...], ...},\n",
       " {x: [-1.74e+03, ..., 1.09e-13], y: [4.19e+03, ...], z: [...], px: [...], ...},\n",
       " {x: [1.74e+03, ..., -1.19e-12], y: [4.19e+03, ...], z: [...], px: [...], ...},\n",
       " {x: [-456, -1.43e+03, ..., -5.63e+03], y: [...], z: [...], px: [...], ...},\n",
       " ...,\n",
       " {x: [-322, -4.2e+03, ..., -5.99e+03], y: [1.43e+03, ...], z: [...], ...},\n",
       " {x: [9.25e+03, ..., 6.14e+03], y: [5.81e+03, ...], z: [...], px: [...], ...},\n",
       " {x: [-1.28e+03, 839, ..., -5.56e+03], y: [-665, ...], z: [...], px: ..., ...},\n",
       " {x: [336, 535, ..., 6.03e+03], y: [1.11e+03, ...], z: [...], px: [...], ...},\n",
       " {x: [-4.18e+03, ..., -1.27e-12], y: [-1.73e+03, ...], z: [...], px: ..., ...},\n",
       " {x: [-1.74e+03, ..., 3.92e-13], y: [4.2e+03, ...], z: [...], px: [...], ...},\n",
       " {x: [-24.2, -4.2e+03, ..., -7.51e+03], y: [1.01e+03, ...], z: [...], ...},\n",
       " {x: [-971, 1.74e+03, ..., 6.04e+03], y: [564, ...], z: [...], px: [...], ...},\n",
       " {x: [-1.48e+03, ..., -2.41e+03], y: [-1.17e+03, ...], z: [...], px: ..., ...}]\n",
       "--------------------------------------------------------------------------------\n",
       "type: 10000 * {\n",
       "    x: var * float32,\n",
       "    y: var * float32,\n",
       "    z: var * float32,\n",
       "    px: var * float32,\n",
       "    py: var * float32,\n",
       "    pz: var * float32,\n",
       "    t0: var * float32,\n",
       "    chiSquared: var * float32\n",
       "}</pre>"
      ],
      "text/plain": [
       "<Array [{x: [792, ...], y: [...], ...}, ...] type='10000 * {x: var * float3...'>"
      ]
     },
     "execution_count": 13,
     "metadata": {},
     "output_type": "execute_result"
    }
   ],
   "source": [
    "muon_segments.compute()"
   ]
  },
  {
   "cell_type": "code",
   "execution_count": null,
   "metadata": {},
   "outputs": [],
   "source": []
  }
 ],
 "metadata": {
  "kernelspec": {
   "display_name": ".venv",
   "language": "python",
   "name": "python3"
  },
  "language_info": {
   "codemirror_mode": {
    "name": "ipython",
    "version": 3
   },
   "file_extension": ".py",
   "mimetype": "text/x-python",
   "name": "python",
   "nbconvert_exporter": "python",
   "pygments_lexer": "ipython3",
   "version": "3.10.10"
  }
 },
 "nbformat": 4,
 "nbformat_minor": 2
}
