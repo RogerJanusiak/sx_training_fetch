{
 "cells": [
  {
   "cell_type": "markdown",
   "metadata": {},
   "source": [
    "# Fetch\n",
    "\n",
    "Some dirt code to fetch data from UChicago that we need for training. The plan is to get this working and then turn it into something \"production\"\n",
    "\n",
    "NOTE: for now we need to use an older version of `uproot` and `awkward` - due to an internal bug."
   ]
  },
  {
   "cell_type": "markdown",
   "metadata": {},
   "source": [
    "## Imports"
   ]
  },
  {
   "cell_type": "code",
   "execution_count": 16,
   "metadata": {},
   "outputs": [
    {
     "name": "stdout",
     "output_type": "stream",
     "text": [
      "Using release 21.2.209\n"
     ]
    }
   ],
   "source": [
    "from func_adl_servicex_xaodr21 import atlas_release\n",
    "from func_adl_servicex_xaodr21 import SXDSAtlasxAODR21\n",
    "\n",
    "print(f'Using release {atlas_release}')"
   ]
  },
  {
   "cell_type": "code",
   "execution_count": 33,
   "metadata": {},
   "outputs": [],
   "source": [
    "from enum import Enum"
   ]
  },
  {
   "cell_type": "markdown",
   "metadata": {},
   "source": [
    "## Datasets\n",
    "\n",
    "The datasets we can find right now... Here are a few lists. Here is what we are using officially for the analysis.\n",
    "\n",
    "```\n",
    "┏━━━━━━━━━━━━━━━━━━━━━━━━━━━━━━━━━━━━━━━━━━━━━━━━━━━━━━━━━━━━━━━━━━━━━━━━━━━━━━━━━━━━━━━━━━━━━━━━━━━━━━━━━━━━━━━━━━━━━━━━━━━━━━━━━━━┳━━━━━━━┳━━━━━━━┳━━━━━━━━━━━━┓\n",
    "┃ Name                                                                                                                              ┃ Files ┃ Tag   ┃ Cache      ┃\n",
    "┡━━━━━━━━━━━━━━━━━━━━━━━━━━━━━━━━━━━━━━━━━━━━━━━━━━━━━━━━━━━━━━━━━━━━━━━━━━━━━━━━━━━━━━━━━━━━━━━━━━━━━━━━━━━━━━━━━━━━━━━━━━━━━━━━━━━╇━━━━━━━╇━━━━━━━╇━━━━━━━━━━━━┩\n",
    "│ mc16_13TeV.311421.MGPy8EG_A14NNPDF23_NNPDF31ME_HSS_LLP_mH600_mS50.deriv.DAOD_EXOT15.e7357_e5984_s3234_r10201_r10210_p4696         │ 10    │ MC16d │ 21.2.128.0 │\n",
    "│ mc16_13TeV.311421.MGPy8EG_A14NNPDF23_NNPDF31ME_HSS_LLP_mH600_mS50.deriv.DAOD_EXOT15.e7357_e5984_s3234_r10724_r10726_p4696         │ 11    │ MC16e │ 21.2.128.0 │\n",
    "│ mc16_13TeV.311421.MGPy8EG_A14NNPDF23_NNPDF31ME_HSS_LLP_mH600_mS50.deriv.DAOD_EXOT15.e7357_e5984_s3234_r9364_r9315_p4696           │ 8     │ MC16a │ 21.2.128.0 │\n",
    "│ mc16_13TeV.311421.MGPy8EG_A14NNPDF23_NNPDF31ME_HSS_LLP_mH600_mS50.deriv.DAOD_EXOT15.e7357_s3234_r10201_p4696                      │ 10    │ MC16d │ 21.2.128.0 │\n",
    "│ mc16_13TeV.311421.MGPy8EG_A14NNPDF23_NNPDF31ME_HSS_LLP_mH600_mS50.deriv.DAOD_EXOT15.e7357_s3234_r10724_p4696                      │ 11    │ MC16e │ 21.2.128.0 │\n",
    "│ mc16_13TeV.311421.MGPy8EG_A14NNPDF23_NNPDF31ME_HSS_LLP_mH600_mS50.deriv.DAOD_EXOT15.e7357_s3234_r9364_p4696                       │ 8     │ MC16a │ 21.2.128.0 │\n",
    "│ mc16_13TeV.311422.MGPy8EG_A14NNPDF23_NNPDF31ME_HSS_LLP_mH600_mS150_ltlow.deriv.DAOD_EXOT15.e7357_e5984_s3234_r10201_r10210_p4696  │ 10    │ MC16d │ 21.2.128.0 │\n",
    "│ mc16_13TeV.311422.MGPy8EG_A14NNPDF23_NNPDF31ME_HSS_LLP_mH600_mS150_ltlow.deriv.DAOD_EXOT15.e7357_e5984_s3234_r10724_r10726_p4696  │ 11    │ MC16e │ 21.2.128.0 │\n",
    "│ mc16_13TeV.311422.MGPy8EG_A14NNPDF23_NNPDF31ME_HSS_LLP_mH600_mS150_ltlow.deriv.DAOD_EXOT15.e7357_e5984_s3234_r9364_r9315_p4696    │ 8     │ MC16a │ 21.2.128.0 │\n",
    "│ mc16_13TeV.311422.MGPy8EG_A14NNPDF23_NNPDF31ME_HSS_LLP_mH600_mS150_ltlow.deriv.DAOD_EXOT15.e7357_s3234_r10201_p4696               │ 10    │ MC16d │ 21.2.128.0 │\n",
    "│ mc16_13TeV.311422.MGPy8EG_A14NNPDF23_NNPDF31ME_HSS_LLP_mH600_mS150_ltlow.deriv.DAOD_EXOT15.e7357_s3234_r10724_p4696               │ 11    │ MC16e │ 21.2.128.0 │\n",
    "│ mc16_13TeV.311422.MGPy8EG_A14NNPDF23_NNPDF31ME_HSS_LLP_mH600_mS150_ltlow.deriv.DAOD_EXOT15.e7357_s3234_r9364_p4696                │ 8     │ MC16a │ 21.2.128.0 │\n",
    "│ mc16_13TeV.311423.MGPy8EG_A14NNPDF23_NNPDF31ME_HSS_LLP_mH600_mS150_lthigh.deriv.DAOD_EXOT15.e7357_e5984_s3234_r10201_r10210_p4696 │ 5     │ MC16d │ 21.2.128.0 │\n",
    "│ mc16_13TeV.311423.MGPy8EG_A14NNPDF23_NNPDF31ME_HSS_LLP_mH600_mS150_lthigh.deriv.DAOD_EXOT15.e7357_e5984_s3234_r10724_r10726_p4696 │ 6     │ MC16e │ 21.2.128.0 │\n",
    "│ mc16_13TeV.311423.MGPy8EG_A14NNPDF23_NNPDF31ME_HSS_LLP_mH600_mS150_lthigh.deriv.DAOD_EXOT15.e7357_e5984_s3234_r9364_r9315_p4696   │ 4     │ MC16a │ 21.2.128.0 │\n",
    "│ mc16_13TeV.311423.MGPy8EG_A14NNPDF23_NNPDF31ME_HSS_LLP_mH600_mS150_lthigh.deriv.DAOD_EXOT15.e7357_s3234_r10201_p4696              │ 5     │ MC16d │ 21.2.128.0 │\n",
    "│ mc16_13TeV.311423.MGPy8EG_A14NNPDF23_NNPDF31ME_HSS_LLP_mH600_mS150_lthigh.deriv.DAOD_EXOT15.e7357_s3234_r10724_p4696              │ 6     │ MC16e │ 21.2.128.0 │\n",
    "│ mc16_13TeV.311423.MGPy8EG_A14NNPDF23_NNPDF31ME_HSS_LLP_mH600_mS150_lthigh.deriv.DAOD_EXOT15.e7357_s3234_r9364_p4696               │ 4     │ MC16a │ 21.2.128.0 │\n",
    "│ mc16_13TeV.311424.MGPy8EG_A14NNPDF23_NNPDF31ME_HSS_LLP_mH600_mS275.deriv.DAOD_EXOT15.e7357_e5984_s3234_r10201_r10210_p4696        │ 18    │ MC16d │ 21.2.128.0 │\n",
    "│ mc16_13TeV.311424.MGPy8EG_A14NNPDF23_NNPDF31ME_HSS_LLP_mH600_mS275.deriv.DAOD_EXOT15.e7357_e5984_s3234_r10724_r10726_p4696        │ 21    │ MC16e │ 21.2.128.0 │\n",
    "│ mc16_13TeV.311424.MGPy8EG_A14NNPDF23_NNPDF31ME_HSS_LLP_mH600_mS275.deriv.DAOD_EXOT15.e7357_e5984_s3234_r12291_r12294_p4905        │ 13    │       │ 21.2.134.0 │\n",
    "│ mc16_13TeV.311424.MGPy8EG_A14NNPDF23_NNPDF31ME_HSS_LLP_mH600_mS275.deriv.DAOD_EXOT15.e7357_e5984_s3234_r12726_r12294_p4905        │ 13    │       │ 21.2.134.0 │\n",
    "│ mc16_13TeV.311424.MGPy8EG_A14NNPDF23_NNPDF31ME_HSS_LLP_mH600_mS275.deriv.DAOD_EXOT15.e7357_e5984_s3234_r12727_r12294_p4905        │ 13    │       │ 21.2.134.0 │\n",
    "│ mc16_13TeV.311424.MGPy8EG_A14NNPDF23_NNPDF31ME_HSS_LLP_mH600_mS275.deriv.DAOD_EXOT15.e7357_e5984_s3234_r9364_r9315_p4696          │ 14    │ MC16a │ 21.2.128.0 │\n",
    "│ mc16_13TeV.311424.MGPy8EG_A14NNPDF23_NNPDF31ME_HSS_LLP_mH600_mS275.deriv.DAOD_EXOT15.e7357_s3234_r10201_p4696                     │ 18    │ MC16d │ 21.2.128.0 │\n",
    "│ mc16_13TeV.311424.MGPy8EG_A14NNPDF23_NNPDF31ME_HSS_LLP_mH600_mS275.deriv.DAOD_EXOT15.e7357_s3234_r10724_p4696                     │ 21    │ MC16e │ 21.2.128.0 │\n",
    "│ mc16_13TeV.311424.MGPy8EG_A14NNPDF23_NNPDF31ME_HSS_LLP_mH600_mS275.deriv.DAOD_EXOT15.e7357_s3234_r12291_p4905                     │ 13    │       │ 21.2.134.0 │\n",
    "│ mc16_13TeV.311424.MGPy8EG_A14NNPDF23_NNPDF31ME_HSS_LLP_mH600_mS275.deriv.DAOD_EXOT15.e7357_s3234_r12726_p4905                     │ 13    │       │ 21.2.134.0 │\n",
    "│ mc16_13TeV.311424.MGPy8EG_A14NNPDF23_NNPDF31ME_HSS_LLP_mH600_mS275.deriv.DAOD_EXOT15.e7357_s3234_r12727_p4905                     │ 13    │       │ 21.2.134.0 │\n",
    "│ mc16_13TeV.311424.MGPy8EG_A14NNPDF23_NNPDF31ME_HSS_LLP_mH600_mS275.deriv.DAOD_EXOT15.e7357_s3234_r9364_p4696                      │ 14    │ MC16a │ 21.2.128.0 │\n",
    "│ mc16_13TeV.501823.MGPy8EG_A14N23LO_HZZd_125_5_600.deriv.DAOD_EXOT15.e8253_e7400_s3126_r10201_r10210_p4696                         │ 2     │ MC16d │ 21.2.128.0 │\n",
    "│ mc16_13TeV.501823.MGPy8EG_A14N23LO_HZZd_125_5_600.deriv.DAOD_EXOT15.e8253_e7400_s3126_r10724_r10726_p4696                         │ 2     │ MC16e │ 21.2.128.0 │\n",
    "│ mc16_13TeV.501823.MGPy8EG_A14N23LO_HZZd_125_5_600.deriv.DAOD_EXOT15.e8253_e7400_s3126_r9364_r9315_p4696                           │ 1     │ MC16a │ 21.2.128.0 │\n",
    "│ mc16_13TeV.501823.MGPy8EG_A14N23LO_HZZd_125_5_600.deriv.DAOD_EXOT15.e8253_s3126_r10201_p4696                                      │ 2     │ MC16d │ 21.2.128.0 │\n",
    "│ mc16_13TeV.501823.MGPy8EG_A14N23LO_HZZd_125_5_600.deriv.DAOD_EXOT15.e8253_s3126_r10724_p4696                                      │ 2     │ MC16e │ 21.2.128.0 │\n",
    "│ mc16_13TeV.501823.MGPy8EG_A14N23LO_HZZd_125_5_600.deriv.DAOD_EXOT15.e8253_s3126_r9364_p4696                                       │ 1     │ MC16a │ 21.2.128.0 │\n",
    "│ mc16_13TeV.501824.MGPy8EG_A14N23LO_HZZd_125_15_1600.deriv.DAOD_EXOT15.e8253_e7400_s3126_r10201_r10210_p4696                       │ 2     │ MC16d │ 21.2.128.0 │\n",
    "│ mc16_13TeV.501824.MGPy8EG_A14N23LO_HZZd_125_15_1600.deriv.DAOD_EXOT15.e8253_e7400_s3126_r10724_r10726_p4696                       │ 2     │ MC16e │ 21.2.128.0 │\n",
    "│ mc16_13TeV.501824.MGPy8EG_A14N23LO_HZZd_125_15_1600.deriv.DAOD_EXOT15.e8253_e7400_s3126_r9364_r9315_p4696                         │ 1     │ MC16a │ 21.2.128.0 │\n",
    "│ mc16_13TeV.501824.MGPy8EG_A14N23LO_HZZd_125_15_1600.deriv.DAOD_EXOT15.e8253_s3126_r10201_p4696                                    │ 2     │ MC16d │ 21.2.128.0 │\n",
    "│ mc16_13TeV.501824.MGPy8EG_A14N23LO_HZZd_125_15_1600.deriv.DAOD_EXOT15.e8253_s3126_r10724_p4696                                    │ 2     │ MC16e │ 21.2.128.0 │\n",
    "│ mc16_13TeV.501824.MGPy8EG_A14N23LO_HZZd_125_15_1600.deriv.DAOD_EXOT15.e8253_s3126_r9364_p4696                                     │ 1     │ MC16a │ 21.2.128.0 │\n",
    "│ mc16_13TeV.501825.MGPy8EG_A14N23LO_HZZd_250_50_1600.deriv.DAOD_EXOT15.e8253_e7400_s3126_r10201_r10210_p4696                       │ 2     │ MC16d │ 21.2.128.0 │\n",
    "│ mc16_13TeV.501825.MGPy8EG_A14N23LO_HZZd_250_50_1600.deriv.DAOD_EXOT15.e8253_e7400_s3126_r10724_r10726_p4696                       │ 3     │ MC16e │ 21.2.128.0 │\n",
    "│ mc16_13TeV.501825.MGPy8EG_A14N23LO_HZZd_250_50_1600.deriv.DAOD_EXOT15.e8253_e7400_s3126_r9364_r9315_p4696                         │ 1     │ MC16a │ 21.2.128.0 │\n",
    "│ mc16_13TeV.501825.MGPy8EG_A14N23LO_HZZd_250_50_1600.deriv.DAOD_EXOT15.e8253_s3126_r10201_p4696                                    │ 2     │ MC16d │ 21.2.128.0 │\n",
    "│ mc16_13TeV.501825.MGPy8EG_A14N23LO_HZZd_250_50_1600.deriv.DAOD_EXOT15.e8253_s3126_r10724_p4696                                    │ 3     │ MC16e │ 21.2.128.0 │\n",
    "│ mc16_13TeV.501825.MGPy8EG_A14N23LO_HZZd_250_50_1600.deriv.DAOD_EXOT15.e8253_s3126_r9364_p4696                                     │ 1     │ MC16a │ 21.2.128.0 │\n",
    "│ mc16_13TeV.501827.MGPy8EG_A14N23LO_HZZd_400_100_1600.deriv.DAOD_EXOT15.e8253_e7400_s3126_r10201_r10210_p4696                      │ 2     │ MC16d │ 21.2.128.0 │\n",
    "│ mc16_13TeV.501827.MGPy8EG_A14N23LO_HZZd_400_100_1600.deriv.DAOD_EXOT15.e8253_e7400_s3126_r10724_r10726_p4696                      │ 3     │ MC16e │ 21.2.128.0 │\n",
    "│ mc16_13TeV.501827.MGPy8EG_A14N23LO_HZZd_400_100_1600.deriv.DAOD_EXOT15.e8253_e7400_s3126_r9364_r9315_p4696                        │ 1     │ MC16a │ 21.2.128.0 │\n",
    "│ mc16_13TeV.501827.MGPy8EG_A14N23LO_HZZd_400_100_1600.deriv.DAOD_EXOT15.e8253_s3126_r10201_p4696                                   │ 2     │ MC16d │ 21.2.128.0 │\n",
    "│ mc16_13TeV.501827.MGPy8EG_A14N23LO_HZZd_400_100_1600.deriv.DAOD_EXOT15.e8253_s3126_r10724_p4696                                   │ 3     │ MC16e │ 21.2.128.0 │\n",
    "│ mc16_13TeV.501827.MGPy8EG_A14N23LO_HZZd_400_100_1600.deriv.DAOD_EXOT15.e8253_s3126_r9364_p4696                                    │ 1     │ MC16a │ 21.2.128.0 │\n",
    "│ mc16_13TeV.501829.MGPy8EG_A14N23LO_HZZd_600_150_1600.deriv.DAOD_EXOT15.e8253_e7400_s3126_r10201_r10210_p4696                      │ 2     │ MC16d │ 21.2.128.0 │\n",
    "│ mc16_13TeV.501829.MGPy8EG_A14N23LO_HZZd_600_150_1600.deriv.DAOD_EXOT15.e8253_e7400_s3126_r10724_r10726_p4696                      │ 3     │ MC16e │ 21.2.128.0 │\n",
    "│ mc16_13TeV.501829.MGPy8EG_A14N23LO_HZZd_600_150_1600.deriv.DAOD_EXOT15.e8253_e7400_s3126_r9364_r9315_p4696                        │ 1     │ MC16a │ 21.2.128.0 │\n",
    "│ mc16_13TeV.501829.MGPy8EG_A14N23LO_HZZd_600_150_1600.deriv.DAOD_EXOT15.e8253_s3126_r10201_p4696                                   │ 2     │ MC16d │ 21.2.128.0 │\n",
    "│ mc16_13TeV.501829.MGPy8EG_A14N23LO_HZZd_600_150_1600.deriv.DAOD_EXOT15.e8253_s3126_r10724_p4696                                   │ 3     │ MC16e │ 21.2.128.0 │\n",
    "│ mc16_13TeV.501829.MGPy8EG_A14N23LO_HZZd_600_150_1600.deriv.DAOD_EXOT15.e8253_s3126_r9364_p4696                                    │ 1     │ MC16a │ 21.2.128.0 │\n",
    "│ mc16_13TeV.501830.MGPy8EG_A14N23LO_HZZd_600_400_4600.deriv.DAOD_EXOT15.e8253_e7400_s3126_r10201_r10210_p4696                      │ 2     │ MC16d │ 21.2.128.0 │\n",
    "│ mc16_13TeV.501830.MGPy8EG_A14N23LO_HZZd_600_400_4600.deriv.DAOD_EXOT15.e8253_e7400_s3126_r10724_r10726_p4696                      │ 3     │ MC16e │ 21.2.128.0 │\n",
    "│ mc16_13TeV.501830.MGPy8EG_A14N23LO_HZZd_600_400_4600.deriv.DAOD_EXOT15.e8253_e7400_s3126_r9364_r9315_p4696                        │ 1     │ MC16a │ 21.2.128.0 │\n",
    "│ mc16_13TeV.501830.MGPy8EG_A14N23LO_HZZd_600_400_4600.deriv.DAOD_EXOT15.e8253_s3126_r10201_p4696                                   │ 2     │ MC16d │ 21.2.128.0 │\n",
    "│ mc16_13TeV.501830.MGPy8EG_A14N23LO_HZZd_600_400_4600.deriv.DAOD_EXOT15.e8253_s3126_r10724_p4696                                   │ 3     │ MC16e │ 21.2.128.0 │\n",
    "│ mc16_13TeV.501830.MGPy8EG_A14N23LO_HZZd_600_400_4600.deriv.DAOD_EXOT15.e8253_s3126_r9364_p4696                                    │ 1     │ MC16a │ 21.2.128.0 │\n",
    "│ mc16_13TeV.501832.MGPy8EG_A14N23LO_HZZd_600_150_4000.deriv.DAOD_EXOT15.e8253_e7400_s3126_r10201_r10210_p4696                      │ 2     │ MC16d │ 21.2.128.0 │\n",
    "│ mc16_13TeV.501832.MGPy8EG_A14N23LO_HZZd_600_150_4000.deriv.DAOD_EXOT15.e8253_e7400_s3126_r10724_r10726_p4696                      │ 3     │ MC16e │ 21.2.128.0 │\n",
    "│ mc16_13TeV.501832.MGPy8EG_A14N23LO_HZZd_600_150_4000.deriv.DAOD_EXOT15.e8253_e7400_s3126_r9364_r9315_p4696                        │ 1     │ MC16a │ 21.2.128.0 │\n",
    "│ mc16_13TeV.501832.MGPy8EG_A14N23LO_HZZd_600_150_4000.deriv.DAOD_EXOT15.e8253_s3126_r10201_p4696                                   │ 2     │ MC16d │ 21.2.128.0 │\n",
    "│ mc16_13TeV.501832.MGPy8EG_A14N23LO_HZZd_600_150_4000.deriv.DAOD_EXOT15.e8253_s3126_r10724_p4696                                   │ 3     │ MC16e │ 21.2.128.0 │\n",
    "│ mc16_13TeV.501832.MGPy8EG_A14N23LO_HZZd_600_150_4000.deriv.DAOD_EXOT15.e8253_s3126_r9364_p4696                                    │ 1     │ MC16a │ 21.2.128.0 │\n",
    "│ mc16_13TeV.501833.MGPy8EG_A14N23LO_GG_ZG_700_150_600.deriv.DAOD_EXOT15.e8253_e7400_s3126_r10201_r10210_p4696                      │ 5     │ MC16d │ 21.2.128.0 │\n",
    "│ mc16_13TeV.501833.MGPy8EG_A14N23LO_GG_ZG_700_150_600.deriv.DAOD_EXOT15.e8253_e7400_s3126_r9364_r9315_p4696                        │ 3     │ MC16a │ 21.2.128.0 │\n",
    "│ mc16_13TeV.501833.MGPy8EG_A14N23LO_GG_ZG_700_150_600.deriv.DAOD_EXOT15.e8253_s3126_r10201_p4696                                   │ 5     │ MC16d │ 21.2.128.0 │\n",
    "│ mc16_13TeV.501833.MGPy8EG_A14N23LO_GG_ZG_700_150_600.deriv.DAOD_EXOT15.e8253_s3126_r9364_p4696                                    │ 3     │ MC16a │ 21.2.128.0 │\n",
    "│ mc16_13TeV.501838.MGPy8EG_A14N23LO_GG_ZG_1100_1000_6000.deriv.DAOD_EXOT15.e8253_e7400_s3126_r10201_r10210_p4696                   │ 3     │ MC16d │ 21.2.128.0 │\n",
    "│ mc16_13TeV.501838.MGPy8EG_A14N23LO_GG_ZG_1100_1000_6000.deriv.DAOD_EXOT15.e8253_e7400_s3126_r10724_r10726_p4696                   │ 3     │ MC16e │ 21.2.128.0 │\n",
    "│ mc16_13TeV.501838.MGPy8EG_A14N23LO_GG_ZG_1100_1000_6000.deriv.DAOD_EXOT15.e8253_e7400_s3126_r9364_r9315_p4696                     │ 1     │ MC16a │ 21.2.128.0 │\n",
    "│ mc16_13TeV.501838.MGPy8EG_A14N23LO_GG_ZG_1100_1000_6000.deriv.DAOD_EXOT15.e8253_s3126_r10201_p4696                                │ 3     │ MC16d │ 21.2.128.0 │\n",
    "│ mc16_13TeV.501838.MGPy8EG_A14N23LO_GG_ZG_1100_1000_6000.deriv.DAOD_EXOT15.e8253_s3126_r10724_p4696                                │ 3     │ MC16e │ 21.2.128.0 │\n",
    "│ mc16_13TeV.501838.MGPy8EG_A14N23LO_GG_ZG_1100_1000_6000.deriv.DAOD_EXOT15.e8253_s3126_r9364_p4696                                 │ 1     │ MC16a │ 21.2.128.0 │\n",
    "│ mc16_13TeV.507682.MGPy8EG_A14N23LO_HZZd_125_16_1600.deriv.DAOD_EXOT15.e8307_e7400_s3126_r10201_r10210_p4696                       │ 4     │ MC16d │ 21.2.128.0 │\n",
    "│ mc16_13TeV.507682.MGPy8EG_A14N23LO_HZZd_125_16_1600.deriv.DAOD_EXOT15.e8307_e7400_s3126_r10724_r10726_p4696                       │ 4     │ MC16e │ 21.2.128.0 │\n",
    "│ mc16_13TeV.507682.MGPy8EG_A14N23LO_HZZd_125_16_1600.deriv.DAOD_EXOT15.e8307_e7400_s3126_r9364_r9315_p4696                         │ 2     │ MC16a │ 21.2.128.0 │\n",
    "│ mc16_13TeV.507682.MGPy8EG_A14N23LO_HZZd_125_16_1600.deriv.DAOD_EXOT15.e8307_s3126_r10201_p4696                                    │ 4     │ MC16d │ 21.2.128.0 │\n",
    "│ mc16_13TeV.507682.MGPy8EG_A14N23LO_HZZd_125_16_1600.deriv.DAOD_EXOT15.e8307_s3126_r10724_p4696                                    │ 4     │ MC16e │ 21.2.128.0 │\n",
    "│ mc16_13TeV.507682.MGPy8EG_A14N23LO_HZZd_125_16_1600.deriv.DAOD_EXOT15.e8307_s3126_r9364_p4696                                     │ 2     │ MC16a │ 21.2.128.0 │\n",
    "│ mc16_13TeV.512030.MGPy8EG_A14NNPDF23_ZH_LLP_H600_S50_ctau400.deriv.DAOD_EXOT15.e8412_e7400_s3126_r10201_r10210_p5037              │ 4     │ MC16d │ 21.2.139.0 │\n",
    "│ mc16_13TeV.512030.MGPy8EG_A14NNPDF23_ZH_LLP_H600_S50_ctau400.deriv.DAOD_EXOT15.e8412_e7400_s3126_r10724_r10726_p5037              │ 6     │ MC16e │ 21.2.139.0 │\n",
    "│ mc16_13TeV.512030.MGPy8EG_A14NNPDF23_ZH_LLP_H600_S50_ctau400.deriv.DAOD_EXOT15.e8412_e7400_s3126_r9364_r9315_p5037                │ 2     │ MC16a │ 21.2.139.0 │\n",
    "│ mc16_13TeV.512030.MGPy8EG_A14NNPDF23_ZH_LLP_H600_S50_ctau400.deriv.DAOD_EXOT15.e8412_s3126_r10201_p5037                           │ 4     │ MC16d │ 21.2.139.0 │\n",
    "│ mc16_13TeV.512030.MGPy8EG_A14NNPDF23_ZH_LLP_H600_S50_ctau400.deriv.DAOD_EXOT15.e8412_s3126_r10724_p5037                           │ 6     │ MC16e │ 21.2.139.0 │\n",
    "│ mc16_13TeV.512030.MGPy8EG_A14NNPDF23_ZH_LLP_H600_S50_ctau400.deriv.DAOD_EXOT15.e8412_s3126_r9364_p5037                            │ 2     │ MC16a │ 21.2.139.0 │\n",
    "│ mc16_13TeV.512031.MGPy8EG_A14NNPDF23_ZH_LLP_H600_S150_ctau1500.deriv.DAOD_EXOT15.e8412_e7400_s3126_r10201_r10210_p5037            │ 4     │ MC16d │ 21.2.139.0 │\n",
    "│ mc16_13TeV.512031.MGPy8EG_A14NNPDF23_ZH_LLP_H600_S150_ctau1500.deriv.DAOD_EXOT15.e8412_e7400_s3126_r10724_r10726_p5037            │ 4     │ MC16e │ 21.2.139.0 │\n",
    "│ mc16_13TeV.512031.MGPy8EG_A14NNPDF23_ZH_LLP_H600_S150_ctau1500.deriv.DAOD_EXOT15.e8412_e7400_s3126_r9364_r9315_p5037              │ 2     │ MC16a │ 21.2.139.0 │\n",
    "│ mc16_13TeV.512031.MGPy8EG_A14NNPDF23_ZH_LLP_H600_S150_ctau1500.deriv.DAOD_EXOT15.e8412_s3126_r10201_p5037                         │ 4     │ MC16d │ 21.2.139.0 │\n",
    "│ mc16_13TeV.512031.MGPy8EG_A14NNPDF23_ZH_LLP_H600_S150_ctau1500.deriv.DAOD_EXOT15.e8412_s3126_r10724_p5037                         │ 4     │ MC16e │ 21.2.139.0 │\n",
    "│ mc16_13TeV.512031.MGPy8EG_A14NNPDF23_ZH_LLP_H600_S150_ctau1500.deriv.DAOD_EXOT15.e8412_s3126_r9364_p5037                          │ 2     │ MC16a │ 21.2.139.0 │\n",
    "│ mc16_13TeV.512032.MGPy8EG_A14NNPDF23_ZH_LLP_H600_S150_ctau3500.deriv.DAOD_EXOT15.e8412_e7400_s3126_r10201_r10210_p5037            │ 2     │ MC16d │ 21.2.139.0 │\n",
    "│ mc16_13TeV.512032.MGPy8EG_A14NNPDF23_ZH_LLP_H600_S150_ctau3500.deriv.DAOD_EXOT15.e8412_e7400_s3126_r10724_r10726_p5037            │ 2     │ MC16e │ 21.2.139.0 │\n",
    "│ mc16_13TeV.512032.MGPy8EG_A14NNPDF23_ZH_LLP_H600_S150_ctau3500.deriv.DAOD_EXOT15.e8412_e7400_s3126_r9364_r9315_p5037              │ 1     │ MC16a │ 21.2.139.0 │\n",
    "│ mc16_13TeV.512032.MGPy8EG_A14NNPDF23_ZH_LLP_H600_S150_ctau3500.deriv.DAOD_EXOT15.e8412_s3126_r10201_p5037                         │ 2     │ MC16d │ 21.2.139.0 │\n",
    "│ mc16_13TeV.512032.MGPy8EG_A14NNPDF23_ZH_LLP_H600_S150_ctau3500.deriv.DAOD_EXOT15.e8412_s3126_r10724_p5037                         │ 2     │ MC16e │ 21.2.139.0 │\n",
    "│ mc16_13TeV.512032.MGPy8EG_A14NNPDF23_ZH_LLP_H600_S150_ctau3500.deriv.DAOD_EXOT15.e8412_s3126_r9364_p5037                          │ 1     │ MC16a │ 21.2.139.0 │\n",
    "│ mc16_13TeV.512033.MGPy8EG_A14NNPDF23_ZH_LLP_H600_S275_ctau2500.deriv.DAOD_EXOT15.e8412_e7400_s3126_r10201_r10210_p5037            │ 6     │ MC16d │ 21.2.139.0 │\n",
    "│ mc16_13TeV.512033.MGPy8EG_A14NNPDF23_ZH_LLP_H600_S275_ctau2500.deriv.DAOD_EXOT15.e8412_e7400_s3126_r10724_r10726_p5037            │ 4     │ MC16e │ 21.2.139.0 │\n",
    "│ mc16_13TeV.512033.MGPy8EG_A14NNPDF23_ZH_LLP_H600_S275_ctau2500.deriv.DAOD_EXOT15.e8412_e7400_s3126_r9364_r9315_p5037              │ 2     │ MC16a │ 21.2.139.0 │\n",
    "│ mc16_13TeV.512033.MGPy8EG_A14NNPDF23_ZH_LLP_H600_S275_ctau2500.deriv.DAOD_EXOT15.e8412_s3126_r10201_p5037                         │ 6     │ MC16d │ 21.2.139.0 │\n",
    "│ mc16_13TeV.512033.MGPy8EG_A14NNPDF23_ZH_LLP_H600_S275_ctau2500.deriv.DAOD_EXOT15.e8412_s3126_r10724_p5037                         │ 4     │ MC16e │ 21.2.139.0 │\n",
    "│ mc16_13TeV.512033.MGPy8EG_A14NNPDF23_ZH_LLP_H600_S275_ctau2500.deriv.DAOD_EXOT15.e8412_s3126_r9364_p5037                          │ 2     │ MC16a │ 21.2.139.0 │\n",
    "│ mc16_13TeV.512051.MGPy8EG_A14NNPDF23_WH_LLP_H600_S50_ctau400.deriv.DAOD_EXOT15.e8412_e7400_s3126_r10201_r10210_p5037              │ 5     │ MC16d │ 21.2.139.0 │\n",
    "│ mc16_13TeV.512051.MGPy8EG_A14NNPDF23_WH_LLP_H600_S50_ctau400.deriv.DAOD_EXOT15.e8412_e7400_s3126_r10724_r10726_p5037              │ 4     │ MC16e │ 21.2.139.0 │\n",
    "│ mc16_13TeV.512051.MGPy8EG_A14NNPDF23_WH_LLP_H600_S50_ctau400.deriv.DAOD_EXOT15.e8412_e7400_s3126_r9364_r9315_p5037                │ 2     │ MC16a │ 21.2.139.0 │\n",
    "│ mc16_13TeV.512051.MGPy8EG_A14NNPDF23_WH_LLP_H600_S50_ctau400.deriv.DAOD_EXOT15.e8412_s3126_r10201_p5037                           │ 5     │ MC16d │ 21.2.139.0 │\n",
    "│ mc16_13TeV.512051.MGPy8EG_A14NNPDF23_WH_LLP_H600_S50_ctau400.deriv.DAOD_EXOT15.e8412_s3126_r10724_p5037                           │ 4     │ MC16e │ 21.2.139.0 │\n",
    "│ mc16_13TeV.512051.MGPy8EG_A14NNPDF23_WH_LLP_H600_S50_ctau400.deriv.DAOD_EXOT15.e8412_s3126_r9364_p5037                            │ 2     │ MC16a │ 21.2.139.0 │\n",
    "│ mc16_13TeV.512052.MGPy8EG_A14NNPDF23_WH_LLP_H600_S150_ctau1500.deriv.DAOD_EXOT15.e8412_e7400_s3126_r10201_r10210_p5037            │ 4     │ MC16d │ 21.2.139.0 │\n",
    "│ mc16_13TeV.512052.MGPy8EG_A14NNPDF23_WH_LLP_H600_S150_ctau1500.deriv.DAOD_EXOT15.e8412_e7400_s3126_r10724_r10726_p5037            │ 4     │ MC16e │ 21.2.139.0 │\n",
    "│ mc16_13TeV.512052.MGPy8EG_A14NNPDF23_WH_LLP_H600_S150_ctau1500.deriv.DAOD_EXOT15.e8412_e7400_s3126_r9364_r9315_p5037              │ 2     │ MC16a │ 21.2.139.0 │\n",
    "│ mc16_13TeV.512052.MGPy8EG_A14NNPDF23_WH_LLP_H600_S150_ctau1500.deriv.DAOD_EXOT15.e8412_s3126_r10201_p5037                         │ 4     │ MC16d │ 21.2.139.0 │\n",
    "│ mc16_13TeV.512052.MGPy8EG_A14NNPDF23_WH_LLP_H600_S150_ctau1500.deriv.DAOD_EXOT15.e8412_s3126_r10724_p5037                         │ 4     │ MC16e │ 21.2.139.0 │\n",
    "│ mc16_13TeV.512052.MGPy8EG_A14NNPDF23_WH_LLP_H600_S150_ctau1500.deriv.DAOD_EXOT15.e8412_s3126_r9364_p5037                          │ 2     │ MC16a │ 21.2.139.0 │\n",
    "│ mc16_13TeV.512053.MGPy8EG_A14NNPDF23_WH_LLP_H600_S150_ctau3500.deriv.DAOD_EXOT15.e8412_e7400_s3126_r10201_r10210_p5037            │ 2     │ MC16d │ 21.2.139.0 │\n",
    "│ mc16_13TeV.512053.MGPy8EG_A14NNPDF23_WH_LLP_H600_S150_ctau3500.deriv.DAOD_EXOT15.e8412_e7400_s3126_r10724_r10726_p5037            │ 2     │ MC16e │ 21.2.139.0 │\n",
    "│ mc16_13TeV.512053.MGPy8EG_A14NNPDF23_WH_LLP_H600_S150_ctau3500.deriv.DAOD_EXOT15.e8412_e7400_s3126_r9364_r9315_p5037              │ 1     │ MC16a │ 21.2.139.0 │\n",
    "│ mc16_13TeV.512053.MGPy8EG_A14NNPDF23_WH_LLP_H600_S150_ctau3500.deriv.DAOD_EXOT15.e8412_s3126_r10201_p5037                         │ 2     │ MC16d │ 21.2.139.0 │\n",
    "│ mc16_13TeV.512053.MGPy8EG_A14NNPDF23_WH_LLP_H600_S150_ctau3500.deriv.DAOD_EXOT15.e8412_s3126_r10724_p5037                         │ 2     │ MC16e │ 21.2.139.0 │\n",
    "│ mc16_13TeV.512053.MGPy8EG_A14NNPDF23_WH_LLP_H600_S150_ctau3500.deriv.DAOD_EXOT15.e8412_s3126_r9364_p5037                          │ 1     │ MC16a │ 21.2.139.0 │\n",
    "│ mc16_13TeV.512054.MGPy8EG_A14NNPDF23_WH_LLP_H600_S275_ctau2500.deriv.DAOD_EXOT15.e8412_e7400_s3126_r10201_r10210_p5037            │ 4     │ MC16d │ 21.2.139.0 │\n",
    "│ mc16_13TeV.512054.MGPy8EG_A14NNPDF23_WH_LLP_H600_S275_ctau2500.deriv.DAOD_EXOT15.e8412_e7400_s3126_r10724_r10726_p5037            │ 3     │ MC16e │ 21.2.139.0 │\n",
    "│ mc16_13TeV.512054.MGPy8EG_A14NNPDF23_WH_LLP_H600_S275_ctau2500.deriv.DAOD_EXOT15.e8412_e7400_s3126_r9364_r9315_p5037              │ 2     │ MC16a │ 21.2.139.0 │\n",
    "│ mc16_13TeV.512054.MGPy8EG_A14NNPDF23_WH_LLP_H600_S275_ctau2500.deriv.DAOD_EXOT15.e8412_s3126_r10201_p5037                         │ 4     │ MC16d │ 21.2.139.0 │\n",
    "│ mc16_13TeV.512054.MGPy8EG_A14NNPDF23_WH_LLP_H600_S275_ctau2500.deriv.DAOD_EXOT15.e8412_s3126_r10724_p5037                         │ 3     │ MC16e │ 21.2.139.0 │\n",
    "│ mc16_13TeV.512054.MGPy8EG_A14NNPDF23_WH_LLP_H600_S275_ctau2500.deriv.DAOD_EXOT15.e8412_s3126_r9364_p5037                          │ 2     │ MC16a │ 21.2.139.0 │\n",
    "└───────────────────────────────────────────────────────────────────────────────────────────────────────────────────────────────────┴───────┴───────┴────────────┘\n",
    "\n",
    "A quick look at other scoopes, like `mc20_13TeV` and `mc23_13p6TeV` shows that there are no other samples. This is in.\n",
    "```"
   ]
  },
  {
   "cell_type": "code",
   "execution_count": 17,
   "metadata": {},
   "outputs": [],
   "source": [
    "rucio_ds = \"mc16_13TeV.512033.MGPy8EG_A14NNPDF23_ZH_LLP_H600_S275_ctau2500.deriv.DAOD_EXOT15.e8412_e7400_s3126_r10201_r10210_p5037\"\n",
    "ds = SXDSAtlasxAODR21(rucio_ds, backend='atlasr21')"
   ]
  },
  {
   "cell_type": "markdown",
   "metadata": {},
   "source": [
    "## Event level information\n",
    "\n",
    "This is the basic info for run and event number"
   ]
  },
  {
   "cell_type": "code",
   "execution_count": 18,
   "metadata": {},
   "outputs": [],
   "source": [
    "event_info_query = ds.Select(\n",
    "    lambda e: {\n",
    "        \"run_number\": e.EventInfo(\"EventInfo\").runNumber(),\n",
    "        \"event_number\": e.EventInfo(\"EventInfo\").eventNumber(),\n",
    "    }\n",
    ")\n",
    "\n",
    "event_info = event_info_query.AsAwkwardArray().value()"
   ]
  },
  {
   "cell_type": "markdown",
   "metadata": {},
   "source": [
    "## Jet PT's\n",
    "\n",
    "Lets go after the simple jet variables we need."
   ]
  },
  {
   "cell_type": "code",
   "execution_count": 19,
   "metadata": {},
   "outputs": [],
   "source": [
    "jet_kinematics_query = (\n",
    "    ds.SelectMany(lambda e: e.Jets(uncalibrated_collection=\"AntiKt4EMTopoJets\"))\n",
    "    .Where(lambda j: (j.pt() / 1000) > 30)\n",
    "    .Select(lambda j: {\"jet_pt\": j.pt() / 1000.0, \"jet_eta\": j.eta(), \"jet_phi\": j.phi()})\n",
    ")\n",
    "jet_kinematics = jet_kinematics_query.AsAwkwardArray().value()"
   ]
  },
  {
   "cell_type": "code",
   "execution_count": 20,
   "metadata": {},
   "outputs": [
    {
     "data": {
      "text/html": [
       "<pre>[{jet_pt: 214, jet_eta: -1.54, jet_phi: -2.91},\n",
       " {jet_pt: 169, jet_eta: -1.72, jet_phi: -2.32},\n",
       " {jet_pt: 52.6, jet_eta: 0.514, jet_phi: -2.84},\n",
       " {jet_pt: 52.3, jet_eta: -1.9, jet_phi: 0.203},\n",
       " {jet_pt: 119, jet_eta: 1.37, jet_phi: 0.995},\n",
       " {jet_pt: 109, jet_eta: 0.408, jet_phi: -1.59},\n",
       " {jet_pt: 70.1, jet_eta: -0.00618, jet_phi: 2.8},\n",
       " {jet_pt: 203, jet_eta: -1.7, jet_phi: 2.72},\n",
       " {jet_pt: 111, jet_eta: -2.76, jet_phi: 0.76},\n",
       " {jet_pt: 101, jet_eta: -1.03, jet_phi: -1.09},\n",
       " ...,\n",
       " {jet_pt: 473, jet_eta: 0.36, jet_phi: -2.97},\n",
       " {jet_pt: 185, jet_eta: -1, jet_phi: 0.257},\n",
       " {jet_pt: 159, jet_eta: -1.85, jet_phi: -0.389},\n",
       " {jet_pt: 63.8, jet_eta: -0.496, jet_phi: 0.349},\n",
       " {jet_pt: 31.3, jet_eta: -0.0608, jet_phi: 1.77},\n",
       " {jet_pt: 237, jet_eta: -0.343, jet_phi: -2.59},\n",
       " {jet_pt: 173, jet_eta: -0.481, jet_phi: 1.13},\n",
       " {jet_pt: 107, jet_eta: -1.73, jet_phi: -1.08},\n",
       " {jet_pt: 37.8, jet_eta: -0.0409, jet_phi: -2.14}]\n",
       "--------------------------------------------------\n",
       "type: 240403 * {\n",
       "    jet_pt: float64,\n",
       "    jet_eta: float64,\n",
       "    jet_phi: float64\n",
       "}</pre>"
      ],
      "text/plain": [
       "<Array [{jet_pt: 214, jet_eta: ..., ...}, ...] type='240403 * {jet_pt: floa...'>"
      ]
     },
     "execution_count": 20,
     "metadata": {},
     "output_type": "execute_result"
    }
   ],
   "source": [
    "jet_kinematics.compute()"
   ]
  },
  {
   "cell_type": "markdown",
   "metadata": {},
   "source": [
    "## Calorimeter TopoClusters\n",
    "\n",
    "In the code this is mostly referred to as _jet constituents_. Here we are going to get all the clusters - not just the ones that are close to a jet."
   ]
  },
  {
   "cell_type": "code",
   "execution_count": 30,
   "metadata": {},
   "outputs": [
    {
     "data": {
      "application/vnd.jupyter.widget-view+json": {
       "model_id": "126d179d6fb54af6af1663e0fc951984",
       "version_major": 2,
       "version_minor": 0
      },
      "text/plain": [
       "mc16_13TeV.512033.MG...:   0%|          | 0/9000000000.0 [00:00]"
      ]
     },
     "metadata": {},
     "output_type": "display_data"
    },
    {
     "data": {
      "application/vnd.jupyter.widget-view+json": {
       "model_id": "1d794ed37ad34964abcdc79f775111ae",
       "version_major": 2,
       "version_minor": 0
      },
      "text/plain": [
       "        mc16_13TeV.512033.MG... Downloaded:   0%|          | 0/9000000000.0 [00:00]"
      ]
     },
     "metadata": {},
     "output_type": "display_data"
    }
   ],
   "source": [
    "class MyEnum(Enum):\n",
    "    ONE = 1\n",
    "    TWO = 2\n",
    "\n",
    "\n",
    "clusters_query = (\n",
    "    ds.Select(lambda e: e.CaloClusters(\"egammaClusters\"))\n",
    "    .Select(lambda e: {\n",
    "        \"pt\": e.Select(lambda cluster: cluster.pt() / 1000.0),\n",
    "        \"eta\": e.Select(lambda cluster: cluster.eta() / 1000.0),\n",
    "        \"phi\": e.Select(lambda cluster: cluster.phi() / 1000.0),\n",
    "        \"l1ecal\": e.Select(lambda cluster: cluster.energyBE(0) / 1000.0),\n",
    "        \"l2ecal\": e.Select(lambda cluster: cluster.energyBE(1) / 1000.0),\n",
    "        \"l3ecal\": e.Select(lambda cluster: cluster.energyBE(2) / 1000.0),\n",
    "        \"l4ecal\": e.Select(lambda cluster: cluster.energyBE(3) / 1000.0),\n",
    "    }\n",
    "    ))\n",
    "\n",
    "clusters = clusters_query.AsAwkwardArray().value()"
   ]
  },
  {
   "cell_type": "code",
   "execution_count": 31,
   "metadata": {},
   "outputs": [
    {
     "data": {
      "text/html": [
       "<pre>[{pt: [135, 169, 7.17, ..., 1.85, 2.19], eta: [-0.0017, ...], phi: [...], ...},\n",
       " {pt: [49.2, 4.24, ..., 1.96, 1.87], eta: [0.000368, ...], phi: [...], ...},\n",
       " {pt: [11, 7.46, 3.81, ..., 1.98, 2.34], eta: [...], phi: [...], ...},\n",
       " {pt: [42.5, 24.4, ..., 1.92, 1.81], eta: [-0.000171, ...], phi: [...], ...},\n",
       " {pt: [195, 77.3, 6.14, ..., 2.03, 1.72], eta: [...], phi: [...], ...},\n",
       " {pt: [66.7, 6.37, ..., 3.15, 2.34], eta: [0.00219, ...], phi: [...], ...},\n",
       " {pt: [31, 4.16, 4.57, ..., 1.96, 1.93], eta: [...], phi: [...], ...},\n",
       " {pt: [234, 108, 92.8, ..., 4.5, 2.01], eta: [-0.0014, ...], phi: [...], ...},\n",
       " {pt: [28.3, 29.4, ..., 2.61, 1.74], eta: [0.0013, ...], phi: [...], ...},\n",
       " {pt: [179, 92.4, 14.5, ..., 1.89, 3.02], eta: [...], phi: [...], ...},\n",
       " ...,\n",
       " {pt: [261, 120, 61.6, ..., 1.73, 1.67], eta: [...], phi: [...], ...},\n",
       " {pt: [76.6, 41.4, ..., 1.75, 1.84], eta: [-0.0012, ...], phi: [...], ...},\n",
       " {pt: [51.4, 36.8, 21, ..., 1.9, 2.32], eta: [...], phi: [...], ...},\n",
       " {pt: [47.9, 22.7, ..., 3.18, 2.78], eta: [-0.000722, ...], phi: [...], ...},\n",
       " {pt: [28.1, 5.21, ..., 1.78, 1.94], eta: [0.000512, ...], phi: [...], ...},\n",
       " {pt: [57.6, 49.3, ..., 1.95, 2.83], eta: [-0.000139, ...], phi: [...], ...},\n",
       " {pt: [10.2, 2.63, 170, ..., 2.45, 2.66], eta: [...], phi: [...], ...},\n",
       " {pt: [206, 178, 81.7, ..., 1.82, 1.66], eta: [...], phi: [...], ...},\n",
       " {pt: [153, 13.2, 5.56, ..., 3.77, 1.77], eta: [...], phi: [...], ...}]\n",
       "-------------------------------------------------------------------------------\n",
       "type: 50000 * {\n",
       "    pt: var * float64,\n",
       "    eta: var * float64,\n",
       "    phi: var * float64,\n",
       "    l1ecal: var * float64,\n",
       "    l2ecal: var * float64,\n",
       "    l3ecal: var * float64,\n",
       "    l4ecal: var * float64\n",
       "}</pre>"
      ],
      "text/plain": [
       "<Array [{pt: [135, ...], eta: [...], ...}, ...] type='50000 * {pt: var * fl...'>"
      ]
     },
     "execution_count": 31,
     "metadata": {},
     "output_type": "execute_result"
    }
   ],
   "source": [
    "clusters.compute()"
   ]
  },
  {
   "cell_type": "code",
   "execution_count": 32,
   "metadata": {},
   "outputs": [
    {
     "data": {
      "text/html": [
       "<pre>[[43.1, 71.5, 0, -0.0741, 0, 0.138, ..., 0, 0.0807, 0.184, -0.0664, 0.142, 0],\n",
       " [-0.00948, 0, 13.1, 2.24, 0.285, 0.0882, ..., 0, -0.0122, -0.0133, 0.355, 0],\n",
       " [0.608, 2.13, 0.598, 0.18, 3.72, 0.0191, ..., -0.131, 0.104, 0.182, 0, 0.42],\n",
       " [0.912, 0.818, 3.35, -0.0588, 7.25, 13, ..., 0, 0.0376, 0, 1.02, -0.0567, 0],\n",
       " [1.63, 0.66, 0, 0.339, 1.65, 0, ..., 0.183, -0.138, 0.273, 0.2, -0.0222],\n",
       " [0, 0.0781, 1.31, 0.43, 0.938, 1.57, ..., 0.315, 0.0106, 0.146, 1.51, 0.782],\n",
       " [1.01, -0.0225, 0.495, -0.0961, 0, 0.172, ..., 0, 0, 1.12, 0.526, 0, 0.27],\n",
       " [51.1, 29.9, 3.79, 29.9, 0.146, 0.855, ..., 0.53, 0.41, 0.196, 2.39, 0.212],\n",
       " [0.614, 4.18, 2.11, 0, 0, 0.441, 0, ..., 0.144, 0, 2.74, -0.116, 0, 0],\n",
       " [3.68, 22.4, 0.359, 0.272, 9.47, 0, ..., 0.449, -0.0164, 0.264, 0.0946, 1.99],\n",
       " ...,\n",
       " [4.97, 5.36, 14.8, 0.452, -3.67e-05, ..., 0.136, 0.0524, 0.176, -0.0507, 0],\n",
       " [6.87, 8.38, 0.919, 0.409, 0, 2.53, ..., -0.0855, 0.0436, 0.0689, 0, 0.152],\n",
       " [0, 1.38, 2.41, 0.472, 0.179, 0.49, ..., 0.0179, 0.0519, 0.547, -0.138, 0.519],\n",
       " [2.42, 1.03, 0.241, 1.54, 2.74, 1.48, ..., 0.109, 0.36, 0.758, 0.874, 0],\n",
       " [2.95, 0.566, 1.76, 0.694, 0.38, ..., -0.0489, 0.0498, -0.205, 0.254, -0.409],\n",
       " [0.595, 14.2, 0, 1.1, 0.9, 0.0763, ..., -0.00838, 0, -0.139, 0.0298, 0.968],\n",
       " [0.33, -0.00472, 3.42, 0.135, -0.0677, ..., 0.463, -0.0517, 0.336, 0.428, 0],\n",
       " [0.638, 4.87, 0, 0.173, 0, 0, 0, ..., 0.877, 0.356, 0, 0.246, 0.32, -0.0262],\n",
       " [0.657, 2.51, 0.0994, 0, 0.573, 0.377, ..., 0.0892, 1.83, 0.798, 0, 0.776, 0]]\n",
       "--------------------------------------------------------------------------------\n",
       "type: 50000 * var * float64</pre>"
      ],
      "text/plain": [
       "<Array [[43.1, 71.5, 0, ..., 0.142, 0], ...] type='50000 * var * float64'>"
      ]
     },
     "execution_count": 32,
     "metadata": {},
     "output_type": "execute_result"
    }
   ],
   "source": [
    "clusters.compute().l1ecal"
   ]
  },
  {
   "cell_type": "code",
   "execution_count": null,
   "metadata": {},
   "outputs": [],
   "source": []
  }
 ],
 "metadata": {
  "kernelspec": {
   "display_name": ".venv",
   "language": "python",
   "name": "python3"
  },
  "language_info": {
   "codemirror_mode": {
    "name": "ipython",
    "version": 3
   },
   "file_extension": ".py",
   "mimetype": "text/x-python",
   "name": "python",
   "nbconvert_exporter": "python",
   "pygments_lexer": "ipython3",
   "version": "3.10.8"
  }
 },
 "nbformat": 4,
 "nbformat_minor": 2
}
